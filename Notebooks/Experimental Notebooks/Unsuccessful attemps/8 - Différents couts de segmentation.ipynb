{
 "cells": [
  {
   "cell_type": "code",
   "execution_count": 1,
   "metadata": {
    "ExecuteTime": {
     "end_time": "2020-08-25T14:46:51.383872Z",
     "start_time": "2020-08-25T14:46:50.529840Z"
    }
   },
   "outputs": [],
   "source": [
    "import musicntd.scripts.little_tests as to_test\n",
    "import musicntd.scripts.final_tests as final_tests"
   ]
  },
  {
   "cell_type": "markdown",
   "metadata": {},
   "source": [
    "# Parameters"
   ]
  },
  {
   "cell_type": "code",
   "execution_count": 2,
   "metadata": {
    "ExecuteTime": {
     "end_time": "2020-08-25T14:46:51.389859Z",
     "start_time": "2020-08-25T14:46:51.384871Z"
    }
   },
   "outputs": [],
   "source": [
    "# Fixed hyperparams\n",
    "subdivision = 96\n",
    "annotations_type = \"MIREX10\"\n",
    "penalty_func = \"modulo8\" # \"Favouring 8, then modulo 4\"\n",
    "# Paths\n",
    "entire_rwc = \"C:\\\\Users\\\\amarmore\\\\Desktop\\\\Audio samples\\\\RWC Pop\\\\Entire RWC\"\n",
    "even_songs = \"C:\\\\Users\\\\amarmore\\\\Desktop\\\\Audio samples\\\\RWC Pop\\\\Even songs\"\n",
    "odd_songs = \"C:\\\\Users\\\\amarmore\\\\Desktop\\\\Audio samples\\\\RWC Pop\\\\Odd songs\"\n",
    "ranks_rhythm = [12,16,20,24,28,32,36,40,44,48]\n",
    "ranks_pattern = [12,16,20,24,28,32,36,40,44,48]\n",
    "penalty_range = [i/2 for i in range(0,10)]#[1.5 + i/10 for i in range(0,10,2)]"
   ]
  },
  {
   "cell_type": "markdown",
   "metadata": {},
   "source": [
    "#  Fixed parameters"
   ]
  },
  {
   "cell_type": "code",
   "execution_count": 3,
   "metadata": {
    "ExecuteTime": {
     "end_time": "2020-08-25T14:48:28.172442Z",
     "start_time": "2020-08-25T14:46:51.391853Z"
    }
   },
   "outputs": [
    {
     "data": {
      "text/html": [
       "<style  type=\"text/css\" >\n",
       "#T_0951cda2_e6e2_11ea_8062_8c04ba3e1d36row0_col5{\n",
       "            width:  10em;\n",
       "             height:  80%;\n",
       "        }#T_0951cda2_e6e2_11ea_8062_8c04ba3e1d36row1_col5{\n",
       "            width:  10em;\n",
       "             height:  80%;\n",
       "            background:  linear-gradient(90deg,#5fba7d 0.7%, transparent 0.7%);\n",
       "        }#T_0951cda2_e6e2_11ea_8062_8c04ba3e1d36row2_col5{\n",
       "            width:  10em;\n",
       "             height:  80%;\n",
       "            background:  linear-gradient(90deg,#5fba7d 70.7%, transparent 70.7%);\n",
       "        }#T_0951cda2_e6e2_11ea_8062_8c04ba3e1d36row3_col5{\n",
       "            width:  10em;\n",
       "             height:  80%;\n",
       "            background:  linear-gradient(90deg,#5fba7d 84.9%, transparent 84.9%);\n",
       "        }#T_0951cda2_e6e2_11ea_8062_8c04ba3e1d36row4_col5{\n",
       "            width:  10em;\n",
       "             height:  80%;\n",
       "            background:  linear-gradient(90deg,#5fba7d 100.0%, transparent 100.0%);\n",
       "        }#T_0951cda2_e6e2_11ea_8062_8c04ba3e1d36row5_col5{\n",
       "            width:  10em;\n",
       "             height:  80%;\n",
       "            background:  linear-gradient(90deg,#5fba7d 90.5%, transparent 90.5%);\n",
       "        }#T_0951cda2_e6e2_11ea_8062_8c04ba3e1d36row6_col5{\n",
       "            width:  10em;\n",
       "             height:  80%;\n",
       "            background:  linear-gradient(90deg,#5fba7d 78.6%, transparent 78.6%);\n",
       "        }#T_0951cda2_e6e2_11ea_8062_8c04ba3e1d36row7_col5{\n",
       "            width:  10em;\n",
       "             height:  80%;\n",
       "            background:  linear-gradient(90deg,#5fba7d 80.7%, transparent 80.7%);\n",
       "        }#T_0951cda2_e6e2_11ea_8062_8c04ba3e1d36row8_col5{\n",
       "            width:  10em;\n",
       "             height:  80%;\n",
       "            background:  linear-gradient(90deg,#5fba7d 68.4%, transparent 68.4%);\n",
       "        }#T_0951cda2_e6e2_11ea_8062_8c04ba3e1d36row9_col5{\n",
       "            width:  10em;\n",
       "             height:  80%;\n",
       "            background:  linear-gradient(90deg,#5fba7d 68.9%, transparent 68.9%);\n",
       "        }</style><table id=\"T_0951cda2_e6e2_11ea_8062_8c04ba3e1d36\" ><thead>    <tr>        <th class=\"blank level0\" ></th>        <th class=\"col_heading level0 col0\" >True Positives</th>        <th class=\"col_heading level0 col1\" >False Positives</th>        <th class=\"col_heading level0 col2\" >False Negatives</th>        <th class=\"col_heading level0 col3\" >Precision</th>        <th class=\"col_heading level0 col4\" >Recall</th>        <th class=\"col_heading level0 col5\" >F measure</th>    </tr></thead><tbody>\n",
       "                <tr>\n",
       "                        <th id=\"T_0951cda2_e6e2_11ea_8062_8c04ba3e1d36level0_row0\" class=\"row_heading level0 row0\" >0.0</th>\n",
       "                        <td id=\"T_0951cda2_e6e2_11ea_8062_8c04ba3e1d36row0_col0\" class=\"data row0 col0\" >12.2000</td>\n",
       "                        <td id=\"T_0951cda2_e6e2_11ea_8062_8c04ba3e1d36row0_col1\" class=\"data row0 col1\" >38.1400</td>\n",
       "                        <td id=\"T_0951cda2_e6e2_11ea_8062_8c04ba3e1d36row0_col2\" class=\"data row0 col2\" >6.6100</td>\n",
       "                        <td id=\"T_0951cda2_e6e2_11ea_8062_8c04ba3e1d36row0_col3\" class=\"data row0 col3\" >0.2548</td>\n",
       "                        <td id=\"T_0951cda2_e6e2_11ea_8062_8c04ba3e1d36row0_col4\" class=\"data row0 col4\" >0.6561</td>\n",
       "                        <td id=\"T_0951cda2_e6e2_11ea_8062_8c04ba3e1d36row0_col5\" class=\"data row0 col5\" >0.3623</td>\n",
       "            </tr>\n",
       "            <tr>\n",
       "                        <th id=\"T_0951cda2_e6e2_11ea_8062_8c04ba3e1d36level0_row1\" class=\"row_heading level0 row1\" >0.5</th>\n",
       "                        <td id=\"T_0951cda2_e6e2_11ea_8062_8c04ba3e1d36row1_col0\" class=\"data row1 col0\" >12.3300</td>\n",
       "                        <td id=\"T_0951cda2_e6e2_11ea_8062_8c04ba3e1d36row1_col1\" class=\"data row1 col1\" >38.3600</td>\n",
       "                        <td id=\"T_0951cda2_e6e2_11ea_8062_8c04ba3e1d36row1_col2\" class=\"data row1 col2\" >6.4800</td>\n",
       "                        <td id=\"T_0951cda2_e6e2_11ea_8062_8c04ba3e1d36row1_col3\" class=\"data row1 col3\" >0.2541</td>\n",
       "                        <td id=\"T_0951cda2_e6e2_11ea_8062_8c04ba3e1d36row1_col4\" class=\"data row1 col4\" >0.6627</td>\n",
       "                        <td id=\"T_0951cda2_e6e2_11ea_8062_8c04ba3e1d36row1_col5\" class=\"data row1 col5\" >0.3631</td>\n",
       "            </tr>\n",
       "            <tr>\n",
       "                        <th id=\"T_0951cda2_e6e2_11ea_8062_8c04ba3e1d36level0_row2\" class=\"row_heading level0 row2\" >1.0</th>\n",
       "                        <td id=\"T_0951cda2_e6e2_11ea_8062_8c04ba3e1d36row2_col0\" class=\"data row2 col0\" >10.9200</td>\n",
       "                        <td id=\"T_0951cda2_e6e2_11ea_8062_8c04ba3e1d36row2_col1\" class=\"data row2 col1\" >21.6400</td>\n",
       "                        <td id=\"T_0951cda2_e6e2_11ea_8062_8c04ba3e1d36row2_col2\" class=\"data row2 col2\" >7.8900</td>\n",
       "                        <td id=\"T_0951cda2_e6e2_11ea_8062_8c04ba3e1d36row2_col3\" class=\"data row2 col3\" >0.3593</td>\n",
       "                        <td id=\"T_0951cda2_e6e2_11ea_8062_8c04ba3e1d36row2_col4\" class=\"data row2 col4\" >0.5910</td>\n",
       "                        <td id=\"T_0951cda2_e6e2_11ea_8062_8c04ba3e1d36row2_col5\" class=\"data row2 col5\" >0.4368</td>\n",
       "            </tr>\n",
       "            <tr>\n",
       "                        <th id=\"T_0951cda2_e6e2_11ea_8062_8c04ba3e1d36level0_row3\" class=\"row_heading level0 row3\" >1.5</th>\n",
       "                        <td id=\"T_0951cda2_e6e2_11ea_8062_8c04ba3e1d36row3_col0\" class=\"data row3 col0\" >10.7200</td>\n",
       "                        <td id=\"T_0951cda2_e6e2_11ea_8062_8c04ba3e1d36row3_col1\" class=\"data row3 col1\" >19.0700</td>\n",
       "                        <td id=\"T_0951cda2_e6e2_11ea_8062_8c04ba3e1d36row3_col2\" class=\"data row3 col2\" >8.0900</td>\n",
       "                        <td id=\"T_0951cda2_e6e2_11ea_8062_8c04ba3e1d36row3_col3\" class=\"data row3 col3\" >0.3845</td>\n",
       "                        <td id=\"T_0951cda2_e6e2_11ea_8062_8c04ba3e1d36row3_col4\" class=\"data row3 col4\" >0.5805</td>\n",
       "                        <td id=\"T_0951cda2_e6e2_11ea_8062_8c04ba3e1d36row3_col5\" class=\"data row3 col5\" >0.4518</td>\n",
       "            </tr>\n",
       "            <tr>\n",
       "                        <th id=\"T_0951cda2_e6e2_11ea_8062_8c04ba3e1d36level0_row4\" class=\"row_heading level0 row4\" >2.0</th>\n",
       "                        <td id=\"T_0951cda2_e6e2_11ea_8062_8c04ba3e1d36row4_col0\" class=\"data row4 col0\" >10.2100</td>\n",
       "                        <td id=\"T_0951cda2_e6e2_11ea_8062_8c04ba3e1d36row4_col1\" class=\"data row4 col1\" >15.2400</td>\n",
       "                        <td id=\"T_0951cda2_e6e2_11ea_8062_8c04ba3e1d36row4_col2\" class=\"data row4 col2\" >8.6000</td>\n",
       "                        <td id=\"T_0951cda2_e6e2_11ea_8062_8c04ba3e1d36row4_col3\" class=\"data row4 col3\" >0.4202</td>\n",
       "                        <td id=\"T_0951cda2_e6e2_11ea_8062_8c04ba3e1d36row4_col4\" class=\"data row4 col4\" >0.5513</td>\n",
       "                        <td id=\"T_0951cda2_e6e2_11ea_8062_8c04ba3e1d36row4_col5\" class=\"data row4 col5\" >0.4677</td>\n",
       "            </tr>\n",
       "            <tr>\n",
       "                        <th id=\"T_0951cda2_e6e2_11ea_8062_8c04ba3e1d36level0_row5\" class=\"row_heading level0 row5\" >2.5</th>\n",
       "                        <td id=\"T_0951cda2_e6e2_11ea_8062_8c04ba3e1d36row5_col0\" class=\"data row5 col0\" >9.2200</td>\n",
       "                        <td id=\"T_0951cda2_e6e2_11ea_8062_8c04ba3e1d36row5_col1\" class=\"data row5 col1\" >12.5900</td>\n",
       "                        <td id=\"T_0951cda2_e6e2_11ea_8062_8c04ba3e1d36row5_col2\" class=\"data row5 col2\" >9.5900</td>\n",
       "                        <td id=\"T_0951cda2_e6e2_11ea_8062_8c04ba3e1d36row5_col3\" class=\"data row5 col3\" >0.4354</td>\n",
       "                        <td id=\"T_0951cda2_e6e2_11ea_8062_8c04ba3e1d36row5_col4\" class=\"data row5 col4\" >0.4974</td>\n",
       "                        <td id=\"T_0951cda2_e6e2_11ea_8062_8c04ba3e1d36row5_col5\" class=\"data row5 col5\" >0.4576</td>\n",
       "            </tr>\n",
       "            <tr>\n",
       "                        <th id=\"T_0951cda2_e6e2_11ea_8062_8c04ba3e1d36level0_row6\" class=\"row_heading level0 row6\" >3.0</th>\n",
       "                        <td id=\"T_0951cda2_e6e2_11ea_8062_8c04ba3e1d36row6_col0\" class=\"data row6 col0\" >8.7200</td>\n",
       "                        <td id=\"T_0951cda2_e6e2_11ea_8062_8c04ba3e1d36row6_col1\" class=\"data row6 col1\" >11.7300</td>\n",
       "                        <td id=\"T_0951cda2_e6e2_11ea_8062_8c04ba3e1d36row6_col2\" class=\"data row6 col2\" >10.0900</td>\n",
       "                        <td id=\"T_0951cda2_e6e2_11ea_8062_8c04ba3e1d36row6_col3\" class=\"data row6 col3\" >0.4340</td>\n",
       "                        <td id=\"T_0951cda2_e6e2_11ea_8062_8c04ba3e1d36row6_col4\" class=\"data row6 col4\" >0.4687</td>\n",
       "                        <td id=\"T_0951cda2_e6e2_11ea_8062_8c04ba3e1d36row6_col5\" class=\"data row6 col5\" >0.4451</td>\n",
       "            </tr>\n",
       "            <tr>\n",
       "                        <th id=\"T_0951cda2_e6e2_11ea_8062_8c04ba3e1d36level0_row7\" class=\"row_heading level0 row7\" >3.5</th>\n",
       "                        <td id=\"T_0951cda2_e6e2_11ea_8062_8c04ba3e1d36row7_col0\" class=\"data row7 col0\" >8.6100</td>\n",
       "                        <td id=\"T_0951cda2_e6e2_11ea_8062_8c04ba3e1d36row7_col1\" class=\"data row7 col1\" >11.1100</td>\n",
       "                        <td id=\"T_0951cda2_e6e2_11ea_8062_8c04ba3e1d36row7_col2\" class=\"data row7 col2\" >10.2000</td>\n",
       "                        <td id=\"T_0951cda2_e6e2_11ea_8062_8c04ba3e1d36row7_col3\" class=\"data row7 col3\" >0.4416</td>\n",
       "                        <td id=\"T_0951cda2_e6e2_11ea_8062_8c04ba3e1d36row7_col4\" class=\"data row7 col4\" >0.4635</td>\n",
       "                        <td id=\"T_0951cda2_e6e2_11ea_8062_8c04ba3e1d36row7_col5\" class=\"data row7 col5\" >0.4473</td>\n",
       "            </tr>\n",
       "            <tr>\n",
       "                        <th id=\"T_0951cda2_e6e2_11ea_8062_8c04ba3e1d36level0_row8\" class=\"row_heading level0 row8\" >4.0</th>\n",
       "                        <td id=\"T_0951cda2_e6e2_11ea_8062_8c04ba3e1d36row8_col0\" class=\"data row8 col0\" >8.2300</td>\n",
       "                        <td id=\"T_0951cda2_e6e2_11ea_8062_8c04ba3e1d36row8_col1\" class=\"data row8 col1\" >10.7600</td>\n",
       "                        <td id=\"T_0951cda2_e6e2_11ea_8062_8c04ba3e1d36row8_col2\" class=\"data row8 col2\" >10.5800</td>\n",
       "                        <td id=\"T_0951cda2_e6e2_11ea_8062_8c04ba3e1d36row8_col3\" class=\"data row8 col3\" >0.4348</td>\n",
       "                        <td id=\"T_0951cda2_e6e2_11ea_8062_8c04ba3e1d36row8_col4\" class=\"data row8 col4\" >0.4426</td>\n",
       "                        <td id=\"T_0951cda2_e6e2_11ea_8062_8c04ba3e1d36row8_col5\" class=\"data row8 col5\" >0.4344</td>\n",
       "            </tr>\n",
       "            <tr>\n",
       "                        <th id=\"T_0951cda2_e6e2_11ea_8062_8c04ba3e1d36level0_row9\" class=\"row_heading level0 row9\" >4.5</th>\n",
       "                        <td id=\"T_0951cda2_e6e2_11ea_8062_8c04ba3e1d36row9_col0\" class=\"data row9 col0\" >8.1400</td>\n",
       "                        <td id=\"T_0951cda2_e6e2_11ea_8062_8c04ba3e1d36row9_col1\" class=\"data row9 col1\" >10.5900</td>\n",
       "                        <td id=\"T_0951cda2_e6e2_11ea_8062_8c04ba3e1d36row9_col2\" class=\"data row9 col2\" >10.6700</td>\n",
       "                        <td id=\"T_0951cda2_e6e2_11ea_8062_8c04ba3e1d36row9_col3\" class=\"data row9 col3\" >0.4387</td>\n",
       "                        <td id=\"T_0951cda2_e6e2_11ea_8062_8c04ba3e1d36row9_col4\" class=\"data row9 col4\" >0.4390</td>\n",
       "                        <td id=\"T_0951cda2_e6e2_11ea_8062_8c04ba3e1d36row9_col5\" class=\"data row9 col5\" >0.4349</td>\n",
       "            </tr>\n",
       "    </tbody></table>"
      ],
      "text/plain": [
       "<pandas.io.formats.style.Styler at 0x1c3686d5308>"
      ]
     },
     "metadata": {},
     "output_type": "display_data"
    }
   ],
   "source": [
    "#En utilisant le coût qu'est l'algorithme de clustering\n",
    "_ = to_test.other_cost_dynalgo_penalty_range(entire_rwc, [12,32,32], penalty_range = penalty_range, annotations_type = annotations_type, subdivision = subdivision, penalty_func = penalty_func)"
   ]
  },
  {
   "cell_type": "code",
   "execution_count": 4,
   "metadata": {
    "ExecuteTime": {
     "end_time": "2020-08-25T14:48:28.178426Z",
     "start_time": "2020-08-25T14:48:28.174441Z"
    }
   },
   "outputs": [],
   "source": [
    "#_ = final_tests.final_results_fixed_conditions(entire_rwc, [12,32,32], penalty_weight = 1, annotations_type = annotations_type, subdivision = subdivision, penalty_func = penalty_func, legend = \"with fixed conditions\", convolution_type = \"eight_bands\")"
   ]
  },
  {
   "cell_type": "code",
   "execution_count": null,
   "metadata": {},
   "outputs": [],
   "source": []
  }
 ],
 "metadata": {
  "kernelspec": {
   "display_name": "Python 3",
   "language": "python",
   "name": "python3"
  },
  "language_info": {
   "codemirror_mode": {
    "name": "ipython",
    "version": 3
   },
   "file_extension": ".py",
   "mimetype": "text/x-python",
   "name": "python",
   "nbconvert_exporter": "python",
   "pygments_lexer": "ipython3",
   "version": "3.7.6"
  },
  "toc": {
   "base_numbering": 1,
   "nav_menu": {},
   "number_sections": true,
   "sideBar": true,
   "skip_h1_title": false,
   "title_cell": "Table of Contents",
   "title_sidebar": "Contents",
   "toc_cell": false,
   "toc_position": {},
   "toc_section_display": true,
   "toc_window_display": false
  },
  "varInspector": {
   "cols": {
    "lenName": 16,
    "lenType": 16,
    "lenVar": 40
   },
   "kernels_config": {
    "python": {
     "delete_cmd_postfix": "",
     "delete_cmd_prefix": "del ",
     "library": "var_list.py",
     "varRefreshCmd": "print(var_dic_list())"
    },
    "r": {
     "delete_cmd_postfix": ") ",
     "delete_cmd_prefix": "rm(",
     "library": "var_list.r",
     "varRefreshCmd": "cat(var_dic_list()) "
    }
   },
   "types_to_exclude": [
    "module",
    "function",
    "builtin_function_or_method",
    "instance",
    "_Feature"
   ],
   "window_display": false
  }
 },
 "nbformat": 4,
 "nbformat_minor": 4
}
