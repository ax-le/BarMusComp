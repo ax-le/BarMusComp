{
 "cells": [
  {
   "cell_type": "markdown",
   "metadata": {},
   "source": [
    "# Context\n",
    "\n",
    "This notebook aims at studying the learning and/or crafting of matrix $H$, the rhythmic patten matrix. The idea is to introduce prior knowledge on this matrix, in order to constraint the decomposition, and enhance interpretability. It could even enhance the decomposition for the task itself, but we can't be sure of that.\n",
    "\n",
    "During previous experiments, we noticed that $H$ matrices seem all \"stairish\", without exploring this lead. \n",
    "\n",
    "In this Notebook, we will firstly try to study globally the shape of $H$ matrices that we have computed previously. This is made via clustering the columns of these $H$.\n",
    "\n",
    "Secondly, we will craft a stair matrix by hand and test this matrix on a real NTD."
   ]
  },
  {
   "cell_type": "code",
   "execution_count": 10,
   "metadata": {
    "ExecuteTime": {
     "end_time": "2020-10-07T13:14:04.836382Z",
     "start_time": "2020-10-07T13:14:04.828311Z"
    }
   },
   "outputs": [],
   "source": [
    "import numpy as np\n",
    "import matplotlib.pyplot as plt\n",
    "import tensorly as tl\n",
    "import pandas as pd\n",
    "import copy\n",
    "from IPython.display import display\n",
    "\n",
    "import musicntd.data_manipulation as dm\n",
    "import musicntd.tensor_factory as tf\n",
    "import musicntd.autosimilarity_segmentation as as_seg\n",
    "from musicntd.model.current_plot import *\n",
    "import musicntd.scripts.overall_scripts as scr\n",
    "import musicntd.scripts.final_tests as test\n",
    "import musicntd.scripts.hide_code as hide\n",
    "from nn_fac import ntd as NTD\n",
    "\n",
    "annotations_folder_path = \"C:\\\\Users\\\\amarmore\\\\Desktop\\\\Audio samples\\\\RWC Pop\\\\annotations\"\n",
    "persisted_path = \"C:\\\\Users\\\\amarmore\\\\Desktop\\\\data_persisted\"\n",
    "dataset = \"C:\\\\Users\\\\amarmore\\\\Desktop\\\\Audio samples\\\\RWC Pop\\\\Entire RWC\"\n",
    "\n",
    "annotations_type = \"MIREX10\"\n",
    "\n",
    "annotations_folder = \"{}\\\\{}\".format(annotations_folder_path, annotations_type)\n",
    "hop_length = 32\n",
    "hop_length_seconds = 32/44100\n",
    "subdivision = 96\n",
    "\n",
    "convolution_type = \"eight_bands\"\n",
    "penalty_func = \"modulo8\"\n",
    "h_ranks = [12,16,20,24,28,32,36]\n",
    "\n",
    "in_detail = True"
   ]
  },
  {
   "cell_type": "markdown",
   "metadata": {},
   "source": [
    "# Clustering columns of $H$."
   ]
  },
  {
   "cell_type": "markdown",
   "metadata": {},
   "source": [
    "In order to study the shape of $H$, we will cluster the columns of the $H$ matrices we computed during quarantine. We indeed have a lot of these matrices, and in different conditions (notably with different ranks).\n",
    "\n",
    "Clustering has the advantage of gathering close columns independantly of their order in the matrix, which is a limitation today in analysis of outcomes."
   ]
  },
  {
   "cell_type": "code",
   "execution_count": 2,
   "metadata": {
    "ExecuteTime": {
     "end_time": "2020-10-07T12:28:57.704679Z",
     "start_time": "2020-10-07T12:28:57.701286Z"
    }
   },
   "outputs": [],
   "source": [
    "import sklearn"
   ]
  },
  {
   "cell_type": "markdown",
   "metadata": {},
   "source": [
    "Concretely, we concatenate all the columns of all the $H$ matrices with different ranks (12,16,20,24,28,32,36), and we cluster all these columns. We hence cluster a unique $H$ matrix, containing $100 * 12 * 16 * ... * 36$ columns.\n",
    "\n",
    "We will cluster this matrix with different number of centroids, tu study its behavior. The chosen number of clusters will be 4,8,12,16,24,32,40."
   ]
  },
  {
   "cell_type": "code",
   "execution_count": 11,
   "metadata": {
    "ExecuteTime": {
     "end_time": "2020-10-07T13:15:50.520599Z",
     "start_time": "2020-10-07T13:14:57.131351Z"
    },
    "scrolled": true
   },
   "outputs": [
    {
     "data": {
      "text/markdown": [
       "## Clustering the big $H$ with 4 clusters:"
      ],
      "text/plain": [
       "<IPython.core.display.Markdown object>"
      ]
     },
     "metadata": {},
     "output_type": "display_data"
    },
    {
     "data": {
      "image/png": "[encoded data removed]",
      "text/plain": [
       "<Figure size 691.2x28.8 with 1 Axes>"
      ]
     },
     "metadata": {},
     "output_type": "display_data"
    },
    {
     "data": {
      "text/html": [
       "<div>\n",
       "<style scoped>\n",
       "    .dataframe tbody tr th:only-of-type {\n",
       "        vertical-align: middle;\n",
       "    }\n",
       "\n",
       "    .dataframe tbody tr th {\n",
       "        vertical-align: top;\n",
       "    }\n",
       "\n",
       "    .dataframe thead th {\n",
       "        text-align: right;\n",
       "    }\n",
       "</style>\n",
       "<table border=\"1\" class=\"dataframe\">\n",
       "  <thead>\n",
       "    <tr style=\"text-align: right;\">\n",
       "      <th></th>\n",
       "      <th>For all ranks</th>\n",
       "      <th>Rank H:12</th>\n",
       "      <th>Rank H:16</th>\n",
       "      <th>Rank H:20</th>\n",
       "      <th>Rank H:24</th>\n",
       "      <th>Rank H:28</th>\n",
       "      <th>Rank H:32</th>\n",
       "      <th>Rank H:36</th>\n",
       "    </tr>\n",
       "  </thead>\n",
       "  <tbody>\n",
       "    <tr>\n",
       "      <th>Avg nb of $\\neq$ clusters per $H$ (4 clus)</th>\n",
       "      <td>4.0</td>\n",
       "      <td>4.0</td>\n",
       "      <td>4.0</td>\n",
       "      <td>4.0</td>\n",
       "      <td>4.0</td>\n",
       "      <td>4.0</td>\n",
       "      <td>4.0</td>\n",
       "      <td>4.0</td>\n",
       "    </tr>\n",
       "  </tbody>\n",
       "</table>\n",
       "</div>"
      ],
      "text/plain": [
       "                                            For all ranks  Rank H:12  \\\n",
       "Avg nb of $\\neq$ clusters per $H$ (4 clus)            4.0        4.0   \n",
       "\n",
       "                                            Rank H:16  Rank H:20  Rank H:24  \\\n",
       "Avg nb of $\\neq$ clusters per $H$ (4 clus)        4.0        4.0        4.0   \n",
       "\n",
       "                                            Rank H:28  Rank H:32  Rank H:36  \n",
       "Avg nb of $\\neq$ clusters per $H$ (4 clus)        4.0        4.0        4.0  "
      ]
     },
     "metadata": {},
     "output_type": "display_data"
    },
    {
     "data": {
      "text/markdown": [
       "### For rank 12:"
      ],
      "text/plain": [
       "<IPython.core.display.Markdown object>"
      ]
     },
     "metadata": {},
     "output_type": "display_data"
    },
    {
     "name": "stdout",
     "output_type": "stream",
     "text": [
      "There are, in average for all songs, 4.0 cluster represented in a H matrix.\n",
      "The cluster 0 is present in 100.0 matrix.\n",
      "The cluster 1 is present in 100.0 matrix.\n",
      "The cluster 2 is present in 100.0 matrix.\n",
      "The cluster 3 is present in 100.0 matrix.\n"
     ]
    },
    {
     "data": {
      "text/markdown": [
       "### For rank 16:"
      ],
      "text/plain": [
       "<IPython.core.display.Markdown object>"
      ]
     },
     "metadata": {},
     "output_type": "display_data"
    },
    {
     "name": "stdout",
     "output_type": "stream",
     "text": [
      "There are, in average for all songs, 4.0 cluster represented in a H matrix.\n",
      "The cluster 0 is present in 100.0 matrix.\n",
      "The cluster 1 is present in 100.0 matrix.\n",
      "The cluster 2 is present in 100.0 matrix.\n",
      "The cluster 3 is present in 100.0 matrix.\n"
     ]
    },
    {
     "data": {
      "text/markdown": [
       "### For rank 20:"
      ],
      "text/plain": [
       "<IPython.core.display.Markdown object>"
      ]
     },
     "metadata": {},
     "output_type": "display_data"
    },
    {
     "name": "stdout",
     "output_type": "stream",
     "text": [
      "There are, in average for all songs, 4.0 cluster represented in a H matrix.\n",
      "The cluster 0 is present in 100.0 matrix.\n",
      "The cluster 1 is present in 100.0 matrix.\n",
      "The cluster 2 is present in 100.0 matrix.\n",
      "The cluster 3 is present in 100.0 matrix.\n"
     ]
    },
    {
     "data": {
      "text/markdown": [
       "### For rank 24:"
      ],
      "text/plain": [
       "<IPython.core.display.Markdown object>"
      ]
     },
     "metadata": {},
     "output_type": "display_data"
    },
    {
     "name": "stdout",
     "output_type": "stream",
     "text": [
      "There are, in average for all songs, 4.0 cluster represented in a H matrix.\n",
      "The cluster 0 is present in 100.0 matrix.\n",
      "The cluster 1 is present in 100.0 matrix.\n",
      "The cluster 2 is present in 100.0 matrix.\n",
      "The cluster 3 is present in 100.0 matrix.\n"
     ]
    },
    {
     "data": {
      "text/markdown": [
       "### For rank 28:"
      ],
      "text/plain": [
       "<IPython.core.display.Markdown object>"
      ]
     },
     "metadata": {},
     "output_type": "display_data"
    },
    {
     "name": "stdout",
     "output_type": "stream",
     "text": [
      "There are, in average for all songs, 4.0 cluster represented in a H matrix.\n",
      "The cluster 0 is present in 100.0 matrix.\n",
      "The cluster 1 is present in 100.0 matrix.\n",
      "The cluster 2 is present in 100.0 matrix.\n",
      "The cluster 3 is present in 100.0 matrix.\n"
     ]
    },
    {
     "data": {
      "text/markdown": [
       "### For rank 32:"
      ],
      "text/plain": [
       "<IPython.core.display.Markdown object>"
      ]
     },
     "metadata": {},
     "output_type": "display_data"
    },
    {
     "name": "stdout",
     "output_type": "stream",
     "text": [
      "There are, in average for all songs, 4.0 cluster represented in a H matrix.\n",
      "The cluster 0 is present in 100.0 matrix.\n",
      "The cluster 1 is present in 100.0 matrix.\n",
      "The cluster 2 is present in 100.0 matrix.\n",
      "The cluster 3 is present in 100.0 matrix.\n"
     ]
    },
    {
     "data": {
      "text/markdown": [
       "### For rank 36:"
      ],
      "text/plain": [
       "<IPython.core.display.Markdown object>"
      ]
     },
     "metadata": {},
     "output_type": "display_data"
    },
    {
     "name": "stdout",
     "output_type": "stream",
     "text": [
      "There are, in average for all songs, 4.0 cluster represented in a H matrix.\n",
      "The cluster 0 is present in 100.0 matrix.\n",
      "The cluster 1 is present in 100.0 matrix.\n",
      "The cluster 2 is present in 100.0 matrix.\n",
      "The cluster 3 is present in 100.0 matrix.\n"
     ]
    },
    {
     "data": {
      "text/markdown": [
       "\n",
       " ## In global:"
      ],
      "text/plain": [
       "<IPython.core.display.Markdown object>"
      ]
     },
     "metadata": {},
     "output_type": "display_data"
    },
    {
     "name": "stdout",
     "output_type": "stream",
     "text": [
      "In average, 4.0 clusters are represented in a H matrix, for any rank.\n",
      "The cluster 0 is present in 700.0 matrix.\n",
      "The cluster 1 is present in 700.0 matrix.\n",
      "The cluster 2 is present in 700.0 matrix.\n",
      "The cluster 3 is present in 700.0 matrix.\n"
     ]
    },
    {
     "data": {
      "text/markdown": [
       "## Clustering the big $H$ with 8 clusters:"
      ],
      "text/plain": [
       "<IPython.core.display.Markdown object>"
      ]
     },
     "metadata": {},
     "output_type": "display_data"
    },
    {
     "data": {
      "image/png": "[encoded data removed]",
      "text/plain": [
       "<Figure size 691.2x57.6 with 1 Axes>"
      ]
     },
     "metadata": {},
     "output_type": "display_data"
    },
    {
     "data": {
      "text/html": [
       "<div>\n",
       "<style scoped>\n",
       "    .dataframe tbody tr th:only-of-type {\n",
       "        vertical-align: middle;\n",
       "    }\n",
       "\n",
       "    .dataframe tbody tr th {\n",
       "        vertical-align: top;\n",
       "    }\n",
       "\n",
       "    .dataframe thead th {\n",
       "        text-align: right;\n",
       "    }\n",
       "</style>\n",
       "<table border=\"1\" class=\"dataframe\">\n",
       "  <thead>\n",
       "    <tr style=\"text-align: right;\">\n",
       "      <th></th>\n",
       "      <th>For all ranks</th>\n",
       "      <th>Rank H:12</th>\n",
       "      <th>Rank H:16</th>\n",
       "      <th>Rank H:20</th>\n",
       "      <th>Rank H:24</th>\n",
       "      <th>Rank H:28</th>\n",
       "      <th>Rank H:32</th>\n",
       "      <th>Rank H:36</th>\n",
       "    </tr>\n",
       "  </thead>\n",
       "  <tbody>\n",
       "    <tr>\n",
       "      <th>Avg nb of $\\neq$ clusters per $H$ (8 clus)</th>\n",
       "      <td>7.9943</td>\n",
       "      <td>7.96</td>\n",
       "      <td>8.0</td>\n",
       "      <td>8.0</td>\n",
       "      <td>8.0</td>\n",
       "      <td>8.0</td>\n",
       "      <td>8.0</td>\n",
       "      <td>8.0</td>\n",
       "    </tr>\n",
       "  </tbody>\n",
       "</table>\n",
       "</div>"
      ],
      "text/plain": [
       "                                            For all ranks  Rank H:12  \\\n",
       "Avg nb of $\\neq$ clusters per $H$ (8 clus)         7.9943       7.96   \n",
       "\n",
       "                                            Rank H:16  Rank H:20  Rank H:24  \\\n",
       "Avg nb of $\\neq$ clusters per $H$ (8 clus)        8.0        8.0        8.0   \n",
       "\n",
       "                                            Rank H:28  Rank H:32  Rank H:36  \n",
       "Avg nb of $\\neq$ clusters per $H$ (8 clus)        8.0        8.0        8.0  "
      ]
     },
     "metadata": {},
     "output_type": "display_data"
    },
    {
     "data": {
      "text/markdown": [
       "### For rank 12:"
      ],
      "text/plain": [
       "<IPython.core.display.Markdown object>"
      ]
     },
     "metadata": {},
     "output_type": "display_data"
    },
    {
     "name": "stdout",
     "output_type": "stream",
     "text": [
      "There are, in average for all songs, 7.96 cluster represented in a H matrix.\n",
      "The cluster 0 is present in 100.0 matrix.\n",
      "The cluster 1 is present in 100.0 matrix.\n",
      "The cluster 2 is present in 100.0 matrix.\n",
      "The cluster 3 is present in 99.0 matrix.\n",
      "The cluster 4 is present in 100.0 matrix.\n",
      "The cluster 5 is present in 98.0 matrix.\n",
      "The cluster 6 is present in 99.0 matrix.\n",
      "The cluster 7 is present in 100.0 matrix.\n"
     ]
    },
    {
     "data": {
      "text/markdown": [
       "### For rank 16:"
      ],
      "text/plain": [
       "<IPython.core.display.Markdown object>"
      ]
     },
     "metadata": {},
     "output_type": "display_data"
    },
    {
     "name": "stdout",
     "output_type": "stream",
     "text": [
      "There are, in average for all songs, 8.0 cluster represented in a H matrix.\n",
      "The cluster 0 is present in 100.0 matrix.\n",
      "The cluster 1 is present in 100.0 matrix.\n",
      "The cluster 2 is present in 100.0 matrix.\n",
      "The cluster 3 is present in 100.0 matrix.\n",
      "The cluster 4 is present in 100.0 matrix.\n",
      "The cluster 5 is present in 100.0 matrix.\n",
      "The cluster 6 is present in 100.0 matrix.\n",
      "The cluster 7 is present in 100.0 matrix.\n"
     ]
    },
    {
     "data": {
      "text/markdown": [
       "### For rank 20:"
      ],
      "text/plain": [
       "<IPython.core.display.Markdown object>"
      ]
     },
     "metadata": {},
     "output_type": "display_data"
    },
    {
     "name": "stdout",
     "output_type": "stream",
     "text": [
      "There are, in average for all songs, 8.0 cluster represented in a H matrix.\n",
      "The cluster 0 is present in 100.0 matrix.\n",
      "The cluster 1 is present in 100.0 matrix.\n",
      "The cluster 2 is present in 100.0 matrix.\n",
      "The cluster 3 is present in 100.0 matrix.\n",
      "The cluster 4 is present in 100.0 matrix.\n",
      "The cluster 5 is present in 100.0 matrix.\n",
      "The cluster 6 is present in 100.0 matrix.\n",
      "The cluster 7 is present in 100.0 matrix.\n"
     ]
    },
    {
     "data": {
      "text/markdown": [
       "### For rank 24:"
      ],
      "text/plain": [
       "<IPython.core.display.Markdown object>"
      ]
     },
     "metadata": {},
     "output_type": "display_data"
    },
    {
     "name": "stdout",
     "output_type": "stream",
     "text": [
      "There are, in average for all songs, 8.0 cluster represented in a H matrix.\n",
      "The cluster 0 is present in 100.0 matrix.\n",
      "The cluster 1 is present in 100.0 matrix.\n",
      "The cluster 2 is present in 100.0 matrix.\n",
      "The cluster 3 is present in 100.0 matrix.\n",
      "The cluster 4 is present in 100.0 matrix.\n",
      "The cluster 5 is present in 100.0 matrix.\n",
      "The cluster 6 is present in 100.0 matrix.\n",
      "The cluster 7 is present in 100.0 matrix.\n"
     ]
    },
    {
     "data": {
      "text/markdown": [
       "### For rank 28:"
      ],
      "text/plain": [
       "<IPython.core.display.Markdown object>"
      ]
     },
     "metadata": {},
     "output_type": "display_data"
    },
    {
     "name": "stdout",
     "output_type": "stream",
     "text": [
      "There are, in average for all songs, 8.0 cluster represented in a H matrix.\n",
      "The cluster 0 is present in 100.0 matrix.\n",
      "The cluster 1 is present in 100.0 matrix.\n",
      "The cluster 2 is present in 100.0 matrix.\n",
      "The cluster 3 is present in 100.0 matrix.\n",
      "The cluster 4 is present in 100.0 matrix.\n",
      "The cluster 5 is present in 100.0 matrix.\n",
      "The cluster 6 is present in 100.0 matrix.\n",
      "The cluster 7 is present in 100.0 matrix.\n"
     ]
    },
    {
     "data": {
      "text/markdown": [
       "### For rank 32:"
      ],
      "text/plain": [
       "<IPython.core.display.Markdown object>"
      ]
     },
     "metadata": {},
     "output_type": "display_data"
    },
    {
     "name": "stdout",
     "output_type": "stream",
     "text": [
      "There are, in average for all songs, 8.0 cluster represented in a H matrix.\n",
      "The cluster 0 is present in 100.0 matrix.\n",
      "The cluster 1 is present in 100.0 matrix.\n",
      "The cluster 2 is present in 100.0 matrix.\n",
      "The cluster 3 is present in 100.0 matrix.\n",
      "The cluster 4 is present in 100.0 matrix.\n",
      "The cluster 5 is present in 100.0 matrix.\n",
      "The cluster 6 is present in 100.0 matrix.\n",
      "The cluster 7 is present in 100.0 matrix.\n"
     ]
    },
    {
     "data": {
      "text/markdown": [
       "### For rank 36:"
      ],
      "text/plain": [
       "<IPython.core.display.Markdown object>"
      ]
     },
     "metadata": {},
     "output_type": "display_data"
    },
    {
     "name": "stdout",
     "output_type": "stream",
     "text": [
      "There are, in average for all songs, 8.0 cluster represented in a H matrix.\n",
      "The cluster 0 is present in 100.0 matrix.\n",
      "The cluster 1 is present in 100.0 matrix.\n",
      "The cluster 2 is present in 100.0 matrix.\n",
      "The cluster 3 is present in 100.0 matrix.\n",
      "The cluster 4 is present in 100.0 matrix.\n",
      "The cluster 5 is present in 100.0 matrix.\n",
      "The cluster 6 is present in 100.0 matrix.\n",
      "The cluster 7 is present in 100.0 matrix.\n"
     ]
    },
    {
     "data": {
      "text/markdown": [
       "\n",
       " ## In global:"
      ],
      "text/plain": [
       "<IPython.core.display.Markdown object>"
      ]
     },
     "metadata": {},
     "output_type": "display_data"
    },
    {
     "name": "stdout",
     "output_type": "stream",
     "text": [
      "In average, 7.994285714285715 clusters are represented in a H matrix, for any rank.\n",
      "The cluster 0 is present in 700.0 matrix.\n",
      "The cluster 1 is present in 700.0 matrix.\n",
      "The cluster 2 is present in 700.0 matrix.\n",
      "The cluster 3 is present in 699.0 matrix.\n",
      "The cluster 4 is present in 700.0 matrix.\n",
      "The cluster 5 is present in 698.0 matrix.\n",
      "The cluster 6 is present in 699.0 matrix.\n",
      "The cluster 7 is present in 700.0 matrix.\n"
     ]
    },
    {
     "data": {
      "text/markdown": [
       "## Clustering the big $H$ with 12 clusters:"
      ],
      "text/plain": [
       "<IPython.core.display.Markdown object>"
      ]
     },
     "metadata": {},
     "output_type": "display_data"
    },
    {
     "data": {
      "image/png": "[encoded data removed]",
      "text/plain": [
       "<Figure size 691.2x86.4 with 1 Axes>"
      ]
     },
     "metadata": {},
     "output_type": "display_data"
    },
    {
     "data": {
      "text/html": [
       "<div>\n",
       "<style scoped>\n",
       "    .dataframe tbody tr th:only-of-type {\n",
       "        vertical-align: middle;\n",
       "    }\n",
       "\n",
       "    .dataframe tbody tr th {\n",
       "        vertical-align: top;\n",
       "    }\n",
       "\n",
       "    .dataframe thead th {\n",
       "        text-align: right;\n",
       "    }\n",
       "</style>\n",
       "<table border=\"1\" class=\"dataframe\">\n",
       "  <thead>\n",
       "    <tr style=\"text-align: right;\">\n",
       "      <th></th>\n",
       "      <th>For all ranks</th>\n",
       "      <th>Rank H:12</th>\n",
       "      <th>Rank H:16</th>\n",
       "      <th>Rank H:20</th>\n",
       "      <th>Rank H:24</th>\n",
       "      <th>Rank H:28</th>\n",
       "      <th>Rank H:32</th>\n",
       "      <th>Rank H:36</th>\n",
       "    </tr>\n",
       "  </thead>\n",
       "  <tbody>\n",
       "    <tr>\n",
       "      <th>Avg nb of $\\neq$ clusters per $H$ (12 clus)</th>\n",
       "      <td>11.6</td>\n",
       "      <td>10.4</td>\n",
       "      <td>11.37</td>\n",
       "      <td>11.7</td>\n",
       "      <td>11.79</td>\n",
       "      <td>11.94</td>\n",
       "      <td>12.0</td>\n",
       "      <td>12.0</td>\n",
       "    </tr>\n",
       "  </tbody>\n",
       "</table>\n",
       "</div>"
      ],
      "text/plain": [
       "                                             For all ranks  Rank H:12  \\\n",
       "Avg nb of $\\neq$ clusters per $H$ (12 clus)           11.6       10.4   \n",
       "\n",
       "                                             Rank H:16  Rank H:20  Rank H:24  \\\n",
       "Avg nb of $\\neq$ clusters per $H$ (12 clus)      11.37       11.7      11.79   \n",
       "\n",
       "                                             Rank H:28  Rank H:32  Rank H:36  \n",
       "Avg nb of $\\neq$ clusters per $H$ (12 clus)      11.94       12.0       12.0  "
      ]
     },
     "metadata": {},
     "output_type": "display_data"
    },
    {
     "data": {
      "text/markdown": [
       "### For rank 12:"
      ],
      "text/plain": [
       "<IPython.core.display.Markdown object>"
      ]
     },
     "metadata": {},
     "output_type": "display_data"
    },
    {
     "name": "stdout",
     "output_type": "stream",
     "text": [
      "There are, in average for all songs, 10.4 cluster represented in a H matrix.\n",
      "The cluster 0 is present in 91.0 matrix.\n",
      "The cluster 1 is present in 96.0 matrix.\n",
      "The cluster 2 is present in 99.0 matrix.\n",
      "The cluster 3 is present in 99.0 matrix.\n",
      "The cluster 4 is present in 83.0 matrix.\n",
      "The cluster 5 is present in 44.0 matrix.\n",
      "The cluster 6 is present in 98.0 matrix.\n",
      "The cluster 7 is present in 93.0 matrix.\n",
      "The cluster 8 is present in 89.0 matrix.\n",
      "The cluster 9 is present in 98.0 matrix.\n",
      "The cluster 10 is present in 78.0 matrix.\n",
      "The cluster 11 is present in 72.0 matrix.\n"
     ]
    },
    {
     "data": {
      "text/markdown": [
       "### For rank 16:"
      ],
      "text/plain": [
       "<IPython.core.display.Markdown object>"
      ]
     },
     "metadata": {},
     "output_type": "display_data"
    },
    {
     "name": "stdout",
     "output_type": "stream",
     "text": [
      "There are, in average for all songs, 11.37 cluster represented in a H matrix.\n",
      "The cluster 0 is present in 99.0 matrix.\n",
      "The cluster 1 is present in 100.0 matrix.\n",
      "The cluster 2 is present in 100.0 matrix.\n",
      "The cluster 3 is present in 100.0 matrix.\n",
      "The cluster 4 is present in 99.0 matrix.\n",
      "The cluster 5 is present in 54.0 matrix.\n",
      "The cluster 6 is present in 100.0 matrix.\n",
      "The cluster 7 is present in 97.0 matrix.\n",
      "The cluster 8 is present in 97.0 matrix.\n",
      "The cluster 9 is present in 100.0 matrix.\n",
      "The cluster 10 is present in 95.0 matrix.\n",
      "The cluster 11 is present in 96.0 matrix.\n"
     ]
    },
    {
     "data": {
      "text/markdown": [
       "### For rank 20:"
      ],
      "text/plain": [
       "<IPython.core.display.Markdown object>"
      ]
     },
     "metadata": {},
     "output_type": "display_data"
    },
    {
     "name": "stdout",
     "output_type": "stream",
     "text": [
      "There are, in average for all songs, 11.7 cluster represented in a H matrix.\n",
      "The cluster 0 is present in 99.0 matrix.\n",
      "The cluster 1 is present in 100.0 matrix.\n",
      "The cluster 2 is present in 100.0 matrix.\n",
      "The cluster 3 is present in 100.0 matrix.\n",
      "The cluster 4 is present in 100.0 matrix.\n",
      "The cluster 5 is present in 77.0 matrix.\n",
      "The cluster 6 is present in 100.0 matrix.\n",
      "The cluster 7 is present in 99.0 matrix.\n",
      "The cluster 8 is present in 97.0 matrix.\n",
      "The cluster 9 is present in 100.0 matrix.\n",
      "The cluster 10 is present in 99.0 matrix.\n",
      "The cluster 11 is present in 99.0 matrix.\n"
     ]
    },
    {
     "data": {
      "text/markdown": [
       "### For rank 24:"
      ],
      "text/plain": [
       "<IPython.core.display.Markdown object>"
      ]
     },
     "metadata": {},
     "output_type": "display_data"
    },
    {
     "name": "stdout",
     "output_type": "stream",
     "text": [
      "There are, in average for all songs, 11.79 cluster represented in a H matrix.\n",
      "The cluster 0 is present in 100.0 matrix.\n",
      "The cluster 1 is present in 100.0 matrix.\n",
      "The cluster 2 is present in 100.0 matrix.\n",
      "The cluster 3 is present in 100.0 matrix.\n",
      "The cluster 4 is present in 99.0 matrix.\n",
      "The cluster 5 is present in 82.0 matrix.\n",
      "The cluster 6 is present in 100.0 matrix.\n",
      "The cluster 7 is present in 99.0 matrix.\n",
      "The cluster 8 is present in 100.0 matrix.\n",
      "The cluster 9 is present in 100.0 matrix.\n",
      "The cluster 10 is present in 100.0 matrix.\n",
      "The cluster 11 is present in 99.0 matrix.\n"
     ]
    },
    {
     "data": {
      "text/markdown": [
       "### For rank 28:"
      ],
      "text/plain": [
       "<IPython.core.display.Markdown object>"
      ]
     },
     "metadata": {},
     "output_type": "display_data"
    },
    {
     "name": "stdout",
     "output_type": "stream",
     "text": [
      "There are, in average for all songs, 11.94 cluster represented in a H matrix.\n",
      "The cluster 0 is present in 100.0 matrix.\n",
      "The cluster 1 is present in 100.0 matrix.\n",
      "The cluster 2 is present in 100.0 matrix.\n",
      "The cluster 3 is present in 100.0 matrix.\n",
      "The cluster 4 is present in 100.0 matrix.\n",
      "The cluster 5 is present in 96.0 matrix.\n",
      "The cluster 6 is present in 100.0 matrix.\n",
      "The cluster 7 is present in 100.0 matrix.\n",
      "The cluster 8 is present in 100.0 matrix.\n",
      "The cluster 9 is present in 100.0 matrix.\n",
      "The cluster 10 is present in 100.0 matrix.\n",
      "The cluster 11 is present in 98.0 matrix.\n"
     ]
    },
    {
     "data": {
      "text/markdown": [
       "### For rank 32:"
      ],
      "text/plain": [
       "<IPython.core.display.Markdown object>"
      ]
     },
     "metadata": {},
     "output_type": "display_data"
    },
    {
     "name": "stdout",
     "output_type": "stream",
     "text": [
      "There are, in average for all songs, 12.0 cluster represented in a H matrix.\n",
      "The cluster 0 is present in 100.0 matrix.\n",
      "The cluster 1 is present in 100.0 matrix.\n",
      "The cluster 2 is present in 100.0 matrix.\n",
      "The cluster 3 is present in 100.0 matrix.\n",
      "The cluster 4 is present in 100.0 matrix.\n",
      "The cluster 5 is present in 100.0 matrix.\n",
      "The cluster 6 is present in 100.0 matrix.\n",
      "The cluster 7 is present in 100.0 matrix.\n",
      "The cluster 8 is present in 100.0 matrix.\n",
      "The cluster 9 is present in 100.0 matrix.\n",
      "The cluster 10 is present in 100.0 matrix.\n",
      "The cluster 11 is present in 100.0 matrix.\n"
     ]
    },
    {
     "data": {
      "text/markdown": [
       "### For rank 36:"
      ],
      "text/plain": [
       "<IPython.core.display.Markdown object>"
      ]
     },
     "metadata": {},
     "output_type": "display_data"
    },
    {
     "name": "stdout",
     "output_type": "stream",
     "text": [
      "There are, in average for all songs, 12.0 cluster represented in a H matrix.\n",
      "The cluster 0 is present in 100.0 matrix.\n",
      "The cluster 1 is present in 100.0 matrix.\n",
      "The cluster 2 is present in 100.0 matrix.\n",
      "The cluster 3 is present in 100.0 matrix.\n",
      "The cluster 4 is present in 100.0 matrix.\n",
      "The cluster 5 is present in 100.0 matrix.\n",
      "The cluster 6 is present in 100.0 matrix.\n",
      "The cluster 7 is present in 100.0 matrix.\n",
      "The cluster 8 is present in 100.0 matrix.\n",
      "The cluster 9 is present in 100.0 matrix.\n",
      "The cluster 10 is present in 100.0 matrix.\n",
      "The cluster 11 is present in 100.0 matrix.\n"
     ]
    },
    {
     "data": {
      "text/markdown": [
       "\n",
       " ## In global:"
      ],
      "text/plain": [
       "<IPython.core.display.Markdown object>"
      ]
     },
     "metadata": {},
     "output_type": "display_data"
    },
    {
     "name": "stdout",
     "output_type": "stream",
     "text": [
      "In average, 11.599999999999998 clusters are represented in a H matrix, for any rank.\n",
      "The cluster 0 is present in 689.0 matrix.\n",
      "The cluster 1 is present in 696.0 matrix.\n",
      "The cluster 2 is present in 699.0 matrix.\n",
      "The cluster 3 is present in 699.0 matrix.\n",
      "The cluster 4 is present in 681.0 matrix.\n",
      "The cluster 5 is present in 553.0 matrix.\n",
      "The cluster 6 is present in 698.0 matrix.\n",
      "The cluster 7 is present in 688.0 matrix.\n",
      "The cluster 8 is present in 683.0 matrix.\n",
      "The cluster 9 is present in 698.0 matrix.\n",
      "The cluster 10 is present in 672.0 matrix.\n",
      "The cluster 11 is present in 664.0 matrix.\n"
     ]
    },
    {
     "data": {
      "text/markdown": [
       "## Clustering the big $H$ with 16 clusters:"
      ],
      "text/plain": [
       "<IPython.core.display.Markdown object>"
      ]
     },
     "metadata": {},
     "output_type": "display_data"
    },
    {
     "data": {
      "image/png": "[encoded data removed]",
      "text/plain": [
       "<Figure size 691.2x115.2 with 1 Axes>"
      ]
     },
     "metadata": {},
     "output_type": "display_data"
    },
    {
     "data": {
      "text/html": [
       "<div>\n",
       "<style scoped>\n",
       "    .dataframe tbody tr th:only-of-type {\n",
       "        vertical-align: middle;\n",
       "    }\n",
       "\n",
       "    .dataframe tbody tr th {\n",
       "        vertical-align: top;\n",
       "    }\n",
       "\n",
       "    .dataframe thead th {\n",
       "        text-align: right;\n",
       "    }\n",
       "</style>\n",
       "<table border=\"1\" class=\"dataframe\">\n",
       "  <thead>\n",
       "    <tr style=\"text-align: right;\">\n",
       "      <th></th>\n",
       "      <th>For all ranks</th>\n",
       "      <th>Rank H:12</th>\n",
       "      <th>Rank H:16</th>\n",
       "      <th>Rank H:20</th>\n",
       "      <th>Rank H:24</th>\n",
       "      <th>Rank H:28</th>\n",
       "      <th>Rank H:32</th>\n",
       "      <th>Rank H:36</th>\n",
       "    </tr>\n",
       "  </thead>\n",
       "  <tbody>\n",
       "    <tr>\n",
       "      <th>Avg nb of $\\neq$ clusters per $H$ (16 clus)</th>\n",
       "      <td>14.8471</td>\n",
       "      <td>11.6</td>\n",
       "      <td>14.14</td>\n",
       "      <td>15.06</td>\n",
       "      <td>15.52</td>\n",
       "      <td>15.85</td>\n",
       "      <td>15.88</td>\n",
       "      <td>15.88</td>\n",
       "    </tr>\n",
       "  </tbody>\n",
       "</table>\n",
       "</div>"
      ],
      "text/plain": [
       "                                             For all ranks  Rank H:12  \\\n",
       "Avg nb of $\\neq$ clusters per $H$ (16 clus)        14.8471       11.6   \n",
       "\n",
       "                                             Rank H:16  Rank H:20  Rank H:24  \\\n",
       "Avg nb of $\\neq$ clusters per $H$ (16 clus)      14.14      15.06      15.52   \n",
       "\n",
       "                                             Rank H:28  Rank H:32  Rank H:36  \n",
       "Avg nb of $\\neq$ clusters per $H$ (16 clus)      15.85      15.88      15.88  "
      ]
     },
     "metadata": {},
     "output_type": "display_data"
    },
    {
     "data": {
      "text/markdown": [
       "### For rank 12:"
      ],
      "text/plain": [
       "<IPython.core.display.Markdown object>"
      ]
     },
     "metadata": {},
     "output_type": "display_data"
    },
    {
     "name": "stdout",
     "output_type": "stream",
     "text": [
      "There are, in average for all songs, 11.6 cluster represented in a H matrix.\n",
      "The cluster 0 is present in 75.0 matrix.\n",
      "The cluster 1 is present in 86.0 matrix.\n",
      "The cluster 2 is present in 65.0 matrix.\n",
      "The cluster 3 is present in 36.0 matrix.\n",
      "The cluster 4 is present in 77.0 matrix.\n",
      "The cluster 5 is present in 92.0 matrix.\n",
      "The cluster 6 is present in 79.0 matrix.\n",
      "The cluster 7 is present in 58.0 matrix.\n",
      "The cluster 8 is present in 82.0 matrix.\n",
      "The cluster 9 is present in 91.0 matrix.\n",
      "The cluster 10 is present in 44.0 matrix.\n",
      "The cluster 11 is present in 77.0 matrix.\n",
      "The cluster 12 is present in 55.0 matrix.\n",
      "The cluster 13 is present in 91.0 matrix.\n",
      "The cluster 14 is present in 84.0 matrix.\n",
      "The cluster 15 is present in 68.0 matrix.\n"
     ]
    },
    {
     "data": {
      "text/markdown": [
       "### For rank 16:"
      ],
      "text/plain": [
       "<IPython.core.display.Markdown object>"
      ]
     },
     "metadata": {},
     "output_type": "display_data"
    },
    {
     "name": "stdout",
     "output_type": "stream",
     "text": [
      "There are, in average for all songs, 14.14 cluster represented in a H matrix.\n",
      "The cluster 0 is present in 92.0 matrix.\n",
      "The cluster 1 is present in 93.0 matrix.\n",
      "The cluster 2 is present in 90.0 matrix.\n",
      "The cluster 3 is present in 46.0 matrix.\n",
      "The cluster 4 is present in 89.0 matrix.\n",
      "The cluster 5 is present in 98.0 matrix.\n",
      "The cluster 6 is present in 97.0 matrix.\n",
      "The cluster 7 is present in 81.0 matrix.\n",
      "The cluster 8 is present in 100.0 matrix.\n",
      "The cluster 9 is present in 93.0 matrix.\n",
      "The cluster 10 is present in 82.0 matrix.\n",
      "The cluster 11 is present in 95.0 matrix.\n",
      "The cluster 12 is present in 81.0 matrix.\n",
      "The cluster 13 is present in 96.0 matrix.\n",
      "The cluster 14 is present in 94.0 matrix.\n",
      "The cluster 15 is present in 87.0 matrix.\n"
     ]
    },
    {
     "data": {
      "text/markdown": [
       "### For rank 20:"
      ],
      "text/plain": [
       "<IPython.core.display.Markdown object>"
      ]
     },
     "metadata": {},
     "output_type": "display_data"
    },
    {
     "name": "stdout",
     "output_type": "stream",
     "text": [
      "There are, in average for all songs, 15.06 cluster represented in a H matrix.\n",
      "The cluster 0 is present in 96.0 matrix.\n",
      "The cluster 1 is present in 97.0 matrix.\n",
      "The cluster 2 is present in 94.0 matrix.\n",
      "The cluster 3 is present in 74.0 matrix.\n",
      "The cluster 4 is present in 96.0 matrix.\n",
      "The cluster 5 is present in 98.0 matrix.\n",
      "The cluster 6 is present in 98.0 matrix.\n",
      "The cluster 7 is present in 92.0 matrix.\n",
      "The cluster 8 is present in 100.0 matrix.\n",
      "The cluster 9 is present in 98.0 matrix.\n",
      "The cluster 10 is present in 93.0 matrix.\n",
      "The cluster 11 is present in 99.0 matrix.\n",
      "The cluster 12 is present in 90.0 matrix.\n",
      "The cluster 13 is present in 96.0 matrix.\n",
      "The cluster 14 is present in 97.0 matrix.\n",
      "The cluster 15 is present in 88.0 matrix.\n"
     ]
    },
    {
     "data": {
      "text/markdown": [
       "### For rank 24:"
      ],
      "text/plain": [
       "<IPython.core.display.Markdown object>"
      ]
     },
     "metadata": {},
     "output_type": "display_data"
    },
    {
     "name": "stdout",
     "output_type": "stream",
     "text": [
      "There are, in average for all songs, 15.52 cluster represented in a H matrix.\n",
      "The cluster 0 is present in 96.0 matrix.\n",
      "The cluster 1 is present in 99.0 matrix.\n",
      "The cluster 2 is present in 100.0 matrix.\n",
      "The cluster 3 is present in 78.0 matrix.\n",
      "The cluster 4 is present in 100.0 matrix.\n",
      "The cluster 5 is present in 99.0 matrix.\n",
      "The cluster 6 is present in 100.0 matrix.\n",
      "The cluster 7 is present in 95.0 matrix.\n",
      "The cluster 8 is present in 99.0 matrix.\n",
      "The cluster 9 is present in 100.0 matrix.\n",
      "The cluster 10 is present in 98.0 matrix.\n",
      "The cluster 11 is present in 100.0 matrix.\n",
      "The cluster 12 is present in 92.0 matrix.\n",
      "The cluster 13 is present in 98.0 matrix.\n",
      "The cluster 14 is present in 98.0 matrix.\n",
      "The cluster 15 is present in 100.0 matrix.\n"
     ]
    },
    {
     "data": {
      "text/markdown": [
       "### For rank 28:"
      ],
      "text/plain": [
       "<IPython.core.display.Markdown object>"
      ]
     },
     "metadata": {},
     "output_type": "display_data"
    },
    {
     "name": "stdout",
     "output_type": "stream",
     "text": [
      "There are, in average for all songs, 15.85 cluster represented in a H matrix.\n",
      "The cluster 0 is present in 98.0 matrix.\n",
      "The cluster 1 is present in 100.0 matrix.\n",
      "The cluster 2 is present in 99.0 matrix.\n",
      "The cluster 3 is present in 97.0 matrix.\n",
      "The cluster 4 is present in 99.0 matrix.\n",
      "The cluster 5 is present in 100.0 matrix.\n",
      "The cluster 6 is present in 99.0 matrix.\n",
      "The cluster 7 is present in 98.0 matrix.\n",
      "The cluster 8 is present in 100.0 matrix.\n",
      "The cluster 9 is present in 100.0 matrix.\n",
      "The cluster 10 is present in 100.0 matrix.\n",
      "The cluster 11 is present in 100.0 matrix.\n",
      "The cluster 12 is present in 99.0 matrix.\n",
      "The cluster 13 is present in 99.0 matrix.\n",
      "The cluster 14 is present in 100.0 matrix.\n",
      "The cluster 15 is present in 97.0 matrix.\n"
     ]
    },
    {
     "data": {
      "text/markdown": [
       "### For rank 32:"
      ],
      "text/plain": [
       "<IPython.core.display.Markdown object>"
      ]
     },
     "metadata": {},
     "output_type": "display_data"
    },
    {
     "name": "stdout",
     "output_type": "stream",
     "text": [
      "There are, in average for all songs, 15.88 cluster represented in a H matrix.\n",
      "The cluster 0 is present in 99.0 matrix.\n",
      "The cluster 1 is present in 98.0 matrix.\n",
      "The cluster 2 is present in 99.0 matrix.\n",
      "The cluster 3 is present in 100.0 matrix.\n",
      "The cluster 4 is present in 100.0 matrix.\n",
      "The cluster 5 is present in 100.0 matrix.\n",
      "The cluster 6 is present in 100.0 matrix.\n",
      "The cluster 7 is present in 99.0 matrix.\n",
      "The cluster 8 is present in 100.0 matrix.\n",
      "The cluster 9 is present in 99.0 matrix.\n",
      "The cluster 10 is present in 98.0 matrix.\n",
      "The cluster 11 is present in 100.0 matrix.\n",
      "The cluster 12 is present in 100.0 matrix.\n",
      "The cluster 13 is present in 98.0 matrix.\n",
      "The cluster 14 is present in 100.0 matrix.\n",
      "The cluster 15 is present in 98.0 matrix.\n"
     ]
    },
    {
     "data": {
      "text/markdown": [
       "### For rank 36:"
      ],
      "text/plain": [
       "<IPython.core.display.Markdown object>"
      ]
     },
     "metadata": {},
     "output_type": "display_data"
    },
    {
     "name": "stdout",
     "output_type": "stream",
     "text": [
      "There are, in average for all songs, 15.88 cluster represented in a H matrix.\n",
      "The cluster 0 is present in 98.0 matrix.\n",
      "The cluster 1 is present in 99.0 matrix.\n",
      "The cluster 2 is present in 99.0 matrix.\n",
      "The cluster 3 is present in 100.0 matrix.\n",
      "The cluster 4 is present in 99.0 matrix.\n",
      "The cluster 5 is present in 100.0 matrix.\n",
      "The cluster 6 is present in 100.0 matrix.\n",
      "The cluster 7 is present in 97.0 matrix.\n",
      "The cluster 8 is present in 99.0 matrix.\n",
      "The cluster 9 is present in 100.0 matrix.\n",
      "The cluster 10 is present in 100.0 matrix.\n",
      "The cluster 11 is present in 100.0 matrix.\n",
      "The cluster 12 is present in 98.0 matrix.\n",
      "The cluster 13 is present in 99.0 matrix.\n",
      "The cluster 14 is present in 100.0 matrix.\n",
      "The cluster 15 is present in 100.0 matrix.\n"
     ]
    },
    {
     "data": {
      "text/markdown": [
       "\n",
       " ## In global:"
      ],
      "text/plain": [
       "<IPython.core.display.Markdown object>"
      ]
     },
     "metadata": {},
     "output_type": "display_data"
    },
    {
     "name": "stdout",
     "output_type": "stream",
     "text": [
      "In average, 14.847142857142856 clusters are represented in a H matrix, for any rank.\n",
      "The cluster 0 is present in 654.0 matrix.\n",
      "The cluster 1 is present in 672.0 matrix.\n",
      "The cluster 2 is present in 646.0 matrix.\n",
      "The cluster 3 is present in 531.0 matrix.\n",
      "The cluster 4 is present in 660.0 matrix.\n",
      "The cluster 5 is present in 687.0 matrix.\n",
      "The cluster 6 is present in 673.0 matrix.\n",
      "The cluster 7 is present in 620.0 matrix.\n",
      "The cluster 8 is present in 680.0 matrix.\n",
      "The cluster 9 is present in 681.0 matrix.\n",
      "The cluster 10 is present in 615.0 matrix.\n",
      "The cluster 11 is present in 671.0 matrix.\n",
      "The cluster 12 is present in 615.0 matrix.\n",
      "The cluster 13 is present in 677.0 matrix.\n",
      "The cluster 14 is present in 673.0 matrix.\n",
      "The cluster 15 is present in 638.0 matrix.\n"
     ]
    },
    {
     "data": {
      "text/markdown": [
       "## Clustering the big $H$ with 24 clusters:"
      ],
      "text/plain": [
       "<IPython.core.display.Markdown object>"
      ]
     },
     "metadata": {},
     "output_type": "display_data"
    },
    {
     "data": {
      "image/png": "[encoded data removed]",
      "text/plain": [
       "<Figure size 691.2x172.8 with 1 Axes>"
      ]
     },
     "metadata": {},
     "output_type": "display_data"
    },
    {
     "data": {
      "text/html": [
       "<div>\n",
       "<style scoped>\n",
       "    .dataframe tbody tr th:only-of-type {\n",
       "        vertical-align: middle;\n",
       "    }\n",
       "\n",
       "    .dataframe tbody tr th {\n",
       "        vertical-align: top;\n",
       "    }\n",
       "\n",
       "    .dataframe thead th {\n",
       "        text-align: right;\n",
       "    }\n",
       "</style>\n",
       "<table border=\"1\" class=\"dataframe\">\n",
       "  <thead>\n",
       "    <tr style=\"text-align: right;\">\n",
       "      <th></th>\n",
       "      <th>For all ranks</th>\n",
       "      <th>Rank H:12</th>\n",
       "      <th>Rank H:16</th>\n",
       "      <th>Rank H:20</th>\n",
       "      <th>Rank H:24</th>\n",
       "      <th>Rank H:28</th>\n",
       "      <th>Rank H:32</th>\n",
       "      <th>Rank H:36</th>\n",
       "    </tr>\n",
       "  </thead>\n",
       "  <tbody>\n",
       "    <tr>\n",
       "      <th>Avg nb of $\\neq$ clusters per $H$ (24 clus)</th>\n",
       "      <td>18.6929</td>\n",
       "      <td>11.83</td>\n",
       "      <td>15.34</td>\n",
       "      <td>18.03</td>\n",
       "      <td>20.26</td>\n",
       "      <td>21.16</td>\n",
       "      <td>21.95</td>\n",
       "      <td>22.28</td>\n",
       "    </tr>\n",
       "  </tbody>\n",
       "</table>\n",
       "</div>"
      ],
      "text/plain": [
       "                                             For all ranks  Rank H:12  \\\n",
       "Avg nb of $\\neq$ clusters per $H$ (24 clus)        18.6929      11.83   \n",
       "\n",
       "                                             Rank H:16  Rank H:20  Rank H:24  \\\n",
       "Avg nb of $\\neq$ clusters per $H$ (24 clus)      15.34      18.03      20.26   \n",
       "\n",
       "                                             Rank H:28  Rank H:32  Rank H:36  \n",
       "Avg nb of $\\neq$ clusters per $H$ (24 clus)      21.16      21.95      22.28  "
      ]
     },
     "metadata": {},
     "output_type": "display_data"
    },
    {
     "data": {
      "text/markdown": [
       "### For rank 12:"
      ],
      "text/plain": [
       "<IPython.core.display.Markdown object>"
      ]
     },
     "metadata": {},
     "output_type": "display_data"
    },
    {
     "name": "stdout",
     "output_type": "stream",
     "text": [
      "There are, in average for all songs, 11.83 cluster represented in a H matrix.\n",
      "The cluster 0 is present in 28.0 matrix.\n",
      "The cluster 1 is present in 27.0 matrix.\n",
      "The cluster 2 is present in 31.0 matrix.\n",
      "The cluster 3 is present in 84.0 matrix.\n",
      "The cluster 4 is present in 39.0 matrix.\n",
      "The cluster 5 is present in 47.0 matrix.\n",
      "The cluster 6 is present in 42.0 matrix.\n",
      "The cluster 7 is present in 47.0 matrix.\n",
      "The cluster 8 is present in 18.0 matrix.\n",
      "The cluster 9 is present in 73.0 matrix.\n",
      "The cluster 10 is present in 61.0 matrix.\n",
      "The cluster 11 is present in 68.0 matrix.\n",
      "The cluster 12 is present in 77.0 matrix.\n",
      "The cluster 13 is present in 48.0 matrix.\n",
      "The cluster 14 is present in 19.0 matrix.\n",
      "The cluster 15 is present in 59.0 matrix.\n",
      "The cluster 16 is present in 68.0 matrix.\n",
      "The cluster 17 is present in 30.0 matrix.\n",
      "The cluster 18 is present in 32.0 matrix.\n",
      "The cluster 19 is present in 41.0 matrix.\n",
      "The cluster 20 is present in 68.0 matrix.\n",
      "The cluster 21 is present in 28.0 matrix.\n",
      "The cluster 22 is present in 76.0 matrix.\n",
      "The cluster 23 is present in 72.0 matrix.\n"
     ]
    },
    {
     "data": {
      "text/markdown": [
       "### For rank 16:"
      ],
      "text/plain": [
       "<IPython.core.display.Markdown object>"
      ]
     },
     "metadata": {},
     "output_type": "display_data"
    },
    {
     "name": "stdout",
     "output_type": "stream",
     "text": [
      "There are, in average for all songs, 15.34 cluster represented in a H matrix.\n",
      "The cluster 0 is present in 60.0 matrix.\n",
      "The cluster 1 is present in 49.0 matrix.\n",
      "The cluster 2 is present in 36.0 matrix.\n",
      "The cluster 3 is present in 94.0 matrix.\n",
      "The cluster 4 is present in 74.0 matrix.\n",
      "The cluster 5 is present in 61.0 matrix.\n",
      "The cluster 6 is present in 63.0 matrix.\n",
      "The cluster 7 is present in 68.0 matrix.\n",
      "The cluster 8 is present in 41.0 matrix.\n",
      "The cluster 9 is present in 78.0 matrix.\n",
      "The cluster 10 is present in 82.0 matrix.\n",
      "The cluster 11 is present in 60.0 matrix.\n",
      "The cluster 12 is present in 71.0 matrix.\n",
      "The cluster 13 is present in 72.0 matrix.\n",
      "The cluster 14 is present in 24.0 matrix.\n",
      "The cluster 15 is present in 82.0 matrix.\n",
      "The cluster 16 is present in 81.0 matrix.\n",
      "The cluster 17 is present in 40.0 matrix.\n",
      "The cluster 18 is present in 66.0 matrix.\n",
      "The cluster 19 is present in 67.0 matrix.\n",
      "The cluster 20 is present in 73.0 matrix.\n",
      "The cluster 21 is present in 46.0 matrix.\n",
      "The cluster 22 is present in 71.0 matrix.\n",
      "The cluster 23 is present in 75.0 matrix.\n"
     ]
    },
    {
     "data": {
      "text/markdown": [
       "### For rank 20:"
      ],
      "text/plain": [
       "<IPython.core.display.Markdown object>"
      ]
     },
     "metadata": {},
     "output_type": "display_data"
    },
    {
     "name": "stdout",
     "output_type": "stream",
     "text": [
      "There are, in average for all songs, 18.03 cluster represented in a H matrix.\n",
      "The cluster 0 is present in 76.0 matrix.\n",
      "The cluster 1 is present in 62.0 matrix.\n",
      "The cluster 2 is present in 64.0 matrix.\n",
      "The cluster 3 is present in 97.0 matrix.\n",
      "The cluster 4 is present in 87.0 matrix.\n",
      "The cluster 5 is present in 73.0 matrix.\n",
      "The cluster 6 is present in 71.0 matrix.\n",
      "The cluster 7 is present in 77.0 matrix.\n",
      "The cluster 8 is present in 61.0 matrix.\n",
      "The cluster 9 is present in 74.0 matrix.\n",
      "The cluster 10 is present in 88.0 matrix.\n",
      "The cluster 11 is present in 68.0 matrix.\n",
      "The cluster 12 is present in 76.0 matrix.\n",
      "The cluster 13 is present in 80.0 matrix.\n",
      "The cluster 14 is present in 47.0 matrix.\n",
      "The cluster 15 is present in 85.0 matrix.\n",
      "The cluster 16 is present in 94.0 matrix.\n",
      "The cluster 17 is present in 58.0 matrix.\n",
      "The cluster 18 is present in 85.0 matrix.\n",
      "The cluster 19 is present in 72.0 matrix.\n",
      "The cluster 20 is present in 75.0 matrix.\n",
      "The cluster 21 is present in 67.0 matrix.\n",
      "The cluster 22 is present in 80.0 matrix.\n",
      "The cluster 23 is present in 86.0 matrix.\n"
     ]
    },
    {
     "data": {
      "text/markdown": [
       "### For rank 24:"
      ],
      "text/plain": [
       "<IPython.core.display.Markdown object>"
      ]
     },
     "metadata": {},
     "output_type": "display_data"
    },
    {
     "name": "stdout",
     "output_type": "stream",
     "text": [
      "There are, in average for all songs, 20.26 cluster represented in a H matrix.\n",
      "The cluster 0 is present in 82.0 matrix.\n",
      "The cluster 1 is present in 79.0 matrix.\n",
      "The cluster 2 is present in 62.0 matrix.\n",
      "The cluster 3 is present in 98.0 matrix.\n",
      "The cluster 4 is present in 94.0 matrix.\n",
      "The cluster 5 is present in 89.0 matrix.\n",
      "The cluster 6 is present in 82.0 matrix.\n",
      "The cluster 7 is present in 87.0 matrix.\n",
      "The cluster 8 is present in 72.0 matrix.\n",
      "The cluster 9 is present in 87.0 matrix.\n",
      "The cluster 10 is present in 95.0 matrix.\n",
      "The cluster 11 is present in 80.0 matrix.\n",
      "The cluster 12 is present in 82.0 matrix.\n",
      "The cluster 13 is present in 85.0 matrix.\n",
      "The cluster 14 is present in 61.0 matrix.\n",
      "The cluster 15 is present in 97.0 matrix.\n",
      "The cluster 16 is present in 99.0 matrix.\n",
      "The cluster 17 is present in 66.0 matrix.\n",
      "The cluster 18 is present in 96.0 matrix.\n",
      "The cluster 19 is present in 86.0 matrix.\n",
      "The cluster 20 is present in 85.0 matrix.\n",
      "The cluster 21 is present in 76.0 matrix.\n",
      "The cluster 22 is present in 90.0 matrix.\n",
      "The cluster 23 is present in 96.0 matrix.\n"
     ]
    },
    {
     "data": {
      "text/markdown": [
       "### For rank 28:"
      ],
      "text/plain": [
       "<IPython.core.display.Markdown object>"
      ]
     },
     "metadata": {},
     "output_type": "display_data"
    },
    {
     "name": "stdout",
     "output_type": "stream",
     "text": [
      "There are, in average for all songs, 21.16 cluster represented in a H matrix.\n",
      "The cluster 0 is present in 88.0 matrix.\n",
      "The cluster 1 is present in 79.0 matrix.\n",
      "The cluster 2 is present in 93.0 matrix.\n",
      "The cluster 3 is present in 99.0 matrix.\n",
      "The cluster 4 is present in 97.0 matrix.\n",
      "The cluster 5 is present in 90.0 matrix.\n",
      "The cluster 6 is present in 84.0 matrix.\n",
      "The cluster 7 is present in 83.0 matrix.\n",
      "The cluster 8 is present in 78.0 matrix.\n",
      "The cluster 9 is present in 92.0 matrix.\n",
      "The cluster 10 is present in 97.0 matrix.\n",
      "The cluster 11 is present in 88.0 matrix.\n",
      "The cluster 12 is present in 90.0 matrix.\n",
      "The cluster 13 is present in 92.0 matrix.\n",
      "The cluster 14 is present in 77.0 matrix.\n",
      "The cluster 15 is present in 93.0 matrix.\n",
      "The cluster 16 is present in 96.0 matrix.\n",
      "The cluster 17 is present in 76.0 matrix.\n",
      "The cluster 18 is present in 94.0 matrix.\n",
      "The cluster 19 is present in 86.0 matrix.\n",
      "The cluster 20 is present in 87.0 matrix.\n",
      "The cluster 21 is present in 70.0 matrix.\n",
      "The cluster 22 is present in 92.0 matrix.\n",
      "The cluster 23 is present in 95.0 matrix.\n"
     ]
    },
    {
     "data": {
      "text/markdown": [
       "### For rank 32:"
      ],
      "text/plain": [
       "<IPython.core.display.Markdown object>"
      ]
     },
     "metadata": {},
     "output_type": "display_data"
    },
    {
     "name": "stdout",
     "output_type": "stream",
     "text": [
      "There are, in average for all songs, 21.95 cluster represented in a H matrix.\n",
      "The cluster 0 is present in 89.0 matrix.\n",
      "The cluster 1 is present in 89.0 matrix.\n",
      "The cluster 2 is present in 96.0 matrix.\n",
      "The cluster 3 is present in 100.0 matrix.\n",
      "The cluster 4 is present in 98.0 matrix.\n",
      "The cluster 5 is present in 94.0 matrix.\n",
      "The cluster 6 is present in 86.0 matrix.\n",
      "The cluster 7 is present in 89.0 matrix.\n",
      "The cluster 8 is present in 74.0 matrix.\n",
      "The cluster 9 is present in 93.0 matrix.\n",
      "The cluster 10 is present in 97.0 matrix.\n",
      "The cluster 11 is present in 87.0 matrix.\n",
      "The cluster 12 is present in 91.0 matrix.\n",
      "The cluster 13 is present in 93.0 matrix.\n",
      "The cluster 14 is present in 95.0 matrix.\n",
      "The cluster 15 is present in 98.0 matrix.\n",
      "The cluster 16 is present in 99.0 matrix.\n",
      "The cluster 17 is present in 80.0 matrix.\n",
      "The cluster 18 is present in 96.0 matrix.\n",
      "The cluster 19 is present in 89.0 matrix.\n",
      "The cluster 20 is present in 90.0 matrix.\n",
      "The cluster 21 is present in 81.0 matrix.\n",
      "The cluster 22 is present in 94.0 matrix.\n",
      "The cluster 23 is present in 97.0 matrix.\n"
     ]
    },
    {
     "data": {
      "text/markdown": [
       "### For rank 36:"
      ],
      "text/plain": [
       "<IPython.core.display.Markdown object>"
      ]
     },
     "metadata": {},
     "output_type": "display_data"
    },
    {
     "name": "stdout",
     "output_type": "stream",
     "text": [
      "There are, in average for all songs, 22.28 cluster represented in a H matrix.\n",
      "The cluster 0 is present in 92.0 matrix.\n",
      "The cluster 1 is present in 85.0 matrix.\n",
      "The cluster 2 is present in 100.0 matrix.\n",
      "The cluster 3 is present in 100.0 matrix.\n",
      "The cluster 4 is present in 99.0 matrix.\n",
      "The cluster 5 is present in 95.0 matrix.\n",
      "The cluster 6 is present in 89.0 matrix.\n",
      "The cluster 7 is present in 91.0 matrix.\n",
      "The cluster 8 is present in 81.0 matrix.\n",
      "The cluster 9 is present in 92.0 matrix.\n",
      "The cluster 10 is present in 98.0 matrix.\n",
      "The cluster 11 is present in 89.0 matrix.\n",
      "The cluster 12 is present in 95.0 matrix.\n",
      "The cluster 13 is present in 88.0 matrix.\n",
      "The cluster 14 is present in 95.0 matrix.\n",
      "The cluster 15 is present in 100.0 matrix.\n",
      "The cluster 16 is present in 98.0 matrix.\n",
      "The cluster 17 is present in 85.0 matrix.\n",
      "The cluster 18 is present in 99.0 matrix.\n",
      "The cluster 19 is present in 93.0 matrix.\n",
      "The cluster 20 is present in 89.0 matrix.\n",
      "The cluster 21 is present in 87.0 matrix.\n",
      "The cluster 22 is present in 95.0 matrix.\n",
      "The cluster 23 is present in 93.0 matrix.\n"
     ]
    },
    {
     "data": {
      "text/markdown": [
       "\n",
       " ## In global:"
      ],
      "text/plain": [
       "<IPython.core.display.Markdown object>"
      ]
     },
     "metadata": {},
     "output_type": "display_data"
    },
    {
     "name": "stdout",
     "output_type": "stream",
     "text": [
      "In average, 18.692857142857147 clusters are represented in a H matrix, for any rank.\n",
      "The cluster 0 is present in 515.0 matrix.\n",
      "The cluster 1 is present in 470.0 matrix.\n",
      "The cluster 2 is present in 482.0 matrix.\n",
      "The cluster 3 is present in 672.0 matrix.\n",
      "The cluster 4 is present in 588.0 matrix.\n",
      "The cluster 5 is present in 549.0 matrix.\n",
      "The cluster 6 is present in 517.0 matrix.\n",
      "The cluster 7 is present in 542.0 matrix.\n",
      "The cluster 8 is present in 425.0 matrix.\n",
      "The cluster 9 is present in 589.0 matrix.\n",
      "The cluster 10 is present in 618.0 matrix.\n",
      "The cluster 11 is present in 540.0 matrix.\n",
      "The cluster 12 is present in 582.0 matrix.\n",
      "The cluster 13 is present in 558.0 matrix.\n",
      "The cluster 14 is present in 418.0 matrix.\n",
      "The cluster 15 is present in 614.0 matrix.\n",
      "The cluster 16 is present in 635.0 matrix.\n",
      "The cluster 17 is present in 435.0 matrix.\n",
      "The cluster 18 is present in 568.0 matrix.\n",
      "The cluster 19 is present in 534.0 matrix.\n",
      "The cluster 20 is present in 567.0 matrix.\n",
      "The cluster 21 is present in 455.0 matrix.\n",
      "The cluster 22 is present in 598.0 matrix.\n",
      "The cluster 23 is present in 614.0 matrix.\n"
     ]
    },
    {
     "data": {
      "text/markdown": [
       "## Clustering the big $H$ with 32 clusters:"
      ],
      "text/plain": [
       "<IPython.core.display.Markdown object>"
      ]
     },
     "metadata": {},
     "output_type": "display_data"
    },
    {
     "data": {
      "image/png": "[encoded data removed]",
      "text/plain": [
       "<Figure size 691.2x230.4 with 1 Axes>"
      ]
     },
     "metadata": {},
     "output_type": "display_data"
    },
    {
     "data": {
      "text/html": [
       "<div>\n",
       "<style scoped>\n",
       "    .dataframe tbody tr th:only-of-type {\n",
       "        vertical-align: middle;\n",
       "    }\n",
       "\n",
       "    .dataframe tbody tr th {\n",
       "        vertical-align: top;\n",
       "    }\n",
       "\n",
       "    .dataframe thead th {\n",
       "        text-align: right;\n",
       "    }\n",
       "</style>\n",
       "<table border=\"1\" class=\"dataframe\">\n",
       "  <thead>\n",
       "    <tr style=\"text-align: right;\">\n",
       "      <th></th>\n",
       "      <th>For all ranks</th>\n",
       "      <th>Rank H:12</th>\n",
       "      <th>Rank H:16</th>\n",
       "      <th>Rank H:20</th>\n",
       "      <th>Rank H:24</th>\n",
       "      <th>Rank H:28</th>\n",
       "      <th>Rank H:32</th>\n",
       "      <th>Rank H:36</th>\n",
       "    </tr>\n",
       "  </thead>\n",
       "  <tbody>\n",
       "    <tr>\n",
       "      <th>Avg nb of $\\neq$ clusters per $H$ (32 clus)</th>\n",
       "      <td>20.4286</td>\n",
       "      <td>11.92</td>\n",
       "      <td>15.61</td>\n",
       "      <td>18.76</td>\n",
       "      <td>21.95</td>\n",
       "      <td>23.59</td>\n",
       "      <td>25.14</td>\n",
       "      <td>26.03</td>\n",
       "    </tr>\n",
       "  </tbody>\n",
       "</table>\n",
       "</div>"
      ],
      "text/plain": [
       "                                             For all ranks  Rank H:12  \\\n",
       "Avg nb of $\\neq$ clusters per $H$ (32 clus)        20.4286      11.92   \n",
       "\n",
       "                                             Rank H:16  Rank H:20  Rank H:24  \\\n",
       "Avg nb of $\\neq$ clusters per $H$ (32 clus)      15.61      18.76      21.95   \n",
       "\n",
       "                                             Rank H:28  Rank H:32  Rank H:36  \n",
       "Avg nb of $\\neq$ clusters per $H$ (32 clus)      23.59      25.14      26.03  "
      ]
     },
     "metadata": {},
     "output_type": "display_data"
    },
    {
     "data": {
      "text/markdown": [
       "### For rank 12:"
      ],
      "text/plain": [
       "<IPython.core.display.Markdown object>"
      ]
     },
     "metadata": {},
     "output_type": "display_data"
    },
    {
     "name": "stdout",
     "output_type": "stream",
     "text": [
      "There are, in average for all songs, 11.92 cluster represented in a H matrix.\n",
      "The cluster 0 is present in 31.0 matrix.\n",
      "The cluster 1 is present in 16.0 matrix.\n",
      "The cluster 2 is present in 37.0 matrix.\n",
      "The cluster 3 is present in 11.0 matrix.\n",
      "The cluster 4 is present in 45.0 matrix.\n",
      "The cluster 5 is present in 8.0 matrix.\n",
      "The cluster 6 is present in 49.0 matrix.\n",
      "The cluster 7 is present in 32.0 matrix.\n",
      "The cluster 8 is present in 79.0 matrix.\n",
      "The cluster 9 is present in 36.0 matrix.\n",
      "The cluster 10 is present in 43.0 matrix.\n",
      "The cluster 11 is present in 25.0 matrix.\n",
      "The cluster 12 is present in 55.0 matrix.\n",
      "The cluster 13 is present in 38.0 matrix.\n",
      "The cluster 14 is present in 46.0 matrix.\n",
      "The cluster 15 is present in 12.0 matrix.\n",
      "The cluster 16 is present in 26.0 matrix.\n",
      "The cluster 17 is present in 61.0 matrix.\n",
      "The cluster 18 is present in 42.0 matrix.\n",
      "The cluster 19 is present in 16.0 matrix.\n",
      "The cluster 20 is present in 21.0 matrix.\n",
      "The cluster 21 is present in 46.0 matrix.\n",
      "The cluster 22 is present in 21.0 matrix.\n",
      "The cluster 23 is present in 65.0 matrix.\n",
      "The cluster 24 is present in 25.0 matrix.\n",
      "The cluster 25 is present in 59.0 matrix.\n",
      "The cluster 26 is present in 66.0 matrix.\n",
      "The cluster 27 is present in 44.0 matrix.\n",
      "The cluster 28 is present in 50.0 matrix.\n",
      "The cluster 29 is present in 23.0 matrix.\n",
      "The cluster 30 is present in 46.0 matrix.\n",
      "The cluster 31 is present in 18.0 matrix.\n"
     ]
    },
    {
     "data": {
      "text/markdown": [
       "### For rank 16:"
      ],
      "text/plain": [
       "<IPython.core.display.Markdown object>"
      ]
     },
     "metadata": {},
     "output_type": "display_data"
    },
    {
     "name": "stdout",
     "output_type": "stream",
     "text": [
      "There are, in average for all songs, 15.61 cluster represented in a H matrix.\n",
      "The cluster 0 is present in 40.0 matrix.\n",
      "The cluster 1 is present in 19.0 matrix.\n",
      "The cluster 2 is present in 64.0 matrix.\n",
      "The cluster 3 is present in 12.0 matrix.\n",
      "The cluster 4 is present in 69.0 matrix.\n",
      "The cluster 5 is present in 27.0 matrix.\n",
      "The cluster 6 is present in 59.0 matrix.\n",
      "The cluster 7 is present in 58.0 matrix.\n",
      "The cluster 8 is present in 68.0 matrix.\n",
      "The cluster 9 is present in 49.0 matrix.\n",
      "The cluster 10 is present in 39.0 matrix.\n",
      "The cluster 11 is present in 24.0 matrix.\n",
      "The cluster 12 is present in 60.0 matrix.\n",
      "The cluster 13 is present in 63.0 matrix.\n",
      "The cluster 14 is present in 44.0 matrix.\n",
      "The cluster 15 is present in 48.0 matrix.\n",
      "The cluster 16 is present in 63.0 matrix.\n",
      "The cluster 17 is present in 56.0 matrix.\n",
      "The cluster 18 is present in 59.0 matrix.\n",
      "The cluster 19 is present in 29.0 matrix.\n",
      "The cluster 20 is present in 56.0 matrix.\n",
      "The cluster 21 is present in 66.0 matrix.\n",
      "The cluster 22 is present in 37.0 matrix.\n",
      "The cluster 23 is present in 75.0 matrix.\n",
      "The cluster 24 is present in 30.0 matrix.\n",
      "The cluster 25 is present in 71.0 matrix.\n",
      "The cluster 26 is present in 58.0 matrix.\n",
      "The cluster 27 is present in 44.0 matrix.\n",
      "The cluster 28 is present in 59.0 matrix.\n",
      "The cluster 29 is present in 48.0 matrix.\n",
      "The cluster 30 is present in 51.0 matrix.\n",
      "The cluster 31 is present in 16.0 matrix.\n"
     ]
    },
    {
     "data": {
      "text/markdown": [
       "### For rank 20:"
      ],
      "text/plain": [
       "<IPython.core.display.Markdown object>"
      ]
     },
     "metadata": {},
     "output_type": "display_data"
    },
    {
     "name": "stdout",
     "output_type": "stream",
     "text": [
      "There are, in average for all songs, 18.76 cluster represented in a H matrix.\n",
      "The cluster 0 is present in 64.0 matrix.\n",
      "The cluster 1 is present in 34.0 matrix.\n",
      "The cluster 2 is present in 71.0 matrix.\n",
      "The cluster 3 is present in 35.0 matrix.\n",
      "The cluster 4 is present in 87.0 matrix.\n",
      "The cluster 5 is present in 40.0 matrix.\n",
      "The cluster 6 is present in 66.0 matrix.\n",
      "The cluster 7 is present in 72.0 matrix.\n",
      "The cluster 8 is present in 74.0 matrix.\n",
      "The cluster 9 is present in 64.0 matrix.\n",
      "The cluster 10 is present in 30.0 matrix.\n",
      "The cluster 11 is present in 32.0 matrix.\n",
      "The cluster 12 is present in 66.0 matrix.\n",
      "The cluster 13 is present in 69.0 matrix.\n",
      "The cluster 14 is present in 48.0 matrix.\n",
      "The cluster 15 is present in 62.0 matrix.\n",
      "The cluster 16 is present in 75.0 matrix.\n",
      "The cluster 17 is present in 49.0 matrix.\n",
      "The cluster 18 is present in 68.0 matrix.\n",
      "The cluster 19 is present in 42.0 matrix.\n",
      "The cluster 20 is present in 78.0 matrix.\n",
      "The cluster 21 is present in 75.0 matrix.\n",
      "The cluster 22 is present in 55.0 matrix.\n",
      "The cluster 23 is present in 68.0 matrix.\n",
      "The cluster 24 is present in 55.0 matrix.\n",
      "The cluster 25 is present in 67.0 matrix.\n",
      "The cluster 26 is present in 65.0 matrix.\n",
      "The cluster 27 is present in 46.0 matrix.\n",
      "The cluster 28 is present in 74.0 matrix.\n",
      "The cluster 29 is present in 57.0 matrix.\n",
      "The cluster 30 is present in 65.0 matrix.\n",
      "The cluster 31 is present in 23.0 matrix.\n"
     ]
    },
    {
     "data": {
      "text/markdown": [
       "### For rank 24:"
      ],
      "text/plain": [
       "<IPython.core.display.Markdown object>"
      ]
     },
     "metadata": {},
     "output_type": "display_data"
    },
    {
     "name": "stdout",
     "output_type": "stream",
     "text": [
      "There are, in average for all songs, 21.95 cluster represented in a H matrix.\n",
      "The cluster 0 is present in 77.0 matrix.\n",
      "The cluster 1 is present in 44.0 matrix.\n",
      "The cluster 2 is present in 82.0 matrix.\n",
      "The cluster 3 is present in 27.0 matrix.\n",
      "The cluster 4 is present in 92.0 matrix.\n",
      "The cluster 5 is present in 60.0 matrix.\n",
      "The cluster 6 is present in 81.0 matrix.\n",
      "The cluster 7 is present in 76.0 matrix.\n",
      "The cluster 8 is present in 80.0 matrix.\n",
      "The cluster 9 is present in 74.0 matrix.\n",
      "The cluster 10 is present in 35.0 matrix.\n",
      "The cluster 11 is present in 41.0 matrix.\n",
      "The cluster 12 is present in 84.0 matrix.\n",
      "The cluster 13 is present in 81.0 matrix.\n",
      "The cluster 14 is present in 67.0 matrix.\n",
      "The cluster 15 is present in 73.0 matrix.\n",
      "The cluster 16 is present in 87.0 matrix.\n",
      "The cluster 17 is present in 61.0 matrix.\n",
      "The cluster 18 is present in 78.0 matrix.\n",
      "The cluster 19 is present in 58.0 matrix.\n",
      "The cluster 20 is present in 86.0 matrix.\n",
      "The cluster 21 is present in 90.0 matrix.\n",
      "The cluster 22 is present in 60.0 matrix.\n",
      "The cluster 23 is present in 83.0 matrix.\n",
      "The cluster 24 is present in 60.0 matrix.\n",
      "The cluster 25 is present in 69.0 matrix.\n",
      "The cluster 26 is present in 78.0 matrix.\n",
      "The cluster 27 is present in 56.0 matrix.\n",
      "The cluster 28 is present in 82.0 matrix.\n",
      "The cluster 29 is present in 78.0 matrix.\n",
      "The cluster 30 is present in 59.0 matrix.\n",
      "The cluster 31 is present in 36.0 matrix.\n"
     ]
    },
    {
     "data": {
      "text/markdown": [
       "### For rank 28:"
      ],
      "text/plain": [
       "<IPython.core.display.Markdown object>"
      ]
     },
     "metadata": {},
     "output_type": "display_data"
    },
    {
     "name": "stdout",
     "output_type": "stream",
     "text": [
      "There are, in average for all songs, 23.59 cluster represented in a H matrix.\n",
      "The cluster 0 is present in 71.0 matrix.\n",
      "The cluster 1 is present in 63.0 matrix.\n",
      "The cluster 2 is present in 79.0 matrix.\n",
      "The cluster 3 is present in 51.0 matrix.\n",
      "The cluster 4 is present in 87.0 matrix.\n",
      "The cluster 5 is present in 61.0 matrix.\n",
      "The cluster 6 is present in 80.0 matrix.\n",
      "The cluster 7 is present in 85.0 matrix.\n",
      "The cluster 8 is present in 88.0 matrix.\n",
      "The cluster 9 is present in 73.0 matrix.\n",
      "The cluster 10 is present in 33.0 matrix.\n",
      "The cluster 11 is present in 52.0 matrix.\n",
      "The cluster 12 is present in 81.0 matrix.\n",
      "The cluster 13 is present in 80.0 matrix.\n",
      "The cluster 14 is present in 73.0 matrix.\n",
      "The cluster 15 is present in 76.0 matrix.\n",
      "The cluster 16 is present in 90.0 matrix.\n",
      "The cluster 17 is present in 70.0 matrix.\n",
      "The cluster 18 is present in 86.0 matrix.\n",
      "The cluster 19 is present in 65.0 matrix.\n",
      "The cluster 20 is present in 89.0 matrix.\n",
      "The cluster 21 is present in 93.0 matrix.\n",
      "The cluster 22 is present in 66.0 matrix.\n",
      "The cluster 23 is present in 87.0 matrix.\n",
      "The cluster 24 is present in 80.0 matrix.\n",
      "The cluster 25 is present in 66.0 matrix.\n",
      "The cluster 26 is present in 85.0 matrix.\n",
      "The cluster 27 is present in 63.0 matrix.\n",
      "The cluster 28 is present in 83.0 matrix.\n",
      "The cluster 29 is present in 78.0 matrix.\n",
      "The cluster 30 is present in 64.0 matrix.\n",
      "The cluster 31 is present in 61.0 matrix.\n"
     ]
    },
    {
     "data": {
      "text/markdown": [
       "### For rank 32:"
      ],
      "text/plain": [
       "<IPython.core.display.Markdown object>"
      ]
     },
     "metadata": {},
     "output_type": "display_data"
    },
    {
     "name": "stdout",
     "output_type": "stream",
     "text": [
      "There are, in average for all songs, 25.14 cluster represented in a H matrix.\n",
      "The cluster 0 is present in 76.0 matrix.\n",
      "The cluster 1 is present in 80.0 matrix.\n",
      "The cluster 2 is present in 86.0 matrix.\n",
      "The cluster 3 is present in 69.0 matrix.\n",
      "The cluster 4 is present in 95.0 matrix.\n",
      "The cluster 5 is present in 65.0 matrix.\n",
      "The cluster 6 is present in 83.0 matrix.\n",
      "The cluster 7 is present in 87.0 matrix.\n",
      "The cluster 8 is present in 89.0 matrix.\n",
      "The cluster 9 is present in 82.0 matrix.\n",
      "The cluster 10 is present in 31.0 matrix.\n",
      "The cluster 11 is present in 54.0 matrix.\n",
      "The cluster 12 is present in 86.0 matrix.\n",
      "The cluster 13 is present in 85.0 matrix.\n",
      "The cluster 14 is present in 72.0 matrix.\n",
      "The cluster 15 is present in 77.0 matrix.\n",
      "The cluster 16 is present in 92.0 matrix.\n",
      "The cluster 17 is present in 71.0 matrix.\n",
      "The cluster 18 is present in 91.0 matrix.\n",
      "The cluster 19 is present in 77.0 matrix.\n",
      "The cluster 20 is present in 91.0 matrix.\n",
      "The cluster 21 is present in 95.0 matrix.\n",
      "The cluster 22 is present in 79.0 matrix.\n",
      "The cluster 23 is present in 88.0 matrix.\n",
      "The cluster 24 is present in 90.0 matrix.\n",
      "The cluster 25 is present in 64.0 matrix.\n",
      "The cluster 26 is present in 80.0 matrix.\n",
      "The cluster 27 is present in 66.0 matrix.\n",
      "The cluster 28 is present in 84.0 matrix.\n",
      "The cluster 29 is present in 89.0 matrix.\n",
      "The cluster 30 is present in 66.0 matrix.\n",
      "The cluster 31 is present in 74.0 matrix.\n"
     ]
    },
    {
     "data": {
      "text/markdown": [
       "### For rank 36:"
      ],
      "text/plain": [
       "<IPython.core.display.Markdown object>"
      ]
     },
     "metadata": {},
     "output_type": "display_data"
    },
    {
     "name": "stdout",
     "output_type": "stream",
     "text": [
      "There are, in average for all songs, 26.03 cluster represented in a H matrix.\n",
      "The cluster 0 is present in 82.0 matrix.\n",
      "The cluster 1 is present in 78.0 matrix.\n",
      "The cluster 2 is present in 91.0 matrix.\n",
      "The cluster 3 is present in 86.0 matrix.\n",
      "The cluster 4 is present in 94.0 matrix.\n",
      "The cluster 5 is present in 69.0 matrix.\n",
      "The cluster 6 is present in 83.0 matrix.\n",
      "The cluster 7 is present in 85.0 matrix.\n",
      "The cluster 8 is present in 92.0 matrix.\n",
      "The cluster 9 is present in 87.0 matrix.\n",
      "The cluster 10 is present in 37.0 matrix.\n",
      "The cluster 11 is present in 58.0 matrix.\n",
      "The cluster 12 is present in 90.0 matrix.\n",
      "The cluster 13 is present in 89.0 matrix.\n",
      "The cluster 14 is present in 79.0 matrix.\n",
      "The cluster 15 is present in 84.0 matrix.\n",
      "The cluster 16 is present in 92.0 matrix.\n",
      "The cluster 17 is present in 70.0 matrix.\n",
      "The cluster 18 is present in 83.0 matrix.\n",
      "The cluster 19 is present in 74.0 matrix.\n",
      "The cluster 20 is present in 91.0 matrix.\n",
      "The cluster 21 is present in 96.0 matrix.\n",
      "The cluster 22 is present in 76.0 matrix.\n",
      "The cluster 23 is present in 90.0 matrix.\n",
      "The cluster 24 is present in 91.0 matrix.\n",
      "The cluster 25 is present in 75.0 matrix.\n",
      "The cluster 26 is present in 88.0 matrix.\n",
      "The cluster 27 is present in 70.0 matrix.\n",
      "The cluster 28 is present in 89.0 matrix.\n",
      "The cluster 29 is present in 83.0 matrix.\n",
      "The cluster 30 is present in 73.0 matrix.\n",
      "The cluster 31 is present in 78.0 matrix.\n"
     ]
    },
    {
     "data": {
      "text/markdown": [
       "\n",
       " ## In global:"
      ],
      "text/plain": [
       "<IPython.core.display.Markdown object>"
      ]
     },
     "metadata": {},
     "output_type": "display_data"
    },
    {
     "name": "stdout",
     "output_type": "stream",
     "text": [
      "In average, 20.428571428571427 clusters are represented in a H matrix, for any rank.\n",
      "The cluster 0 is present in 441.0 matrix.\n",
      "The cluster 1 is present in 334.0 matrix.\n",
      "The cluster 2 is present in 510.0 matrix.\n",
      "The cluster 3 is present in 291.0 matrix.\n",
      "The cluster 4 is present in 569.0 matrix.\n",
      "The cluster 5 is present in 330.0 matrix.\n",
      "The cluster 6 is present in 501.0 matrix.\n",
      "The cluster 7 is present in 495.0 matrix.\n",
      "The cluster 8 is present in 570.0 matrix.\n",
      "The cluster 9 is present in 465.0 matrix.\n",
      "The cluster 10 is present in 248.0 matrix.\n",
      "The cluster 11 is present in 286.0 matrix.\n",
      "The cluster 12 is present in 522.0 matrix.\n",
      "The cluster 13 is present in 505.0 matrix.\n",
      "The cluster 14 is present in 429.0 matrix.\n",
      "The cluster 15 is present in 432.0 matrix.\n",
      "The cluster 16 is present in 525.0 matrix.\n",
      "The cluster 17 is present in 438.0 matrix.\n",
      "The cluster 18 is present in 507.0 matrix.\n",
      "The cluster 19 is present in 361.0 matrix.\n",
      "The cluster 20 is present in 512.0 matrix.\n",
      "The cluster 21 is present in 561.0 matrix.\n",
      "The cluster 22 is present in 394.0 matrix.\n",
      "The cluster 23 is present in 556.0 matrix.\n",
      "The cluster 24 is present in 431.0 matrix.\n",
      "The cluster 25 is present in 471.0 matrix.\n",
      "The cluster 26 is present in 520.0 matrix.\n",
      "The cluster 27 is present in 389.0 matrix.\n",
      "The cluster 28 is present in 521.0 matrix.\n",
      "The cluster 29 is present in 456.0 matrix.\n",
      "The cluster 30 is present in 424.0 matrix.\n",
      "The cluster 31 is present in 306.0 matrix.\n"
     ]
    },
    {
     "data": {
      "text/markdown": [
       "## Clustering the big $H$ with 40 clusters:"
      ],
      "text/plain": [
       "<IPython.core.display.Markdown object>"
      ]
     },
     "metadata": {},
     "output_type": "display_data"
    },
    {
     "data": {
      "image/png": "[encoded data removed]",
      "text/plain": [
       "<Figure size 691.2x288 with 1 Axes>"
      ]
     },
     "metadata": {},
     "output_type": "display_data"
    },
    {
     "data": {
      "text/html": [
       "<div>\n",
       "<style scoped>\n",
       "    .dataframe tbody tr th:only-of-type {\n",
       "        vertical-align: middle;\n",
       "    }\n",
       "\n",
       "    .dataframe tbody tr th {\n",
       "        vertical-align: top;\n",
       "    }\n",
       "\n",
       "    .dataframe thead th {\n",
       "        text-align: right;\n",
       "    }\n",
       "</style>\n",
       "<table border=\"1\" class=\"dataframe\">\n",
       "  <thead>\n",
       "    <tr style=\"text-align: right;\">\n",
       "      <th></th>\n",
       "      <th>For all ranks</th>\n",
       "      <th>Rank H:12</th>\n",
       "      <th>Rank H:16</th>\n",
       "      <th>Rank H:20</th>\n",
       "      <th>Rank H:24</th>\n",
       "      <th>Rank H:28</th>\n",
       "      <th>Rank H:32</th>\n",
       "      <th>Rank H:36</th>\n",
       "    </tr>\n",
       "  </thead>\n",
       "  <tbody>\n",
       "    <tr>\n",
       "      <th>Avg nb of $\\neq$ clusters per $H$ (40 clus)</th>\n",
       "      <td>21.2443</td>\n",
       "      <td>11.95</td>\n",
       "      <td>15.75</td>\n",
       "      <td>19.09</td>\n",
       "      <td>22.55</td>\n",
       "      <td>24.63</td>\n",
       "      <td>26.55</td>\n",
       "      <td>28.19</td>\n",
       "    </tr>\n",
       "  </tbody>\n",
       "</table>\n",
       "</div>"
      ],
      "text/plain": [
       "                                             For all ranks  Rank H:12  \\\n",
       "Avg nb of $\\neq$ clusters per $H$ (40 clus)        21.2443      11.95   \n",
       "\n",
       "                                             Rank H:16  Rank H:20  Rank H:24  \\\n",
       "Avg nb of $\\neq$ clusters per $H$ (40 clus)      15.75      19.09      22.55   \n",
       "\n",
       "                                             Rank H:28  Rank H:32  Rank H:36  \n",
       "Avg nb of $\\neq$ clusters per $H$ (40 clus)      24.63      26.55      28.19  "
      ]
     },
     "metadata": {},
     "output_type": "display_data"
    },
    {
     "data": {
      "text/markdown": [
       "### For rank 12:"
      ],
      "text/plain": [
       "<IPython.core.display.Markdown object>"
      ]
     },
     "metadata": {},
     "output_type": "display_data"
    },
    {
     "name": "stdout",
     "output_type": "stream",
     "text": [
      "There are, in average for all songs, 11.95 cluster represented in a H matrix.\n",
      "The cluster 0 is present in 33.0 matrix.\n",
      "The cluster 1 is present in 20.0 matrix.\n",
      "The cluster 2 is present in 35.0 matrix.\n",
      "The cluster 3 is present in 21.0 matrix.\n",
      "The cluster 4 is present in 38.0 matrix.\n",
      "The cluster 5 is present in 68.0 matrix.\n",
      "The cluster 6 is present in 11.0 matrix.\n",
      "The cluster 7 is present in 41.0 matrix.\n",
      "The cluster 8 is present in 22.0 matrix.\n",
      "The cluster 9 is present in 18.0 matrix.\n",
      "The cluster 10 is present in 57.0 matrix.\n",
      "The cluster 11 is present in 58.0 matrix.\n",
      "The cluster 12 is present in 8.0 matrix.\n",
      "The cluster 13 is present in 31.0 matrix.\n",
      "The cluster 14 is present in 18.0 matrix.\n",
      "The cluster 15 is present in 14.0 matrix.\n",
      "The cluster 16 is present in 16.0 matrix.\n",
      "The cluster 17 is present in 38.0 matrix.\n",
      "The cluster 18 is present in 19.0 matrix.\n",
      "The cluster 19 is present in 74.0 matrix.\n",
      "The cluster 20 is present in 10.0 matrix.\n",
      "The cluster 21 is present in 22.0 matrix.\n",
      "The cluster 22 is present in 43.0 matrix.\n",
      "The cluster 23 is present in 43.0 matrix.\n",
      "The cluster 24 is present in 26.0 matrix.\n",
      "The cluster 25 is present in 25.0 matrix.\n",
      "The cluster 26 is present in 16.0 matrix.\n",
      "The cluster 27 is present in 18.0 matrix.\n",
      "The cluster 28 is present in 5.0 matrix.\n",
      "The cluster 29 is present in 34.0 matrix.\n",
      "The cluster 30 is present in 48.0 matrix.\n",
      "The cluster 31 is present in 17.0 matrix.\n",
      "The cluster 32 is present in 27.0 matrix.\n",
      "The cluster 33 is present in 36.0 matrix.\n",
      "The cluster 34 is present in 27.0 matrix.\n",
      "The cluster 35 is present in 9.0 matrix.\n",
      "The cluster 36 is present in 59.0 matrix.\n",
      "The cluster 37 is present in 62.0 matrix.\n",
      "The cluster 38 is present in 6.0 matrix.\n",
      "The cluster 39 is present in 22.0 matrix.\n"
     ]
    },
    {
     "data": {
      "text/markdown": [
       "### For rank 16:"
      ],
      "text/plain": [
       "<IPython.core.display.Markdown object>"
      ]
     },
     "metadata": {},
     "output_type": "display_data"
    },
    {
     "name": "stdout",
     "output_type": "stream",
     "text": [
      "There are, in average for all songs, 15.75 cluster represented in a H matrix.\n",
      "The cluster 0 is present in 37.0 matrix.\n",
      "The cluster 1 is present in 30.0 matrix.\n",
      "The cluster 2 is present in 47.0 matrix.\n",
      "The cluster 3 is present in 35.0 matrix.\n",
      "The cluster 4 is present in 43.0 matrix.\n",
      "The cluster 5 is present in 54.0 matrix.\n",
      "The cluster 6 is present in 19.0 matrix.\n",
      "The cluster 7 is present in 56.0 matrix.\n",
      "The cluster 8 is present in 56.0 matrix.\n",
      "The cluster 9 is present in 31.0 matrix.\n",
      "The cluster 10 is present in 61.0 matrix.\n",
      "The cluster 11 is present in 68.0 matrix.\n",
      "The cluster 12 is present in 13.0 matrix.\n",
      "The cluster 13 is present in 56.0 matrix.\n",
      "The cluster 14 is present in 16.0 matrix.\n",
      "The cluster 15 is present in 35.0 matrix.\n",
      "The cluster 16 is present in 32.0 matrix.\n",
      "The cluster 17 is present in 52.0 matrix.\n",
      "The cluster 18 is present in 17.0 matrix.\n",
      "The cluster 19 is present in 74.0 matrix.\n",
      "The cluster 20 is present in 12.0 matrix.\n",
      "The cluster 21 is present in 35.0 matrix.\n",
      "The cluster 22 is present in 40.0 matrix.\n",
      "The cluster 23 is present in 39.0 matrix.\n",
      "The cluster 24 is present in 33.0 matrix.\n",
      "The cluster 25 is present in 26.0 matrix.\n",
      "The cluster 26 is present in 27.0 matrix.\n",
      "The cluster 27 is present in 39.0 matrix.\n",
      "The cluster 28 is present in 31.0 matrix.\n",
      "The cluster 29 is present in 46.0 matrix.\n",
      "The cluster 30 is present in 50.0 matrix.\n",
      "The cluster 31 is present in 33.0 matrix.\n",
      "The cluster 32 is present in 51.0 matrix.\n",
      "The cluster 33 is present in 46.0 matrix.\n",
      "The cluster 34 is present in 53.0 matrix.\n",
      "The cluster 35 is present in 12.0 matrix.\n",
      "The cluster 36 is present in 46.0 matrix.\n",
      "The cluster 37 is present in 56.0 matrix.\n",
      "The cluster 38 is present in 22.0 matrix.\n",
      "The cluster 39 is present in 46.0 matrix.\n"
     ]
    },
    {
     "data": {
      "text/markdown": [
       "### For rank 20:"
      ],
      "text/plain": [
       "<IPython.core.display.Markdown object>"
      ]
     },
     "metadata": {},
     "output_type": "display_data"
    },
    {
     "name": "stdout",
     "output_type": "stream",
     "text": [
      "There are, in average for all songs, 19.09 cluster represented in a H matrix.\n",
      "The cluster 0 is present in 35.0 matrix.\n",
      "The cluster 1 is present in 50.0 matrix.\n",
      "The cluster 2 is present in 62.0 matrix.\n",
      "The cluster 3 is present in 52.0 matrix.\n",
      "The cluster 4 is present in 46.0 matrix.\n",
      "The cluster 5 is present in 51.0 matrix.\n",
      "The cluster 6 is present in 35.0 matrix.\n",
      "The cluster 7 is present in 67.0 matrix.\n",
      "The cluster 8 is present in 81.0 matrix.\n",
      "The cluster 9 is present in 38.0 matrix.\n",
      "The cluster 10 is present in 68.0 matrix.\n",
      "The cluster 11 is present in 65.0 matrix.\n",
      "The cluster 12 is present in 29.0 matrix.\n",
      "The cluster 13 is present in 71.0 matrix.\n",
      "The cluster 14 is present in 20.0 matrix.\n",
      "The cluster 15 is present in 39.0 matrix.\n",
      "The cluster 16 is present in 47.0 matrix.\n",
      "The cluster 17 is present in 60.0 matrix.\n",
      "The cluster 18 is present in 29.0 matrix.\n",
      "The cluster 19 is present in 63.0 matrix.\n",
      "The cluster 20 is present in 30.0 matrix.\n",
      "The cluster 21 is present in 34.0 matrix.\n",
      "The cluster 22 is present in 39.0 matrix.\n",
      "The cluster 23 is present in 31.0 matrix.\n",
      "The cluster 24 is present in 44.0 matrix.\n",
      "The cluster 25 is present in 34.0 matrix.\n",
      "The cluster 26 is present in 41.0 matrix.\n",
      "The cluster 27 is present in 45.0 matrix.\n",
      "The cluster 28 is present in 53.0 matrix.\n",
      "The cluster 29 is present in 50.0 matrix.\n",
      "The cluster 30 is present in 60.0 matrix.\n",
      "The cluster 31 is present in 49.0 matrix.\n",
      "The cluster 32 is present in 60.0 matrix.\n",
      "The cluster 33 is present in 63.0 matrix.\n",
      "The cluster 34 is present in 53.0 matrix.\n",
      "The cluster 35 is present in 34.0 matrix.\n",
      "The cluster 36 is present in 50.0 matrix.\n",
      "The cluster 37 is present in 48.0 matrix.\n",
      "The cluster 38 is present in 30.0 matrix.\n",
      "The cluster 39 is present in 53.0 matrix.\n"
     ]
    },
    {
     "data": {
      "text/markdown": [
       "### For rank 24:"
      ],
      "text/plain": [
       "<IPython.core.display.Markdown object>"
      ]
     },
     "metadata": {},
     "output_type": "display_data"
    },
    {
     "name": "stdout",
     "output_type": "stream",
     "text": [
      "There are, in average for all songs, 22.55 cluster represented in a H matrix.\n",
      "The cluster 0 is present in 54.0 matrix.\n",
      "The cluster 1 is present in 55.0 matrix.\n",
      "The cluster 2 is present in 72.0 matrix.\n",
      "The cluster 3 is present in 60.0 matrix.\n",
      "The cluster 4 is present in 56.0 matrix.\n",
      "The cluster 5 is present in 58.0 matrix.\n",
      "The cluster 6 is present in 54.0 matrix.\n",
      "The cluster 7 is present in 81.0 matrix.\n",
      "The cluster 8 is present in 89.0 matrix.\n",
      "The cluster 9 is present in 37.0 matrix.\n",
      "The cluster 10 is present in 59.0 matrix.\n",
      "The cluster 11 is present in 67.0 matrix.\n",
      "The cluster 12 is present in 39.0 matrix.\n",
      "The cluster 13 is present in 85.0 matrix.\n",
      "The cluster 14 is present in 31.0 matrix.\n",
      "The cluster 15 is present in 49.0 matrix.\n",
      "The cluster 16 is present in 63.0 matrix.\n",
      "The cluster 17 is present in 77.0 matrix.\n",
      "The cluster 18 is present in 29.0 matrix.\n",
      "The cluster 19 is present in 69.0 matrix.\n",
      "The cluster 20 is present in 39.0 matrix.\n",
      "The cluster 21 is present in 59.0 matrix.\n",
      "The cluster 22 is present in 42.0 matrix.\n",
      "The cluster 23 is present in 35.0 matrix.\n",
      "The cluster 24 is present in 66.0 matrix.\n",
      "The cluster 25 is present in 41.0 matrix.\n",
      "The cluster 26 is present in 55.0 matrix.\n",
      "The cluster 27 is present in 58.0 matrix.\n",
      "The cluster 28 is present in 66.0 matrix.\n",
      "The cluster 29 is present in 60.0 matrix.\n",
      "The cluster 30 is present in 65.0 matrix.\n",
      "The cluster 31 is present in 47.0 matrix.\n",
      "The cluster 32 is present in 72.0 matrix.\n",
      "The cluster 33 is present in 64.0 matrix.\n",
      "The cluster 34 is present in 58.0 matrix.\n",
      "The cluster 35 is present in 19.0 matrix.\n",
      "The cluster 36 is present in 51.0 matrix.\n",
      "The cluster 37 is present in 57.0 matrix.\n",
      "The cluster 38 is present in 45.0 matrix.\n",
      "The cluster 39 is present in 72.0 matrix.\n"
     ]
    },
    {
     "data": {
      "text/markdown": [
       "### For rank 28:"
      ],
      "text/plain": [
       "<IPython.core.display.Markdown object>"
      ]
     },
     "metadata": {},
     "output_type": "display_data"
    },
    {
     "name": "stdout",
     "output_type": "stream",
     "text": [
      "There are, in average for all songs, 24.63 cluster represented in a H matrix.\n",
      "The cluster 0 is present in 53.0 matrix.\n",
      "The cluster 1 is present in 77.0 matrix.\n",
      "The cluster 2 is present in 72.0 matrix.\n",
      "The cluster 3 is present in 64.0 matrix.\n",
      "The cluster 4 is present in 60.0 matrix.\n",
      "The cluster 5 is present in 72.0 matrix.\n",
      "The cluster 6 is present in 56.0 matrix.\n",
      "The cluster 7 is present in 85.0 matrix.\n",
      "The cluster 8 is present in 92.0 matrix.\n",
      "The cluster 9 is present in 45.0 matrix.\n",
      "The cluster 10 is present in 71.0 matrix.\n",
      "The cluster 11 is present in 65.0 matrix.\n",
      "The cluster 12 is present in 44.0 matrix.\n",
      "The cluster 13 is present in 77.0 matrix.\n",
      "The cluster 14 is present in 45.0 matrix.\n",
      "The cluster 15 is present in 45.0 matrix.\n",
      "The cluster 16 is present in 62.0 matrix.\n",
      "The cluster 17 is present in 80.0 matrix.\n",
      "The cluster 18 is present in 50.0 matrix.\n",
      "The cluster 19 is present in 71.0 matrix.\n",
      "The cluster 20 is present in 58.0 matrix.\n",
      "The cluster 21 is present in 55.0 matrix.\n",
      "The cluster 22 is present in 46.0 matrix.\n",
      "The cluster 23 is present in 33.0 matrix.\n",
      "The cluster 24 is present in 60.0 matrix.\n",
      "The cluster 25 is present in 52.0 matrix.\n",
      "The cluster 26 is present in 62.0 matrix.\n",
      "The cluster 27 is present in 52.0 matrix.\n",
      "The cluster 28 is present in 70.0 matrix.\n",
      "The cluster 29 is present in 64.0 matrix.\n",
      "The cluster 30 is present in 70.0 matrix.\n",
      "The cluster 31 is present in 46.0 matrix.\n",
      "The cluster 32 is present in 76.0 matrix.\n",
      "The cluster 33 is present in 66.0 matrix.\n",
      "The cluster 34 is present in 69.0 matrix.\n",
      "The cluster 35 is present in 47.0 matrix.\n",
      "The cluster 36 is present in 57.0 matrix.\n",
      "The cluster 37 is present in 68.0 matrix.\n",
      "The cluster 38 is present in 50.0 matrix.\n",
      "The cluster 39 is present in 76.0 matrix.\n"
     ]
    },
    {
     "data": {
      "text/markdown": [
       "### For rank 32:"
      ],
      "text/plain": [
       "<IPython.core.display.Markdown object>"
      ]
     },
     "metadata": {},
     "output_type": "display_data"
    },
    {
     "name": "stdout",
     "output_type": "stream",
     "text": [
      "There are, in average for all songs, 26.55 cluster represented in a H matrix.\n",
      "The cluster 0 is present in 57.0 matrix.\n",
      "The cluster 1 is present in 87.0 matrix.\n",
      "The cluster 2 is present in 77.0 matrix.\n",
      "The cluster 3 is present in 76.0 matrix.\n",
      "The cluster 4 is present in 62.0 matrix.\n",
      "The cluster 5 is present in 64.0 matrix.\n",
      "The cluster 6 is present in 61.0 matrix.\n",
      "The cluster 7 is present in 92.0 matrix.\n",
      "The cluster 8 is present in 93.0 matrix.\n",
      "The cluster 9 is present in 50.0 matrix.\n",
      "The cluster 10 is present in 73.0 matrix.\n",
      "The cluster 11 is present in 59.0 matrix.\n",
      "The cluster 12 is present in 54.0 matrix.\n",
      "The cluster 13 is present in 87.0 matrix.\n",
      "The cluster 14 is present in 47.0 matrix.\n",
      "The cluster 15 is present in 48.0 matrix.\n",
      "The cluster 16 is present in 67.0 matrix.\n",
      "The cluster 17 is present in 87.0 matrix.\n",
      "The cluster 18 is present in 52.0 matrix.\n",
      "The cluster 19 is present in 69.0 matrix.\n",
      "The cluster 20 is present in 76.0 matrix.\n",
      "The cluster 21 is present in 54.0 matrix.\n",
      "The cluster 22 is present in 59.0 matrix.\n",
      "The cluster 23 is present in 31.0 matrix.\n",
      "The cluster 24 is present in 69.0 matrix.\n",
      "The cluster 25 is present in 53.0 matrix.\n",
      "The cluster 26 is present in 74.0 matrix.\n",
      "The cluster 27 is present in 60.0 matrix.\n",
      "The cluster 28 is present in 69.0 matrix.\n",
      "The cluster 29 is present in 68.0 matrix.\n",
      "The cluster 30 is present in 73.0 matrix.\n",
      "The cluster 31 is present in 51.0 matrix.\n",
      "The cluster 32 is present in 77.0 matrix.\n",
      "The cluster 33 is present in 68.0 matrix.\n",
      "The cluster 34 is present in 73.0 matrix.\n",
      "The cluster 35 is present in 63.0 matrix.\n",
      "The cluster 36 is present in 60.0 matrix.\n",
      "The cluster 37 is present in 71.0 matrix.\n",
      "The cluster 38 is present in 60.0 matrix.\n",
      "The cluster 39 is present in 84.0 matrix.\n"
     ]
    },
    {
     "data": {
      "text/markdown": [
       "### For rank 36:"
      ],
      "text/plain": [
       "<IPython.core.display.Markdown object>"
      ]
     },
     "metadata": {},
     "output_type": "display_data"
    },
    {
     "name": "stdout",
     "output_type": "stream",
     "text": [
      "There are, in average for all songs, 28.19 cluster represented in a H matrix.\n",
      "The cluster 0 is present in 63.0 matrix.\n",
      "The cluster 1 is present in 91.0 matrix.\n",
      "The cluster 2 is present in 83.0 matrix.\n",
      "The cluster 3 is present in 74.0 matrix.\n",
      "The cluster 4 is present in 62.0 matrix.\n",
      "The cluster 5 is present in 67.0 matrix.\n",
      "The cluster 6 is present in 74.0 matrix.\n",
      "The cluster 7 is present in 89.0 matrix.\n",
      "The cluster 8 is present in 92.0 matrix.\n",
      "The cluster 9 is present in 51.0 matrix.\n",
      "The cluster 10 is present in 71.0 matrix.\n",
      "The cluster 11 is present in 75.0 matrix.\n",
      "The cluster 12 is present in 61.0 matrix.\n",
      "The cluster 13 is present in 88.0 matrix.\n",
      "The cluster 14 is present in 57.0 matrix.\n",
      "The cluster 15 is present in 56.0 matrix.\n",
      "The cluster 16 is present in 76.0 matrix.\n",
      "The cluster 17 is present in 87.0 matrix.\n",
      "The cluster 18 is present in 57.0 matrix.\n",
      "The cluster 19 is present in 67.0 matrix.\n",
      "The cluster 20 is present in 80.0 matrix.\n",
      "The cluster 21 is present in 72.0 matrix.\n",
      "The cluster 22 is present in 58.0 matrix.\n",
      "The cluster 23 is present in 37.0 matrix.\n",
      "The cluster 24 is present in 76.0 matrix.\n",
      "The cluster 25 is present in 57.0 matrix.\n",
      "The cluster 26 is present in 71.0 matrix.\n",
      "The cluster 27 is present in 61.0 matrix.\n",
      "The cluster 28 is present in 77.0 matrix.\n",
      "The cluster 29 is present in 76.0 matrix.\n",
      "The cluster 30 is present in 72.0 matrix.\n",
      "The cluster 31 is present in 63.0 matrix.\n",
      "The cluster 32 is present in 82.0 matrix.\n",
      "The cluster 33 is present in 72.0 matrix.\n",
      "The cluster 34 is present in 66.0 matrix.\n",
      "The cluster 35 is present in 82.0 matrix.\n",
      "The cluster 36 is present in 57.0 matrix.\n",
      "The cluster 37 is present in 70.0 matrix.\n",
      "The cluster 38 is present in 65.0 matrix.\n",
      "The cluster 39 is present in 84.0 matrix.\n"
     ]
    },
    {
     "data": {
      "text/markdown": [
       "\n",
       " ## In global:"
      ],
      "text/plain": [
       "<IPython.core.display.Markdown object>"
      ]
     },
     "metadata": {},
     "output_type": "display_data"
    },
    {
     "name": "stdout",
     "output_type": "stream",
     "text": [
      "In average, 21.244285714285716 clusters are represented in a H matrix, for any rank.\n",
      "The cluster 0 is present in 332.0 matrix.\n",
      "The cluster 1 is present in 410.0 matrix.\n",
      "The cluster 2 is present in 448.0 matrix.\n",
      "The cluster 3 is present in 382.0 matrix.\n",
      "The cluster 4 is present in 367.0 matrix.\n",
      "The cluster 5 is present in 434.0 matrix.\n",
      "The cluster 6 is present in 310.0 matrix.\n",
      "The cluster 7 is present in 511.0 matrix.\n",
      "The cluster 8 is present in 525.0 matrix.\n",
      "The cluster 9 is present in 270.0 matrix.\n",
      "The cluster 10 is present in 460.0 matrix.\n",
      "The cluster 11 is present in 457.0 matrix.\n",
      "The cluster 12 is present in 248.0 matrix.\n",
      "The cluster 13 is present in 495.0 matrix.\n",
      "The cluster 14 is present in 234.0 matrix.\n",
      "The cluster 15 is present in 286.0 matrix.\n",
      "The cluster 16 is present in 363.0 matrix.\n",
      "The cluster 17 is present in 481.0 matrix.\n",
      "The cluster 18 is present in 253.0 matrix.\n",
      "The cluster 19 is present in 487.0 matrix.\n",
      "The cluster 20 is present in 305.0 matrix.\n",
      "The cluster 21 is present in 331.0 matrix.\n",
      "The cluster 22 is present in 327.0 matrix.\n",
      "The cluster 23 is present in 249.0 matrix.\n",
      "The cluster 24 is present in 374.0 matrix.\n",
      "The cluster 25 is present in 288.0 matrix.\n",
      "The cluster 26 is present in 346.0 matrix.\n",
      "The cluster 27 is present in 333.0 matrix.\n",
      "The cluster 28 is present in 371.0 matrix.\n",
      "The cluster 29 is present in 398.0 matrix.\n",
      "The cluster 30 is present in 438.0 matrix.\n",
      "The cluster 31 is present in 306.0 matrix.\n",
      "The cluster 32 is present in 445.0 matrix.\n",
      "The cluster 33 is present in 415.0 matrix.\n",
      "The cluster 34 is present in 399.0 matrix.\n",
      "The cluster 35 is present in 266.0 matrix.\n",
      "The cluster 36 is present in 380.0 matrix.\n",
      "The cluster 37 is present in 432.0 matrix.\n",
      "The cluster 38 is present in 278.0 matrix.\n",
      "The cluster 39 is present in 437.0 matrix.\n"
     ]
    }
   ],
   "source": [
    "dataset_paths = scr.load_RWC_dataset(dataset, annotations_type)\n",
    "different_nb_clusters = 4,8,12,16,24,32,40\n",
    "big_h = []\n",
    "for rank_h in h_ranks:\n",
    "    ranks = [12,rank_h,32]\n",
    "    median_h = np.zeros((rank_h,96))\n",
    "    for song_and_annotations in dataset_paths:\n",
    "        song_number = song_and_annotations[0].replace(\".wav\",\"\")\n",
    "        annot_path = \"{}\\\\{}\".format(annotations_folder, song_and_annotations[1])\n",
    "        annotations = dm.get_segmentation_from_txt(annot_path, annotations_type)\n",
    "        references_segments = np.array(annotations)[:, 0:2]\n",
    "\n",
    "        bars, spectrogram = scr.load_or_save_spectrogram_and_bars(persisted_path, \"{}\\\\{}\".format(dataset, song_number), \"pcp\", hop_length)\n",
    "\n",
    "        tensor_spectrogram = tf.tensorize_barwise(spectrogram, bars, hop_length_seconds, subdivision)\n",
    "\n",
    "        persisted_arguments = \"_{}_{}_{}_{}\".format(song_number, \"pcp\", \"chromas\", subdivision)\n",
    "        core, factors = scr.NTD_decomp_as_script(persisted_path, persisted_arguments, tensor_spectrogram, ranks, init = \"chromas\")\n",
    "        for column_h in factors[1].T:\n",
    "            big_h.append(column_h)\n",
    "\n",
    "for n_clus in different_nb_clusters:\n",
    "    smart_array = []\n",
    "    col_idx = 0\n",
    "    kmeans = sklearn.cluster.KMeans(n_clusters = n_clus).fit(big_h)\n",
    "    k_means_cluster_centers = kmeans.cluster_centers_\n",
    "    labels = kmeans.labels_\n",
    "    for rank_h in h_ranks:\n",
    "        a_rank_mat = []\n",
    "        for song_index in range(len(dataset_paths)):\n",
    "            a_rank_mat.append(labels[col_idx:col_idx + rank_h])\n",
    "            col_idx += rank_h\n",
    "        smart_array.append(a_rank_mat)\n",
    "    hide.printmd(\"## Clustering the big $H$ with {} clusters:\".format(n_clus))\n",
    "    plot_permuted_factor(k_means_cluster_centers.T, title = \"Cluster centroids when nb clusters = {}.\".format(n_clus), x_axis = \"Bar index\", y_axis = \"Rhythmic patterns\")\n",
    "    \n",
    "    list_of_avg_cluster_per_rank = []\n",
    "    for idx in range(len(h_ranks)):\n",
    "        nb_cluster_per_matrix = 0\n",
    "        for lab in smart_array[idx]:\n",
    "            nb_cluster_per_matrix += len(np.unique(lab))\n",
    "        list_of_avg_cluster_per_rank.append(nb_cluster_per_matrix/100)\n",
    "\n",
    "    to_dataframe = [np.sum(list_of_avg_cluster_per_rank)/len(h_ranks)]\n",
    "    col = [\"For all ranks\"]\n",
    "    for i in range(len(h_ranks)):\n",
    "        to_dataframe.append(list_of_avg_cluster_per_rank[i])\n",
    "        col.append(\"Rank H:{}\".format(h_ranks[i]))\n",
    "    df = pd.DataFrame(np.array(to_dataframe), columns=[\"Avg nb of $\\neq$ clusters per $H$ ({} clus)\".format(n_clus)], index=col).T\n",
    "    display(df)\n",
    "    \n",
    "    if in_detail:\n",
    "        global_avg = 0\n",
    "        global_nb_mat_per_clus = np.zeros(n_clus)\n",
    "        for idx in range(len(h_ranks)):\n",
    "            avg_nb_cluster_per_matrix = 0\n",
    "            nb_matrix_per_cluster = np.zeros(n_clus)\n",
    "            for lab in smart_array[idx]:\n",
    "                avg_nb_cluster_per_matrix += len(np.unique(lab))\n",
    "                for clus_lab in range(n_clus):\n",
    "                    if clus_lab in lab:\n",
    "                        nb_matrix_per_cluster[clus_lab] += 1\n",
    "            avg_per_rank = avg_nb_cluster_per_matrix/100\n",
    "            hide.printmd(\"### For rank {}:\".format(h_ranks[idx]))\n",
    "            print(\"There are, in average for all songs, {} cluster represented in a H matrix.\".format(avg_per_rank))\n",
    "            for i in range(n_clus):\n",
    "                print(\"The cluster {} is present in {} matrix.\".format(i, nb_matrix_per_cluster[i]))\n",
    "                global_nb_mat_per_clus[i] += nb_matrix_per_cluster[i]\n",
    "            global_avg += avg_per_rank\n",
    "        hide.printmd(\"\\n ## In global:\")\n",
    "        print(\"In average, {} clusters are represented in a H matrix, for any rank.\".format(global_avg/len(h_ranks)))\n",
    "        for i in range(n_clus):\n",
    "            print(\"The cluster {} is present in {} matrix.\".format(i, global_nb_mat_per_clus[i]))"
   ]
  },
  {
   "cell_type": "markdown",
   "metadata": {},
   "source": [
    "These results tend to prove that all $H$ matrices, in RWC Pop, and in different conditions, seem stairish.\n",
    "\n",
    "In addition, it seems that, the larger the rank, the more precise columns are, and the more \"blurry columns\" we have (the number of non-stairish columns at the end)."
   ]
  },
  {
   "cell_type": "markdown",
   "metadata": {},
   "source": [
    "# Creating H matrix\n",
    "\n",
    "Finally, another option would be to create from scratch a $H$ matrix.\n",
    "\n",
    "For this sake, we implement a $H$ matrix looking as gaussian distribution on each column, spanning all possible time position in the bar."
   ]
  },
  {
   "cell_type": "code",
   "execution_count": 4,
   "metadata": {
    "ExecuteTime": {
     "end_time": "2020-10-07T12:30:01.070045Z",
     "start_time": "2020-10-07T12:30:01.067174Z"
    }
   },
   "outputs": [],
   "source": [
    "import scipy"
   ]
  },
  {
   "cell_type": "code",
   "execution_count": 12,
   "metadata": {
    "ExecuteTime": {
     "end_time": "2020-10-07T13:27:37.660141Z",
     "start_time": "2020-10-07T13:27:37.646342Z"
    }
   },
   "outputs": [],
   "source": [
    "def build_H(size_gauss, gaussian_std):\n",
    "    size = int(subdivision/size_gauss)\n",
    "    tab = np.array(np.zeros((2*size,subdivision)))\n",
    "    for i in range(size):\n",
    "        reste = int(round(subdivision-size_gauss*(i+1)))\n",
    "        if reste >= 0:\n",
    "            to_add = np.concatenate((np.zeros((size_gauss*i)),scipy.signal.windows.gaussian(size_gauss, gaussian_std, sym=True),np.zeros((reste))))\n",
    "        else:\n",
    "            to_add = np.concatenate((scipy.signal.windows.gaussian(size_gauss, gaussian_std, sym=True)[size_gauss + reste:],np.zeros((subdivision - size_gauss)),scipy.signal.windows.gaussian(size_gauss, gaussian_std, sym=True)[:abs(reste)]))\n",
    "        tab[2*i] = to_add\n",
    "\n",
    "        reste = int(round(subdivision-size_gauss*(i+3/2)))\n",
    "        if reste >= 0:\n",
    "            to_add = np.concatenate((np.zeros((int(size_gauss*(i + 1/2)))),scipy.signal.windows.gaussian(size_gauss, gaussian_std, sym=True),np.zeros((reste))))\n",
    "        else:\n",
    "            to_add = np.concatenate((scipy.signal.windows.gaussian(size_gauss, gaussian_std, sym=True)[size_gauss + reste:],np.zeros((subdivision - size_gauss)),scipy.signal.windows.gaussian(size_gauss, gaussian_std, sym=True)[:abs(reste)]))\n",
    "        tab[2*i + 1] = to_add\n",
    "\n",
    "    \"\"\"line_croche = np.array([])\n",
    "    for i in range(4): # on times\n",
    "        line_croche = np.append(line_croche, np.concatenate((scipy.signal.windows.gaussian(size_gauss/1, gaussian_std, sym=True),np.zeros((int(subdivision/4 - size_gauss/1))))))\n",
    "    tab[2*size] = line_croche\n",
    "\n",
    "    line_counter_croche = np.array([])\n",
    "    for i in range(8): # on times and counter-times\n",
    "        line_counter_croche = np.append(line_counter_croche, np.concatenate((scipy.signal.windows.gaussian(size_gauss/1, gaussian_std, sym=True),np.zeros((int(subdivision/8 - size_gauss/1))))))\n",
    "    tab[2*size + 1] = line_counter_croche\"\"\"\n",
    "    return tab"
   ]
  },
  {
   "cell_type": "markdown",
   "metadata": {},
   "source": [
    "In order to construct a $H$ matrix, we have to specify the size of each gaussian distribution, and its standard deviation (*how much* values and *how are they close* to each other)."
   ]
  },
  {
   "cell_type": "code",
   "execution_count": 13,
   "metadata": {
    "ExecuteTime": {
     "end_time": "2020-10-07T13:27:56.248798Z",
     "start_time": "2020-10-07T13:27:56.106609Z"
    }
   },
   "outputs": [
    {
     "data": {
      "image/png": "[encoded data removed]",
      "text/plain": [
       "<Figure size 432x288 with 1 Axes>"
      ]
     },
     "metadata": {},
     "output_type": "display_data"
    }
   ],
   "source": [
    "H_0 = build_H(12,3)\n",
    "plot_me_this_spectrogram(H_0, title = \"Built $H$ matrix\")"
   ]
  },
  {
   "cell_type": "markdown",
   "metadata": {},
   "source": [
    "In order to evaluate this matrix, we will compare a classic NTD (when everything is optimized) with a NTD with our built $H$ matrix."
   ]
  },
  {
   "cell_type": "code",
   "execution_count": 14,
   "metadata": {
    "ExecuteTime": {
     "end_time": "2020-10-07T13:28:19.107542Z",
     "start_time": "2020-10-07T13:28:14.098578Z"
    },
    "scrolled": false
   },
   "outputs": [
    {
     "data": {
      "image/png": "[encoded data removed]",
      "text/plain": [
       "<Figure size 432x288 with 1 Axes>"
      ]
     },
     "metadata": {},
     "output_type": "display_data"
    },
    {
     "name": "stdout",
     "output_type": "stream",
     "text": [
      "Irrelevant number of sparsity coefficient (different from the number of modes + 1 for the core), they have been set to None.\n"
     ]
    },
    {
     "data": {
      "image/png": "[encoded data removed]",
      "text/plain": [
       "<Figure size 849.6x172.8 with 1 Axes>"
      ]
     },
     "metadata": {},
     "output_type": "display_data"
    },
    {
     "data": {
      "image/png": "[encoded data removed]",
      "text/plain": [
       "<Figure size 849.6x172.8 with 1 Axes>"
      ]
     },
     "metadata": {},
     "output_type": "display_data"
    },
    {
     "data": {
      "image/png": "[encoded data removed]",
      "text/plain": [
       "<Figure size 1296x648 with 2 Axes>"
      ]
     },
     "metadata": {},
     "output_type": "display_data"
    }
   ],
   "source": [
    "def study_impact_column_axel_without_permutation(fac, core, factor_number, columns, transpose = False, plotting = False, norm = 1):\n",
    "    permutated_factor = fac[factor_number]\n",
    "    cropped_factors = copy.deepcopy(fac)\n",
    "    cropped_factors[factor_number] = np.zeros_like(fac[factor_number])\n",
    "    if transpose:\n",
    "        cropped_factors[factor_number][columns] = permutated_factor[columns]\n",
    "    else:\n",
    "        cropped_factors[factor_number][:,columns] = permutated_factor[:,columns]\n",
    "    if plotting:\n",
    "        plot_me_this_spectrogram(cropped_factors[factor_number])\n",
    "    return tl.norm(tl.tenalg.multi_mode_dot(core, cropped_factors, transpose = False), 1) / tl.norm(tl.tenalg.multi_mode_dot(core, fac, transpose = False), 1)\n",
    "\n",
    "H_0 = build_H(12,3)\n",
    "rank_Q = 24\n",
    "plot_me_this_spectrogram(H_0, title = \"Built $H$ matrix\")\n",
    "dataset_paths = scr.load_RWC_dataset(dataset, annotations_type)\n",
    "#for song_and_annotations in dataset_paths:\n",
    "song_and_annotations = dataset_paths[0]\n",
    "song_number = song_and_annotations[0].replace(\".wav\",\"\")\n",
    "annot_path = \"{}\\\\{}\".format(annotations_folder, song_and_annotations[1])\n",
    "annotations = dm.get_segmentation_from_txt(annot_path, annotations_type)\n",
    "references_segments = np.array(annotations)[:, 0:2]\n",
    "\n",
    "bars, spectrogram = scr.load_or_save_spectrogram_and_bars(persisted_path, \"{}\\\\{}\".format(dataset, song_number), \"pcp\", hop_length)\n",
    "\n",
    "tfb_tensor =  tf.tensorize_barwise(spectrogram, bars, hop_length_seconds, subdivision)\n",
    "ranks = [12,H_0.shape[0],rank_Q]\n",
    "core, factors = NTD.ntd(tfb_tensor, ranks, init='custom', core_0=np.random.random(tuple(ranks)), factors_0=[np.identity(12), H_0.T, np.random.random((tfb_tensor.shape[2], ranks[2]))], n_iter_max=100, tol=1e-06, sparsity_coefficients=[], fixed_modes=[0,1], normalize=[False, False, False, True], mode_core_norm=2, hals=False, verbose=False, return_errors=False, deterministic=False)\n",
    "\n",
    "#for i in range(H_0.shape[0]):\n",
    "#    print(\"Poids ligne {}: {}\".format(i, study_impact_column_axel_without_permutation(factors, core, 1, [i], transpose = False, plotting = False, norm = 1)))\n",
    "\n",
    "annotations_frontiers_barwise = dm.frontiers_from_time_to_bar(references_segments[:,1], bars)\n",
    "autosimilarity = as_seg.get_autosimilarity(factors[2], transpose = True, normalize = True)\n",
    "plot_permuted_factor(factors[2], title = \"$Q$ matrix when $H$ is fixed.\")\n",
    "\n",
    "persisted_arguments = \"_{}_{}_{}_{}\".format(song_number, \"pcp\", \"chromas\", subdivision)\n",
    "classic_core, classic_factors = scr.NTD_decomp_as_script(persisted_path, persisted_arguments, tfb_tensor, [12,32,rank_Q], init = \"chromas\")\n",
    "classic_autosimilarity = as_seg.get_autosimilarity(classic_factors[2], transpose = True, normalize = True)\n",
    "plot_permuted_factor(classic_factors[2], title = \"$Q$ matrix when everything is optimized.\")\n",
    "\n",
    "fig, axs = plt.subplots(1, 2, figsize=(18,9))\n",
    "padded_autosim_sign = pad_factor(autosimilarity)\n",
    "padded_autosim_q = pad_factor(classic_autosimilarity)\n",
    "\n",
    "axs[0].set_ylabel(\"Bar index\")\n",
    "axs[0].pcolormesh(np.arange(padded_autosim_sign.shape[0]), np.arange(padded_autosim_sign.shape[0]), padded_autosim_sign, cmap = cm.Greys)\n",
    "axs[0].set_title('Autosimilarity when H is fixed.')\n",
    "axs[1].pcolormesh(np.arange(padded_autosim_q.shape[0]), np.arange(padded_autosim_q.shape[0]), padded_autosim_q, cmap = cm.Greys)\n",
    "axs[1].set_title('Autosimilarity when everything is optimized.')\n",
    "for i in range(0,2):\n",
    "    axs[i].set_xlabel(\"Bar index\")\n",
    "    axs[i].invert_yaxis()\n",
    "plt.show()\n"
   ]
  },
  {
   "cell_type": "markdown",
   "metadata": {},
   "source": [
    "Even if we can't conclude on an example, it looks like we don't lose a lot in quality by using our built matrix. It's a first, and a bit promising step."
   ]
  },
  {
   "cell_type": "markdown",
   "metadata": {},
   "source": [
    "# Averaging the $H$ matrix, columnwise, with permutation.\n",
    "\n",
    "Finally, as a confirmation, for each of the studied ranks, we will compute the average $H$ matrix, where columns are associated by their indexes in the permutation matrix.\n",
    "\n",
    "This technique is really limited by the permutation of columns, and is not really satisfactory.\n"
   ]
  },
  {
   "cell_type": "code",
   "execution_count": 9,
   "metadata": {
    "ExecuteTime": {
     "end_time": "2020-10-07T12:33:02.433236Z",
     "start_time": "2020-10-07T12:31:53.666844Z"
    },
    "scrolled": true
   },
   "outputs": [
    {
     "data": {
      "image/png": "[encoded data removed]",
      "text/plain": [
       "<Figure size 432x288 with 1 Axes>"
      ]
     },
     "metadata": {},
     "output_type": "display_data"
    },
    {
     "data": {
      "image/png": "[encoded data removed]",
      "text/plain": [
       "<Figure size 432x288 with 1 Axes>"
      ]
     },
     "metadata": {},
     "output_type": "display_data"
    },
    {
     "data": {
      "image/png": "[encoded data removed]",
      "text/plain": [
       "<Figure size 432x288 with 1 Axes>"
      ]
     },
     "metadata": {},
     "output_type": "display_data"
    },
    {
     "data": {
      "image/png": "[encoded data removed]",
      "text/plain": [
       "<Figure size 432x288 with 1 Axes>"
      ]
     },
     "metadata": {},
     "output_type": "display_data"
    },
    {
     "data": {
      "image/png": "[encoded data removed]",
      "text/plain": [
       "<Figure size 432x288 with 1 Axes>"
      ]
     },
     "metadata": {},
     "output_type": "display_data"
    },
    {
     "data": {
      "image/png": "[encoded data removed]",
      "text/plain": [
       "<Figure size 432x288 with 1 Axes>"
      ]
     },
     "metadata": {},
     "output_type": "display_data"
    },
    {
     "data": {
      "image/png": "[encoded data removed]",
      "text/plain": [
       "<Figure size 432x288 with 1 Axes>"
      ]
     },
     "metadata": {},
     "output_type": "display_data"
    }
   ],
   "source": [
    "dataset_paths = scr.load_RWC_dataset(dataset, annotations_type)\n",
    "for rank_h in h_ranks:\n",
    "    all_h = []\n",
    "    ranks = [12,rank_h,32]\n",
    "    median_h = np.zeros((rank_h,96))\n",
    "    for song_and_annotations in dataset_paths:\n",
    "        song_number = song_and_annotations[0].replace(\".wav\",\"\")\n",
    "        bars, spectrogram = scr.load_or_save_spectrogram_and_bars(persisted_path, \"{}\\\\{}\".format(dataset, song_number), \"pcp\", hop_length)\n",
    "        tensor_spectrogram = tf.tensorize_barwise(spectrogram, bars, hop_length_seconds, subdivision)\n",
    "        persisted_arguments = \"_{}_{}_{}_{}\".format(song_number, \"pcp\", \"chromas\", subdivision)\n",
    "        core, factors = scr.NTD_decomp_as_script(persisted_path, persisted_arguments, tensor_spectrogram, ranks, init = \"chromas\")\n",
    "\n",
    "        h = permutate_factor(factors[1])\n",
    "        median_h += factors[1].T[h]\n",
    "\n",
    "    plot_me_this_spectrogram(median_h, title = \"H moyen pour toutes les chansons, rang de $H$ = {}\".format(rank_h), x_axis = \"Bar index\", y_axis = \"Rhythmic patterns\")"
   ]
  },
  {
   "cell_type": "markdown",
   "metadata": {},
   "source": [
    "It seems to lightly confirm the previous conclusions though, that the larger the rank and the more specific columns are, and the more \"blurry columns\" we have (the number of non-stairish columns at the end)."
   ]
  }
 ],
 "metadata": {
  "kernelspec": {
   "display_name": "Python 3",
   "language": "python",
   "name": "python3"
  },
  "language_info": {
   "codemirror_mode": {
    "name": "ipython",
    "version": 3
   },
   "file_extension": ".py",
   "mimetype": "text/x-python",
   "name": "python",
   "nbconvert_exporter": "python",
   "pygments_lexer": "ipython3",
   "version": "3.7.6"
  },
  "toc": {
   "base_numbering": 1,
   "nav_menu": {},
   "number_sections": true,
   "sideBar": true,
   "skip_h1_title": false,
   "title_cell": "Table of Contents",
   "title_sidebar": "Contents",
   "toc_cell": false,
   "toc_position": {},
   "toc_section_display": true,
   "toc_window_display": false
  },
  "varInspector": {
   "cols": {
    "lenName": 16,
    "lenType": 16,
    "lenVar": 40
   },
   "kernels_config": {
    "python": {
     "delete_cmd_postfix": "",
     "delete_cmd_prefix": "del ",
     "library": "var_list.py",
     "varRefreshCmd": "print(var_dic_list())"
    },
    "r": {
     "delete_cmd_postfix": ") ",
     "delete_cmd_prefix": "rm(",
     "library": "var_list.r",
     "varRefreshCmd": "cat(var_dic_list()) "
    }
   },
   "types_to_exclude": [
    "module",
    "function",
    "builtin_function_or_method",
    "instance",
    "_Feature"
   ],
   "window_display": false
  }
 },
 "nbformat": 4,
 "nbformat_minor": 4
}
