{
 "cells": [
  {
   "cell_type": "code",
   "execution_count": null,
   "metadata": {
    "ExecuteTime": {
     "end_time": "2022-07-26T16:45:39.055149Z",
     "start_time": "2022-07-26T16:45:31.644819Z"
    }
   },
   "outputs": [],
   "source": [
    "import barmuscomp.ae_utils as ae_utils\n",
    "import barmuscomp.ae as ae\n",
    "import barmuscomp.ae_ntd as ae_ntd\n",
    "import barmuscomp.scripts.default_path as paths\n",
    "import barmuscomp.scripts.overall_scripts as scr\n",
    "import barmuscomp.model.features as features\n",
    "import barmuscomp.model.pattern_study as pattern_study\n",
    "import barmuscomp.model.plot_comparison_ae_ntd as plot_aentd\n",
    "from barmuscomp.model.current_plot import *\n",
    "\n",
    "import as_seg.CBM_algorithm as CBM\n",
    "import as_seg.barwise_input as bi\n",
    "import as_seg.data_manipulation as dm\n",
    "import as_seg.autosimilarity_computation as as_comp\n",
    "\n",
    "import math\n",
    "import numpy as np\n",
    "import pandas as pd\n",
    "import mirdata\n",
    "import os\n",
    "import tensorly as tl\n",
    "import librosa\n",
    "import soundfile as sf\n",
    "import torch\n",
    "import IPython.display as ipd"
   ]
  },
  {
   "cell_type": "code",
   "execution_count": null,
   "metadata": {
    "ExecuteTime": {
     "end_time": "2022-07-26T16:45:39.071108Z",
     "start_time": "2022-07-26T16:45:39.057145Z"
    }
   },
   "outputs": [],
   "source": [
    "## Important parameters\n",
    "feature = \"stft\"\n",
    "beta = 2\n",
    "ntd_dimensions = [32,12,10]\n",
    "autosimilarity_type = \"Cosine\"\n",
    "n_epochs = 10\n",
    "\n",
    "nb_bars = 16 ########## SDR is computed on these bars\n",
    "\n",
    "plot_patterns = True\n",
    "nb_patterns_to_show = 4\n",
    "\n",
    "if beta == 2:\n",
    "    recons_loss = torch.nn.MSELoss()\n",
    "else:\n",
    "    recons_loss = ae_utils.BetaDivergenceLoss(beta)"
   ]
  },
  {
   "cell_type": "code",
   "execution_count": null,
   "metadata": {
    "ExecuteTime": {
     "end_time": "2022-07-26T16:46:53.185429Z",
     "start_time": "2022-07-26T16:45:39.076093Z"
    }
   },
   "outputs": [],
   "source": [
    "# Standard Hyperparemeters\n",
    "subdivision = 96\n",
    "time = nb_bars * subdivision\n",
    "hop_length = 32\n",
    "hop_length_seconds = hop_length/44100\n",
    "batch_size = None\n",
    "lr = 1e-3\n",
    "compute_if_not_persisted = True\n",
    "verbose = False\n",
    "n_fft=2048\n",
    "init_ntd = \"tucker\"\n",
    "\n",
    "# Song\n",
    "song_name = \"The Beatles - Come Together\"\n",
    "song_path = \"C:/Users/amarmore/this_folder/The Beatles - Come Together.wav\"\n",
    "the_signal, sampling_rate = sf.read(song_path)\n",
    "\n",
    "# Get the downbeats\n",
    "bars = np.load(\"C:/Users/amarmore/Desktop/data_persisted/bars/The Beatles - Come Together.npy\") #dm.get_bars_from_audio(song_path)\n",
    "\n",
    "median_hop = pattern_study.get_median_hop(bars, subdivision = subdivision)\n",
    "\n",
    "stft_complex = librosa.core.stft(np.asfortranarray(the_signal[:,0]), n_fft=n_fft, hop_length = hop_length)\n",
    "if the_signal.shape[1] > 1:\n",
    "    for i in range(1,the_signal.shape[1]):\n",
    "        stft_complex += librosa.core.stft(np.asfortranarray(the_signal[:,i]), n_fft=n_fft, hop_length = hop_length)\n",
    "        \n",
    "complex_tensor_stft = bi.tensorize_barwise_FTB(stft_complex, bars, hop_length_seconds, subdivision)"
   ]
  },
  {
   "cell_type": "code",
   "execution_count": null,
   "metadata": {
    "ExecuteTime": {
     "end_time": "2022-07-26T16:46:54.424817Z",
     "start_time": "2022-07-26T16:46:53.215115Z"
    }
   },
   "outputs": [],
   "source": [
    "# NTD\n",
    "tensor_spectrogram_ntd, tensor_phase = librosa.magphase(complex_tensor_stft, power=1) \n",
    "if beta == 2:\n",
    "    persisted_arguments = f\"_{song_name}_{feature}_{init_ntd}_{subdivision}\"\n",
    "    core, factors = scr.NTD_decomp_as_script(paths.path_data_persisted_come_together, persisted_arguments, tensor_spectrogram_ntd, ntd_dimensions, init = init_ntd, update_rule = \"hals\", beta = 2, compute_if_not_persisted = compute_if_not_persisted)\n",
    "else:\n",
    "    persisted_arguments = f\"mu_slow_{song_name}_beta{beta}_{feature}_{init_ntd}_{subdivision}_n_iter_max1000\"\n",
    "    core, factors = scr.NTD_decomp_as_script(paths.path_data_persisted_come_together, persisted_arguments, tensor_spectrogram_ntd, ntd_dimensions, init = init_ntd, update_rule = \"mu\", beta = beta, compute_if_not_persisted = compute_if_not_persisted)\n",
    "bn_latent_init_stds = [np.std(factors[2][:,i]) for i in range(factors[2].shape[1])]\n",
    "bn_latent_init_avgs = [np.mean(factors[2][:,i]) for i in range(factors[2].shape[1])]\n",
    "\n",
    "ntd_reconstruction = tl.tenalg.multi_mode_dot(core, factors)\n",
    "\n",
    "nb_bars_song = tensor_spectrogram_ntd.shape[2]\n",
    "freq_size = tensor_spectrogram_ntd.shape[0]"
   ]
  },
  {
   "cell_type": "code",
   "execution_count": null,
   "metadata": {
    "ExecuteTime": {
     "end_time": "2022-07-26T16:46:59.032307Z",
     "start_time": "2022-07-26T16:46:54.426811Z"
    }
   },
   "outputs": [],
   "source": [
    "# AE\n",
    "stft_mag = np.abs(stft_complex)\n",
    "tensor_spectrogram_ae = bi.tensorize_barwise_BFT(stft_mag, bars, hop_length_seconds, subdivision)\n",
    "\n",
    "fc_data_loader = ae_utils.generate_flatten_dataloader(tensor_spectrogram_ae, batch_size = batch_size)\n",
    "conv_data_loader = ae_utils.generate_dataloader(tensor_spectrogram_ae, batch_size = batch_size)"
   ]
  },
  {
   "cell_type": "code",
   "execution_count": null,
   "metadata": {
    "ExecuteTime": {
     "end_time": "2022-07-26T16:46:59.047268Z",
     "start_time": "2022-07-26T16:46:59.039293Z"
    }
   },
   "outputs": [],
   "source": [
    "#signal_stft_istft = librosa.istft(np.reshape((tensor_spectrogram_ntd*tensor_phase)[:,:,:nb_bars], (1025, time), order = 'F'), hop_length = median_hop)\n",
    "#ipd.Audio(signal_stft_istft, rate=sampling_rate)"
   ]
  },
  {
   "cell_type": "markdown",
   "metadata": {},
   "source": [
    "# Résultats NTD"
   ]
  },
  {
   "cell_type": "code",
   "execution_count": null,
   "metadata": {
    "ExecuteTime": {
     "end_time": "2022-07-26T16:47:00.680462Z",
     "start_time": "2022-07-26T16:46:59.052254Z"
    }
   },
   "outputs": [],
   "source": [
    "autosimilarity_ntd = as_comp.switch_autosimilarity(factors[2], similarity_type = autosimilarity_type, normalise = True)\n",
    "plot_me_this_spectrogram(autosimilarity_ntd, title = \"Autosimilarity of Q\")\n",
    "print(f\"NTD reconstruction error: {recons_loss(torch.tensor(tensor_spectrogram_ntd).float(), torch.tensor(ntd_reconstruction).float())}\")\n",
    "\n",
    "plot_me_this_spectrogram(factors[0], title = \"W matrix\")\n",
    "plot_me_this_spectrogram(factors[1].T, title = \"H matrix\")\n",
    "plot_me_this_spectrogram(factors[2].T, title = \"Q matrix\")"
   ]
  },
  {
   "cell_type": "code",
   "execution_count": null,
   "metadata": {
    "ExecuteTime": {
     "end_time": "2022-07-26T16:47:24.403579Z",
     "start_time": "2022-07-26T16:47:00.683454Z"
    }
   },
   "outputs": [],
   "source": [
    "# Patterns Griffin-Lim\n",
    "song_sdr_gl, patterns_sdr_gl, audio_patterns_ntd_gl = pattern_study.sdr_songscale_patternscale_encpasulation(core, factors, median_hop, \n",
    "                                         tensor_mag_original = tensor_spectrogram_ntd, tensor_phase_original = tensor_phase,\n",
    "                                         nb_bars = nb_bars, phase_retrieval_song = \"griffin_lim\", phase_retrieval_patterns = \"griffin_lim\", subdivision = subdivision)\n",
    "\n",
    "if plot_patterns:\n",
    "    spec_patterns_ntd = []\n",
    "    for i in range(nb_patterns_to_show):\n",
    "        pattern = factors[0]@core[:,:,i]@factors[1].T\n",
    "        spec_patterns_ntd.append(pattern)\n",
    "        plot_me_this_spectrogram(pattern, title = f\"{i}-th pattern\")\n",
    "        ipd.display(audio_patterns_ntd_gl[i])"
   ]
  },
  {
   "cell_type": "code",
   "execution_count": null,
   "metadata": {
    "ExecuteTime": {
     "end_time": "2022-07-26T16:47:30.624775Z",
     "start_time": "2022-07-26T16:47:24.408563Z"
    },
    "scrolled": true
   },
   "outputs": [],
   "source": [
    "# Patterns Masking\n",
    "song_sdr_mask, patterns_sdr_mask, audio_patterns_ntd_mask = pattern_study.sdr_songscale_patternscale_encpasulation(core, factors, median_hop, \n",
    "                                         tensor_mag_original = tensor_spectrogram_ntd, tensor_phase_original = tensor_phase,\n",
    "                                         nb_bars = nb_bars, phase_retrieval_song = \"original_phase\", phase_retrieval_patterns = \"masking\", subdivision = subdivision)\n",
    "\n",
    "if plot_patterns:\n",
    "    for i in range(nb_patterns_to_show):\n",
    "        pattern = factors[0]@core[:,:,i]@factors[1].T\n",
    "        plot_me_this_spectrogram(pattern, title = f\"{i}-th pattern\")\n",
    "        ipd.display(audio_patterns_ntd_mask[i])"
   ]
  },
  {
   "cell_type": "markdown",
   "metadata": {},
   "source": [
    "# Décodeur Aléatoire"
   ]
  },
  {
   "cell_type": "markdown",
   "metadata": {},
   "source": [
    "## FC"
   ]
  },
  {
   "cell_type": "code",
   "execution_count": null,
   "metadata": {
    "ExecuteTime": {
     "end_time": "2022-07-26T16:47:50.707690Z",
     "start_time": "2022-07-26T16:47:30.626771Z"
    },
    "scrolled": true
   },
   "outputs": [],
   "source": [
    "fc_random_decoder = ae_ntd.FullyConnectedAutoencoderNTD(input_size_x = subdivision, input_size_y = freq_size, \n",
    "                                                        ntd_dimensions = ntd_dimensions, unfolded_G = None, W = None, H = None,\n",
    "                                                        bn_latent_init_stds = None, bn_latent_init_avgs = None,\n",
    "                                                        beta = beta, seed = 42)\n",
    "fc_random_decoder, losses = fc_random_decoder.my_optim_method(n_epochs, fc_data_loader, verbose = verbose, lr = lr*10)\n",
    "print(f\"Final reconstruction error: {losses[-1]}\")\n",
    "plt.plot(losses)\n",
    "plt.title(\"Reconstruction error with iterations\")\n",
    "plt.legend([\"Reconstruction error\"])\n",
    "plt.yscale('log')\n",
    "plt.show()\n",
    "\n",
    "projection_fc_random = fc_random_decoder.get_latent_projection(fc_data_loader)"
   ]
  },
  {
   "cell_type": "code",
   "execution_count": null,
   "metadata": {
    "ExecuteTime": {
     "end_time": "2022-07-26T16:48:08.622017Z",
     "start_time": "2022-07-26T16:47:50.711680Z"
    }
   },
   "outputs": [],
   "source": [
    "plot_aentd.plot_comparison_this_ae_ntd(fc_random_decoder, projection_fc_random, median_hop, factors, tensor_spectrogram_ntd, tensor_phase, \n",
    "                                       nb_bars, phase_retrieval_song = \"griffin_lim\", phase_retrieval_patterns= \"griffin_lim\",\n",
    "                            autosimilarity_type = autosimilarity_type, plot_patterns = True, nb_patterns_to_show = nb_patterns_to_show,\n",
    "                            spec_patterns_ntd = spec_patterns_ntd, signal_patterns_ntd = audio_patterns_ntd_gl)"
   ]
  },
  {
   "cell_type": "code",
   "execution_count": null,
   "metadata": {
    "ExecuteTime": {
     "end_time": "2022-07-26T16:48:20.643193Z",
     "start_time": "2022-07-26T16:48:08.628046Z"
    }
   },
   "outputs": [],
   "source": [
    "plot_aentd.plot_comparison_this_ae_ntd(fc_random_decoder, projection_fc_random, median_hop, factors,\n",
    "                            tensor_spectrogram_ntd, tensor_phase,\n",
    "                            nb_bars, phase_retrieval_song = \"original_phase\", phase_retrieval_patterns= \"masking\",\n",
    "                            autosimilarity_type = autosimilarity_type, plot_patterns = True, nb_patterns_to_show = nb_patterns_to_show,\n",
    "                            spec_patterns_ntd = spec_patterns_ntd, signal_patterns_ntd = audio_patterns_ntd_mask)"
   ]
  },
  {
   "cell_type": "markdown",
   "metadata": {},
   "source": [
    "# Decodeur General Init"
   ]
  },
  {
   "cell_type": "code",
   "execution_count": null,
   "metadata": {
    "ExecuteTime": {
     "end_time": "2022-07-26T16:48:20.659150Z",
     "start_time": "2022-07-26T16:48:20.646188Z"
    }
   },
   "outputs": [],
   "source": [
    "import sklearn.cluster\n",
    "path_to_save_cluster = \"C:/Users/amarmore/Desktop/data_persisted/cluster_matrices\""
   ]
  },
  {
   "cell_type": "code",
   "execution_count": null,
   "metadata": {
    "ExecuteTime": {
     "end_time": "2022-07-26T16:52:13.785810Z",
     "start_time": "2022-07-26T16:52:13.436764Z"
    }
   },
   "outputs": [],
   "source": [
    "big_h = []\n",
    "big_w = []\n",
    "ntd_dimensions_load_cluster = [32, 16, 16]\n",
    "for song_name in range(1,101):\n",
    "    if beta == 2:\n",
    "        persisted_arguments = f\"_{song_name}_nn_log_mel_grill_{init_ntd}_{subdivision}\"\n",
    "        path_ntd = f\"{paths.path_data_persisted_rwc}/ntd/{ntd_dimensions_load_cluster[0]}_{ntd_dimensions_load_cluster[1]}_{ntd_dimensions_load_cluster[2]}\"\n",
    "    else:\n",
    "        persisted_arguments = f\"mu_slow_{song_name}_beta{beta}_nn_log_mel_grill_{init_ntd}_{subdivision}_n_iter_max1000\"\n",
    "        path_ntd = f\"{paths.path_data_persisted_rwc}/ntd_mu/{ntd_dimensions_load_cluster[0]}_{ntd_dimensions_load_cluster[1]}_{ntd_dimensions_load_cluster[2]}\"\n",
    "\n",
    "    factors_tmp = np.load(f\"{path_ntd}/factors{persisted_arguments}.npy\", allow_pickle = True)\n",
    "\n",
    "    for column_h in factors_tmp[1].T:\n",
    "        big_h.append(column_h)\n",
    "    for column_w in factors_tmp[0].T:\n",
    "        big_w.append(column_w)"
   ]
  },
  {
   "cell_type": "code",
   "execution_count": null,
   "metadata": {
    "ExecuteTime": {
     "end_time": "2022-07-26T16:48:21.562112Z",
     "start_time": "2022-07-26T16:48:20.816940Z"
    }
   },
   "outputs": [],
   "source": [
    "kmeansh = sklearn.cluster.KMeans(n_clusters = ntd_dimensions[1], random_state = 42).fit(big_h)\n",
    "k_means_h = kmeansh.cluster_centers_\n",
    "k_means_h = k_means_h.T\n",
    "#np.save(f\"{path_to_save_cluster}/kmeans_H_rwcpop_dimensions{ntd_dimensions}_beta{beta}\", k_means_h)\n",
    "#k_means_h = np.load(f\"{path_to_save_cluster}/kmeans_H_rwcpop_dimensions{ntd_dimensions}_beta{beta}.npy\")\n",
    "perm_cluster_h = permutate_factor(k_means_h)\n",
    "plot_me_this_spectrogram(k_means_h[:,perm_cluster_h].T, x_axis = \"Time, at the barscale\", y_axis = \"Rhythmic patterns\",\n",
    "                         title = None)#\"Cluster centroids for H\")  "
   ]
  },
  {
   "cell_type": "code",
   "execution_count": null,
   "metadata": {
    "ExecuteTime": {
     "end_time": "2022-07-26T16:53:44.440171Z",
     "start_time": "2022-07-26T16:53:42.618026Z"
    }
   },
   "outputs": [],
   "source": [
    "kmeansw = sklearn.cluster.KMeans(n_clusters = ntd_dimensions[0], random_state = 42).fit(big_w)\n",
    "k_means_w = kmeansw.cluster_centers_\n",
    "k_means_w = k_means_w.T\n",
    "k_means_w_mel = librosa.db_to_power(k_means_w) - np.ones(k_means_w.shape)    \n",
    "k_means_w_stft = librosa.feature.inverse.mel_to_stft(k_means_w_mel, sr=44100, n_fft=2048, power=2.0, fmin=80.0, fmax=16000)\n",
    "\n",
    "#np.save(f\"{path_to_save_cluster}/kmeans_W_rwcpop_dimensions{ntd_dimensions}_beta{beta}\", k_means_w)\n",
    "#k_means_w = np.load(f\"{path_to_save_cluster}/kmeans_W_rwcpop_dimensions{ntd_dimensions}_beta{beta}.npy\")\n",
    "perm_cluster_w = permutate_factor(k_means_w_stft)\n",
    "plot_me_this_spectrogram(k_means_w_stft[:,perm_cluster_w], x_axis = \"Frequential patterns\", y_axis = \"Mel scale\",\n",
    "                         title = None)#\"Cluster centroids for W\""
   ]
  },
  {
   "cell_type": "code",
   "execution_count": null,
   "metadata": {
    "ExecuteTime": {
     "end_time": "2022-07-26T16:49:14.759791Z",
     "start_time": "2022-07-26T16:48:48.571058Z"
    }
   },
   "outputs": [],
   "source": [
    "fc_init_centroid = ae_ntd.FullyConnectedAutoencoderNTD(input_size_x = subdivision, input_size_y = freq_size, \n",
    "                                                        ntd_dimensions = ntd_dimensions, unfolded_G = None, W = k_means_w_stft, H = k_means_h,\n",
    "                                                        bn_latent_init_stds = None, bn_latent_init_avgs = None,\n",
    "                                                        beta = beta, seed = 42)\n",
    "fc_init_centroid, losses = fc_init_centroid.my_optim_method(n_epochs, fc_data_loader, verbose = verbose, lr = lr)\n",
    "print(f\"Final reconstruction error: {losses[-1]}\")\n",
    "plt.plot(losses)\n",
    "plt.title(\"Reconstruction error with iterations\")\n",
    "plt.legend([\"Reconstruction error\"])\n",
    "plt.yscale('log')\n",
    "plt.show()\n",
    "\n",
    "projection_fc_init_centroid = fc_init_centroid.get_latent_projection(fc_data_loader)"
   ]
  },
  {
   "cell_type": "code",
   "execution_count": null,
   "metadata": {
    "ExecuteTime": {
     "end_time": "2022-07-26T16:49:41.569191Z",
     "start_time": "2022-07-26T16:49:24.508893Z"
    }
   },
   "outputs": [],
   "source": [
    "plot_aentd.plot_comparison_this_ae_ntd(fc_init_centroid, projection_fc_init_centroid, median_hop, factors, tensor_spectrogram_ntd, tensor_phase, \n",
    "                                       nb_bars, phase_retrieval_song = \"griffin_lim\", phase_retrieval_patterns= \"griffin_lim\",\n",
    "                            autosimilarity_type = autosimilarity_type, plot_patterns = True, nb_patterns_to_show = nb_patterns_to_show,\n",
    "                            spec_patterns_ntd = spec_patterns_ntd, signal_patterns_ntd = audio_patterns_ntd_gl)"
   ]
  },
  {
   "cell_type": "code",
   "execution_count": null,
   "metadata": {
    "ExecuteTime": {
     "end_time": "2022-07-26T16:56:34.736006Z",
     "start_time": "2022-07-26T16:56:26.659113Z"
    }
   },
   "outputs": [],
   "source": [
    "plot_aentd.plot_comparison_this_ae_ntd(fc_init_centroid, projection_fc_init_centroid, median_hop, factors,\n",
    "                            tensor_spectrogram_ntd, tensor_phase,\n",
    "                            nb_bars, phase_retrieval_song = \"original_phase\", phase_retrieval_patterns= \"masking\",\n",
    "                            autosimilarity_type = autosimilarity_type, plot_patterns = True, nb_patterns_to_show = nb_patterns_to_show,\n",
    "                            spec_patterns_ntd = spec_patterns_ntd, signal_patterns_ntd = audio_patterns_ntd_mask)"
   ]
  },
  {
   "cell_type": "markdown",
   "metadata": {},
   "source": [
    "# Décodeur initalisé avec NTD"
   ]
  },
  {
   "cell_type": "markdown",
   "metadata": {},
   "source": [
    "## FC"
   ]
  },
  {
   "cell_type": "code",
   "execution_count": null,
   "metadata": {
    "ExecuteTime": {
     "end_time": "2022-07-26T16:58:07.277993Z",
     "start_time": "2022-07-26T16:57:46.544124Z"
    },
    "scrolled": true
   },
   "outputs": [],
   "source": [
    "fc_init_ntd = ae_ntd.FullyConnectedAutoencoderNTD(input_size_x = subdivision, input_size_y = freq_size, \n",
    "                                                        ntd_dimensions = ntd_dimensions, unfolded_G = tl.unfold(core, 2),\n",
    "                                                        W = factors[0], H = factors[1],\n",
    "                                                        bn_latent_init_stds = bn_latent_init_stds, bn_latent_init_avgs = bn_latent_init_avgs,\n",
    "                                                        beta = beta, seed = 42)\n",
    "fc_init_ntd, losses = fc_init_ntd.my_optim_method(n_epochs, fc_data_loader, verbose = verbose, lr = lr)\n",
    "print(f\"Final reconstruction error: {losses[-1]}\")\n",
    "plt.plot(losses)\n",
    "plt.title(\"Reconstruction error with iterations\")\n",
    "plt.legend([\"Reconstruction error\"])\n",
    "plt.yscale('log')\n",
    "plt.show()\n",
    "\n",
    "projection_fc_init_ntd = fc_init_ntd.get_latent_projection(fc_data_loader)"
   ]
  },
  {
   "cell_type": "code",
   "execution_count": null,
   "metadata": {
    "ExecuteTime": {
     "end_time": "2022-07-26T16:59:34.995457Z",
     "start_time": "2022-07-26T16:59:19.653279Z"
    }
   },
   "outputs": [],
   "source": [
    "plot_aentd.plot_comparison_this_ae_ntd(fc_init_ntd, projection_fc_init_ntd, median_hop, factors, tensor_spectrogram_ntd, tensor_phase, \n",
    "                                       nb_bars, phase_retrieval_song = \"griffin_lim\", phase_retrieval_patterns= \"griffin_lim\",\n",
    "                            autosimilarity_type = autosimilarity_type, plot_patterns = True, nb_patterns_to_show = nb_patterns_to_show,\n",
    "                            spec_patterns_ntd = spec_patterns_ntd, signal_patterns_ntd = audio_patterns_ntd_gl)"
   ]
  },
  {
   "cell_type": "code",
   "execution_count": null,
   "metadata": {
    "ExecuteTime": {
     "end_time": "2022-07-26T17:00:53.214871Z",
     "start_time": "2022-07-26T17:00:43.292793Z"
    },
    "scrolled": false
   },
   "outputs": [],
   "source": [
    "plot_aentd.plot_comparison_this_ae_ntd(fc_init_ntd, projection_fc_init_ntd, median_hop, factors,\n",
    "                            tensor_spectrogram_ntd, tensor_phase,\n",
    "                            nb_bars, phase_retrieval_song = \"original_phase\", phase_retrieval_patterns= \"masking\",\n",
    "                            autosimilarity_type = autosimilarity_type, plot_patterns = True, nb_patterns_to_show = nb_patterns_to_show,\n",
    "                            spec_patterns_ntd = spec_patterns_ntd, signal_patterns_ntd = audio_patterns_ntd_mask)"
   ]
  }
 ],
 "metadata": {
  "kernelspec": {
   "display_name": "Python 3 (ipykernel)",
   "language": "python",
   "name": "python3"
  },
  "language_info": {
   "codemirror_mode": {
    "name": "ipython",
    "version": 3
   },
   "file_extension": ".py",
   "mimetype": "text/x-python",
   "name": "python",
   "nbconvert_exporter": "python",
   "pygments_lexer": "ipython3",
   "version": "3.8.12"
  },
  "toc": {
   "base_numbering": 1,
   "nav_menu": {},
   "number_sections": true,
   "sideBar": true,
   "skip_h1_title": false,
   "title_cell": "Table of Contents",
   "title_sidebar": "Contents",
   "toc_cell": false,
   "toc_position": {},
   "toc_section_display": true,
   "toc_window_display": false
  },
  "varInspector": {
   "cols": {
    "lenName": 16,
    "lenType": 16,
    "lenVar": 40
   },
   "kernels_config": {
    "python": {
     "delete_cmd_postfix": "",
     "delete_cmd_prefix": "del ",
     "library": "var_list.py",
     "varRefreshCmd": "print(var_dic_list())"
    },
    "r": {
     "delete_cmd_postfix": ") ",
     "delete_cmd_prefix": "rm(",
     "library": "var_list.r",
     "varRefreshCmd": "cat(var_dic_list()) "
    }
   },
   "types_to_exclude": [
    "module",
    "function",
    "builtin_function_or_method",
    "instance",
    "_Feature"
   ],
   "window_display": false
  }
 },
 "nbformat": 4,
 "nbformat_minor": 4
}
