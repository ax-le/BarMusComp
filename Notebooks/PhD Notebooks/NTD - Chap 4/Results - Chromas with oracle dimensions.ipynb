{
 "cells": [
  {
   "cell_type": "code",
   "execution_count": 1,
   "id": "b3e353df",
   "metadata": {
    "ExecuteTime": {
     "end_time": "2022-04-29T13:19:13.801682Z",
     "start_time": "2022-04-29T13:19:12.515652Z"
    }
   },
   "outputs": [],
   "source": [
    "import barmuscomp.scripts.default_path as paths\n",
    "import barmuscomp.scripts.overall_scripts as scr\n",
    "import as_seg.data_manipulation as dm\n",
    "import as_seg.CBM_algorithm as CBM\n",
    "import as_seg.autosimilarity_computation as as_comp\n",
    "#import as_seg.barwise_input as bi\n",
    "from barmuscomp.model.current_plot import *\n",
    "\n",
    "import math\n",
    "import numpy as np\n",
    "import pandas as pd\n",
    "import mirdata\n",
    "import os\n",
    "import tensorly as tl"
   ]
  },
  {
   "cell_type": "code",
   "execution_count": 2,
   "id": "f97eac92",
   "metadata": {
    "ExecuteTime": {
     "end_time": "2022-04-29T13:19:13.807598Z",
     "start_time": "2022-04-29T13:19:13.802636Z"
    }
   },
   "outputs": [],
   "source": [
    "colors = ['tab:green', 'tab:purple','tab:red','tab:olive']\n",
    "markers = ['^', 's', 'o','v']\n",
    "\n",
    "convolution_type = \"14_bands\"\n",
    "autosimilarity_types = [\"Cosine\", \"Covariance\", \"RBF\"]\n",
    "pen_function = \"modulo8\"\n",
    "features = [\"pcp\"]#\"nn_log_mel_grill\", \"mel_grill\", \n",
    "features_labels = [\"Chromagram\"]#\"NNLMS\", \"Mel\", \n",
    "\n",
    "dimensions_range = [12,16,20,24,28,32,36,40,44,48]\n",
    "lambda_penalty = 1 #np.concatenate([np.arange(0.1, 2.1, 0.1)])"
   ]
  },
  {
   "cell_type": "code",
   "execution_count": 3,
   "id": "b9025959",
   "metadata": {
    "ExecuteTime": {
     "end_time": "2022-04-29T13:19:13.822558Z",
     "start_time": "2022-04-29T13:19:13.809594Z"
    }
   },
   "outputs": [],
   "source": [
    "def compute_this_penalty_lambda_fitting(penalty_func, lambda_penalty, dimensions_range, autosimilarity_type = \"cosine\", feature = \"nn_log_mel_grill\", convolution_type = \"14_bands\", update_rule = \"hals\", beta = None):\n",
    "    idx_song_max = 101 # Should be 101 for all the dataset, other values should be for tests only\n",
    "    songs_range = range(1,idx_song_max) \n",
    "    subdivision = 96\n",
    "    hop_length = 32\n",
    "    hop_length_seconds = hop_length/44100\n",
    "    if feature == \"pcp\":\n",
    "        dim_range_W = [12]\n",
    "        init = \"chromas\"\n",
    "    else:\n",
    "        dim_range_W = dimensions_range\n",
    "        init = \"tucker\"\n",
    "    \n",
    "    results_songs_lambdas = math.inf * np.ones((len(songs_range), len(dim_range_W), len(dimensions_range), len(dimensions_range), 2, 3)) # Songs, autosimilarity types, tol, metrics\n",
    "    repartition_songs_lambdas = np.zeros((len(dim_range_W), len(dimensions_range), len(dimensions_range), 40)) # Songs, autosimilarity types, tol, metrics\n",
    "\n",
    "    for idx_song, song_name in enumerate(songs_range):\n",
    "        spectrogram, bars, references_segments = scr.load_spec_annot_song_RWC(song_name, feature, hop_length)\n",
    "        for idx_W, dim_W in enumerate(dim_range_W):\n",
    "            for idx_H, dim_H in enumerate(dimensions_range):\n",
    "                for idx_Q, dim_Q in enumerate(dimensions_range):\n",
    "                    if update_rule == \"hals\":\n",
    "                        path_for_ntd = f\"{paths.path_data_persisted_rwc}/ntd/{dim_W}_{dim_H}_{dim_Q}\"\n",
    "                        persisted_arguments = f\"_{song_name}_{feature}_{init}_96\"\n",
    "                    elif update_rule == \"mu\":\n",
    "                        path_for_ntd = f\"{paths.path_data_persisted_rwc}/ntd_mu/{dim_W}_{dim_H}_{dim_Q}\"\n",
    "                        persisted_arguments = f\"mu_slow_{song_name}_beta{beta}_{feature}_{init}_96_n_iter_max1000\"\n",
    "                    a_factor_path = f\"{path_for_ntd}/factors{persisted_arguments}.npy\"\n",
    "                    Q_matrix = np.load(a_factor_path, allow_pickle=True)[2]\n",
    "                    autosimilarity_Q_matrix = as_comp.switch_autosimilarity(Q_matrix, similarity_type = autosimilarity_type, normalise = True)\n",
    "                    segments = CBM.compute_cbm(autosimilarity_Q_matrix, penalty_weight = lambda_penalty, penalty_func = penalty_func, convolution_type = convolution_type)[0]                \n",
    "                    segments_in_time = dm.segments_from_bar_to_time(segments, bars)\n",
    "                    for end, start in segments:\n",
    "                        repartition_songs_lambdas[idx_W, idx_H, idx_Q, start - end] += 1\n",
    "                    prec05, rap05, f_mes05 = dm.compute_score_of_segmentation(references_segments, segments_in_time, window_length = 0.5)\n",
    "                    prec3, rap3, f_mes3 = dm.compute_score_of_segmentation(references_segments, segments_in_time, window_length = 3)\n",
    "                    this_score = [[round(prec05,4),round(rap05,4),round(f_mes05,4)], [round(prec3,4),round(rap3,4),round(f_mes3,4)]]\n",
    "                    results_songs_lambdas[idx_song, idx_W, idx_H, idx_Q] = this_score\n",
    "    \n",
    "    best_prec_05 = 0\n",
    "    best_prec_3 = 0\n",
    "    best_rec_05 = 0\n",
    "    best_rec_3 = 0\n",
    "    best_fmes_05 = 0\n",
    "    best_fmes_3 = 0\n",
    "    for idx_sog, song_name in enumerate(songs_range):\n",
    "        arg_max = np.argmax(results_songs_lambdas[idx_sog, :,:,:,0, 2] + results_songs_lambdas[idx_sog, :,:,:,1, 2])\n",
    "        best_args = np.unravel_index(arg_max, np.array(results_songs_lambdas[idx_sog, :,:,:,0, 2]).shape)\n",
    "        best_prec_05 += results_songs_lambdas[idx_sog, best_args[0], best_args[1], best_args[2],0, 0]\n",
    "        best_prec_3 += results_songs_lambdas[idx_sog, best_args[0], best_args[1], best_args[2],1, 0]\n",
    "        best_rec_05 += results_songs_lambdas[idx_sog, best_args[0], best_args[1], best_args[2],0, 1]\n",
    "        best_rec_3 += results_songs_lambdas[idx_sog, best_args[0], best_args[1], best_args[2],1, 1]\n",
    "        best_fmes_05 += results_songs_lambdas[idx_sog, best_args[0], best_args[1], best_args[2],0, 2]\n",
    "        best_fmes_3 += results_songs_lambdas[idx_sog, best_args[0], best_args[1], best_args[2],1, 2]\n",
    "\n",
    "    return best_fmes_05/len(songs_range), best_fmes_3/len(songs_range)\n"
   ]
  },
  {
   "cell_type": "code",
   "execution_count": 4,
   "id": "680d6d67",
   "metadata": {
    "ExecuteTime": {
     "end_time": "2022-04-29T13:19:13.833529Z",
     "start_time": "2022-04-29T13:19:13.823555Z"
    }
   },
   "outputs": [],
   "source": [
    "def plot_kernels_as(results_diff_as, kernels_or_features, autosimilarities, tol, title = None):\n",
    "    # Order results_diff_as: kernels ou features, as, tol\n",
    "    subaxis = autosimilarities\n",
    "    plt.rcParams.update({'font.size': 14})\n",
    "    \n",
    "    width=0.25\n",
    "    gap = (len(autosimilarities) + 1)*width\n",
    "    colors = [\"#62d5b4\", \"#317373\", \"#184a4a\"]#['skyblue', 'steelblue', 'darkorange', 'brown']\n",
    "    \n",
    "    fig, ax = plt.subplots(1, 1, figsize=(11,4))\n",
    "    ax.set_ylim( 25, 105 )\n",
    "    tab = []\n",
    "    current_start = 0\n",
    "    for i in range(len(autosimilarities)):\n",
    "        indexes = [current_start + j*gap for j in range(len(kernels_or_features))]\n",
    "        tab.append(ax.bar(indexes, results_diff_as[:,i,tol], color=colors[i], width=width, align='edge'))\n",
    "        for idx_x, x in enumerate(indexes):\n",
    "            height = results_diff_as[idx_x, i, tol] \n",
    "            plt.text(x +width/2,height + 2, f\"{height}%\", ha='center', va='bottom', rotation = 90)\n",
    "        current_start += width\n",
    "\n",
    "    ax.set_xticks([current_start/2 + j*gap for j in range(len(kernels_or_features))])\n",
    "    ax.set_xticklabels(kernels_or_features)\n",
    "    if tol == 1:\n",
    "        ax.legend(labels=subaxis, loc='lower left')\n",
    "    else:\n",
    "        ax.legend(labels=subaxis, loc='lower left')\n",
    "\n",
    "    ax.set_ylabel(\"F measure (percentage)\")\n",
    "    #fig.savefig(\"C:/Users/amarmore/Desktop/Mes papiers/figures/results_barcomp_05.pdf\", bbox_inches = \"tight\")#, format='png')\n",
    "    if title != None:\n",
    "        plt.title(title)\n",
    "    plt.show()"
   ]
  },
  {
   "cell_type": "code",
   "execution_count": 5,
   "id": "0e5a2684",
   "metadata": {
    "ExecuteTime": {
     "end_time": "2022-04-29T13:40:00.077060Z",
     "start_time": "2022-04-29T13:19:13.834525Z"
    },
    "scrolled": false
   },
   "outputs": [
    {
     "name": "stdout",
     "output_type": "stream",
     "text": [
      "Update: hals, beta: None\n",
      "Kernel: 14_bands\n",
      "Feature: pcp\n",
      "Autosimilarity type: Cosine\n",
      "Oracle: F05 0.742499, F3 0.8525010000000001\n",
      "Autosimilarity type: Covariance\n",
      "Oracle: F05 0.7176540000000001, F3 0.7960490000000001\n",
      "Autosimilarity type: RBF\n",
      "Oracle: F05 0.7391250000000003, F3 0.8449819999999997\n"
     ]
    }
   ],
   "source": [
    "update_rule = \"hals\"\n",
    "beta = None\n",
    "print(f\"Update: {update_rule}, beta: {beta}\")\n",
    "\n",
    "print(f\"Kernel: {convolution_type}\")\n",
    "\n",
    "for idx_feat, feature in enumerate(features):\n",
    "    print(f\"Feature: {feature}\")\n",
    "    indexes = []\n",
    "    results_this_function = math.inf * np.ones((len(autosimilarity_types), 2, 3))\n",
    "    for idx_as, autosimil_type in enumerate(autosimilarity_types):\n",
    "        print(f\"Autosimilarity type: {autosimil_type}\")\n",
    "        f_05, f_3 = compute_this_penalty_lambda_fitting(pen_function, lambda_penalty, dimensions_range, autosimilarity_type = autosimil_type, feature = feature, convolution_type = convolution_type, update_rule = update_rule, beta = beta)\n",
    "        print(f\"Oracle: F05 {f_05}, F3 {f_3}\")"
   ]
  }
 ],
 "metadata": {
  "kernelspec": {
   "display_name": "Python 3 (ipykernel)",
   "language": "python",
   "name": "python3"
  },
  "language_info": {
   "codemirror_mode": {
    "name": "ipython",
    "version": 3
   },
   "file_extension": ".py",
   "mimetype": "text/x-python",
   "name": "python",
   "nbconvert_exporter": "python",
   "pygments_lexer": "ipython3",
   "version": "3.8.12"
  },
  "toc": {
   "base_numbering": 1,
   "nav_menu": {},
   "number_sections": true,
   "sideBar": true,
   "skip_h1_title": false,
   "title_cell": "Table of Contents",
   "title_sidebar": "Contents",
   "toc_cell": false,
   "toc_position": {},
   "toc_section_display": true,
   "toc_window_display": false
  },
  "varInspector": {
   "cols": {
    "lenName": 16,
    "lenType": 16,
    "lenVar": 40
   },
   "kernels_config": {
    "python": {
     "delete_cmd_postfix": "",
     "delete_cmd_prefix": "del ",
     "library": "var_list.py",
     "varRefreshCmd": "print(var_dic_list())"
    },
    "r": {
     "delete_cmd_postfix": ") ",
     "delete_cmd_prefix": "rm(",
     "library": "var_list.r",
     "varRefreshCmd": "cat(var_dic_list()) "
    }
   },
   "types_to_exclude": [
    "module",
    "function",
    "builtin_function_or_method",
    "instance",
    "_Feature"
   ],
   "window_display": false
  }
 },
 "nbformat": 4,
 "nbformat_minor": 5
}
