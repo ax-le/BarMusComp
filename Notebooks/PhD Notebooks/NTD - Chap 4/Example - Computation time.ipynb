{
 "cells": [
  {
   "cell_type": "code",
   "execution_count": 1,
   "metadata": {
    "ExecuteTime": {
     "end_time": "2022-12-23T21:22:13.577118Z",
     "start_time": "2022-12-23T21:22:12.993676Z"
    }
   },
   "outputs": [],
   "source": [
    "# External imports\n",
    "# Module for manipulating arrays\n",
    "import numpy as np\n",
    "\n",
    "# Module for loading signals\n",
    "import soundfile as sf\n",
    "\n",
    "# Module handling annotations for MIR datasets (including RWC Pop)\n",
    "import mirdata\n",
    "\n",
    "# Module to manipulate tensors, used here to unfold/fold tensors.\n",
    "import tensorly as tl"
   ]
  },
  {
   "cell_type": "code",
   "execution_count": 2,
   "metadata": {
    "ExecuteTime": {
     "end_time": "2022-12-23T21:22:16.975023Z",
     "start_time": "2022-12-23T21:22:13.579110Z"
    }
   },
   "outputs": [],
   "source": [
    "# Module encapsulating the computation of features from the signal\n",
    "import barmuscomp.model.features as features\n",
    "\n",
    "# General module for manipulating data: conversion between time, bars, frame indexes, loading of data, ...\n",
    "import as_seg.data_manipulation as dm\n",
    "\n",
    "# Module to process the input in barwise features\n",
    "import as_seg.barwise_input as bi\n",
    "\n",
    "# Module encapsulating the NTD computation \n",
    "import barmuscomp.lra as lra # The entire NTD code can be obtained in nn_fac.ntd, see this file for more details.\n",
    "\n",
    "# Module containing our algorithm used for computing the autosimilarity\n",
    "import as_seg.autosimilarity_computation as as_comp\n",
    "\n",
    "# Module containing our algorithm used for segmenting the autosimilarity\n",
    "import as_seg.CBM_algorithm as CBM\n",
    "\n",
    "# Plotting module\n",
    "from barmuscomp.model.current_plot import *\n",
    "\n",
    "# Import default paths\n",
    "import barmuscomp.scripts.default_path as paths"
   ]
  },
  {
   "cell_type": "markdown",
   "metadata": {},
   "source": [
    "# Loading the song, and its annotations\n",
    "As an example, we will load the song \"POP-01\" of RWC Pop. You need to possess the song in wav format on your own, as we don't share it.\n",
    "\n",
    "For this code to work automaticaly, you should modify the paths variables in the file `default_path.py` in 'musicntd/scripts', with you own path to the wav files.\n",
    "\n",
    "You can also change the song_path with any of your own song (as a wav), but it could come without annotations."
   ]
  },
  {
   "cell_type": "code",
   "execution_count": 3,
   "metadata": {
    "ExecuteTime": {
     "end_time": "2022-12-23T21:24:16.729406Z",
     "start_time": "2022-12-23T21:22:16.979013Z"
    }
   },
   "outputs": [],
   "source": [
    "# Song\n",
    "song_path = f\"{paths.path_entire_rwc}/1.wav\"\n",
    "the_signal, sampling_rate = sf.read(song_path)\n",
    "\n",
    "# Estimates the downbeats, with madmom\n",
    "bars = dm.get_bars_from_audio(song_path)"
   ]
  },
  {
   "cell_type": "markdown",
   "metadata": {},
   "source": [
    "# Spectrogram\n",
    "Let's compute the spectrogram of the song. We propose either the Mel Spectrorgram or the Nonnegative Log Mel Spectrogram in this code, but you can chose any other feature (either on the file `features.py`, or by looking at the list on the `librosa` package)."
   ]
  },
  {
   "cell_type": "code",
   "execution_count": 5,
   "metadata": {
    "ExecuteTime": {
     "end_time": "2022-12-23T21:25:05.755088Z",
     "start_time": "2022-12-23T21:24:18.820810Z"
    }
   },
   "outputs": [],
   "source": [
    "# Variables for the tensor-spectrogram.\n",
    "hop_length = 32 # Oversampling the spectrogram, to select frames which will be equally-spaced barwise.\n",
    "subdivision_bars = 96 # Number of frame per bar in the tensor-spectrogram\n",
    "\n",
    "# Mel Spectrogram ## NB: called \"Grill\" because it refers to the paper [2].\n",
    "spectrogram = features.get_spectrogram(the_signal, sampling_rate, \"mel_grill\", hop_length)\n",
    "# NN Log Mel Spectrogram\n",
    "#spectrogram = features.get_spectrogram(the_signal, sampling_rate, \"nn_log_mel_grill\", hop_length)"
   ]
  },
  {
   "cell_type": "markdown",
   "metadata": {},
   "source": [
    "# NTD: Nonnegative Tucker Decomposition\n",
    "Let's compute the Nonnegative Tucker Decomposition of this tensor-spectrogram.\n",
    "\n",
    "First, we need to set the dimensions of the decomposition, which correspond to the dimensions of the core. They are set empirically here."
   ]
  },
  {
   "cell_type": "code",
   "execution_count": 13,
   "metadata": {
    "ExecuteTime": {
     "end_time": "2022-12-23T21:26:41.623149Z",
     "start_time": "2022-12-23T21:26:41.613176Z"
    }
   },
   "outputs": [],
   "source": [
    "core_dimensions = [24,24,24] # Dimensions of the decomposition"
   ]
  },
  {
   "cell_type": "markdown",
   "metadata": {},
   "source": [
    "## Euclidean norm: $\\beta$ = 2\n",
    "Below is presetned the decomposition obtained with the HALS algorithm, optimizing the euclidean norm ($\\beta$-divergence with $\\beta = 2$) between the original and the reconstructed tensor.\n",
    "\n",
    "We plot the matrix $Q^T$, corresponding to the barwise representation of the song in terms of patterns. The patterns are defined by the other factors of the decomposition, $W$, $H$ and slices of $G$."
   ]
  },
  {
   "cell_type": "code",
   "execution_count": 14,
   "metadata": {
    "ExecuteTime": {
     "end_time": "2022-12-23T21:27:57.217439Z",
     "start_time": "2022-12-23T21:26:43.032379Z"
    },
    "scrolled": false
   },
   "outputs": [
    {
     "data": {
      "image/png": "[encoded data removed]",
      "text/plain": [
       "<Figure size 849.6x172.8 with 1 Axes>"
      ]
     },
     "metadata": {
      "needs_background": "light"
     },
     "output_type": "display_data"
    }
   ],
   "source": [
    "euc_ntd_projection = lra.get_ntd_projection(spectrogram, core_dimensions, bars, beta = 2, subdivision_bars = subdivision_bars, hop_length = hop_length, sampling_rate = sampling_rate)\n",
    "\n",
    "# The plotting function below is defined in current_plot.py\n",
    "plot_permuted_factor(euc_ntd_projection, title = \"$Q^T$ matrix of this song (barwise representation) with Euclidean norm\", x_axis = \"Bar indexes\", y_axis = \"Musical pattern index\")"
   ]
  },
  {
   "cell_type": "markdown",
   "metadata": {},
   "source": [
    "## $\\beta$ = 1\n",
    "Let's redo this processus with the MU algorithm optimizing the Kullback-Leibler divergence ($\\beta$-divergence with $\\beta = 1$):"
   ]
  },
  {
   "cell_type": "code",
   "execution_count": 17,
   "metadata": {
    "ExecuteTime": {
     "end_time": "2022-12-23T21:31:43.923104Z",
     "start_time": "2022-12-23T21:28:28.297803Z"
    },
    "scrolled": true
   },
   "outputs": [
    {
     "data": {
      "image/png": "[encoded data removed]",
      "text/plain": [
       "<Figure size 849.6x172.8 with 1 Axes>"
      ]
     },
     "metadata": {
      "needs_background": "light"
     },
     "output_type": "display_data"
    }
   ],
   "source": [
    "kl_ntd_projection = lra.get_ntd_projection(spectrogram, core_dimensions, bars, beta = 1, subdivision_bars = subdivision_bars, hop_length = hop_length, sampling_rate = sampling_rate)\n",
    "\n",
    "# The plotting function below is defined in current_plot.py\n",
    "plot_permuted_factor(kl_ntd_projection, title = \"$Q^T$ matrix of this song (barwise representation) with Kullback-Leibler divergence\", x_axis = \"Bar indexes\", y_axis = \"Musical pattern index\")"
   ]
  },
  {
   "cell_type": "markdown",
   "metadata": {},
   "source": [
    "## $\\beta = 0$\n",
    "Let's redo this processus with the MU algorithm optimizing the Itakura-Saito divergence ($\\beta$-divergence with $\\beta = 0$):"
   ]
  },
  {
   "cell_type": "code",
   "execution_count": 20,
   "metadata": {
    "ExecuteTime": {
     "end_time": "2022-12-23T21:43:57.044331Z",
     "start_time": "2022-12-23T21:38:08.252367Z"
    }
   },
   "outputs": [
    {
     "data": {
      "image/png": "[encoded data removed]",
      "text/plain": [
       "<Figure size 849.6x172.8 with 1 Axes>"
      ]
     },
     "metadata": {
      "needs_background": "light"
     },
     "output_type": "display_data"
    }
   ],
   "source": [
    "is_ntd_projection = lra.get_ntd_projection(spectrogram, core_dimensions, bars, beta = 0, subdivision_bars = subdivision_bars, hop_length = hop_length, sampling_rate = sampling_rate)\n",
    "\n",
    "# The plotting function below is defined in current_plot.py\n",
    "plot_permuted_factor(is_ntd_projection, title = \"$Q^T$ matrix of this song (barwise representation)with Itakura-Saito divergence\", x_axis = \"Bar indexes\", y_axis = \"Musical pattern index\")"
   ]
  }
 ],
 "metadata": {
  "kernelspec": {
   "display_name": "Python 3 (ipykernel)",
   "language": "python",
   "name": "python3"
  },
  "language_info": {
   "codemirror_mode": {
    "name": "ipython",
    "version": 3
   },
   "file_extension": ".py",
   "mimetype": "text/x-python",
   "name": "python",
   "nbconvert_exporter": "python",
   "pygments_lexer": "ipython3",
   "version": "3.8.12"
  },
  "toc": {
   "base_numbering": 1,
   "nav_menu": {},
   "number_sections": true,
   "sideBar": true,
   "skip_h1_title": false,
   "title_cell": "Table of Contents",
   "title_sidebar": "Contents",
   "toc_cell": false,
   "toc_position": {},
   "toc_section_display": true,
   "toc_window_display": false
  },
  "varInspector": {
   "cols": {
    "lenName": 16,
    "lenType": 16,
    "lenVar": 40
   },
   "kernels_config": {
    "python": {
     "delete_cmd_postfix": "",
     "delete_cmd_prefix": "del ",
     "library": "var_list.py",
     "varRefreshCmd": "print(var_dic_list())"
    },
    "r": {
     "delete_cmd_postfix": ") ",
     "delete_cmd_prefix": "rm(",
     "library": "var_list.r",
     "varRefreshCmd": "cat(var_dic_list()) "
    }
   },
   "types_to_exclude": [
    "module",
    "function",
    "builtin_function_or_method",
    "instance",
    "_Feature"
   ],
   "window_display": false
  }
 },
 "nbformat": 4,
 "nbformat_minor": 4
}
