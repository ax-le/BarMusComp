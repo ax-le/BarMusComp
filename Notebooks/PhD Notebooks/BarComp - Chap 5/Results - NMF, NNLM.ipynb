{
 "cells": [
  {
   "cell_type": "code",
   "execution_count": 1,
   "id": "b3e353df",
   "metadata": {
    "ExecuteTime": {
     "end_time": "2022-09-30T17:34:14.804369Z",
     "start_time": "2022-09-30T17:34:05.028594Z"
    }
   },
   "outputs": [],
   "source": [
    "import barmuscomp.ae_utils as ae_utils\n",
    "import barmuscomp.ae as ae\n",
    "import barmuscomp.lra as lra\n",
    "import barmuscomp.scripts.default_path as paths\n",
    "import barmuscomp.scripts.overall_scripts as scr\n",
    "\n",
    "import as_seg.CBM_algorithm as CBM\n",
    "import as_seg.barwise_input as bi\n",
    "import as_seg.data_manipulation as dm\n",
    "import as_seg.autosimilarity_computation as as_comp\n",
    "#import as_seg.barwise_input as bi\n",
    "from barmuscomp.model.current_plot import *\n",
    "\n",
    "import math\n",
    "import numpy as np\n",
    "import pandas as pd\n",
    "import mirdata\n",
    "import os\n",
    "import tensorly as tl"
   ]
  },
  {
   "cell_type": "code",
   "execution_count": 2,
   "id": "f97eac92",
   "metadata": {
    "ExecuteTime": {
     "end_time": "2022-09-30T17:34:14.835285Z",
     "start_time": "2022-09-30T17:34:14.823318Z"
    }
   },
   "outputs": [],
   "source": [
    "colors = ['tab:green', 'tab:purple','tab:red','tab:olive']\n",
    "markers = ['^', 's', 'o','v']\n",
    "\n",
    "bands_number = 7\n",
    "autosimilarity_types = [\"Cosine\", \"Covariance\", \"RBF\"]\n",
    "pen_function = \"modulo8\"\n",
    "feature = \"nn_log_mel_grill\"\n",
    "init_nmf = \"nndsvd\"\n",
    "\n",
    "compression_labels = [\"NMF\"]#, \"PCA\", \"SSAE\"]\n",
    "\n",
    "dimensions_range = [8,16,24,32,40]"
   ]
  },
  {
   "cell_type": "code",
   "execution_count": 3,
   "id": "290706e5",
   "metadata": {
    "ExecuteTime": {
     "end_time": "2022-09-30T17:34:14.866204Z",
     "start_time": "2022-09-30T17:34:14.856230Z"
    }
   },
   "outputs": [],
   "source": [
    "def return_results(references_segments, segments_in_time):\n",
    "    prec05, rap05, f_mes05 = dm.compute_score_of_segmentation(references_segments, segments_in_time, window_length = 0.5)\n",
    "    prec3, rap3, f_mes3 = dm.compute_score_of_segmentation(references_segments, segments_in_time, window_length = 3)\n",
    "    return [[round(prec05,4),round(rap05,4),round(f_mes05,4)], [round(prec3,4),round(rap3,4),round(f_mes3,4)]]"
   ]
  },
  {
   "cell_type": "code",
   "execution_count": 4,
   "id": "680d6d67",
   "metadata": {
    "ExecuteTime": {
     "end_time": "2022-09-30T17:34:14.912081Z",
     "start_time": "2022-09-30T17:34:14.887148Z"
    }
   },
   "outputs": [],
   "source": [
    "def plot_kernels_as(results_diff_as, kernels_or_features, autosimilarities, tol, title = None):\n",
    "    # Order results_diff_as: kernels ou features, as, tol\n",
    "    subaxis = autosimilarities\n",
    "    plt.rcParams.update({'font.size': 14})\n",
    "    \n",
    "    width=0.25\n",
    "    gap = (len(autosimilarities) + 1)*width\n",
    "    colors = [\"#62d5b4\", \"#317373\", \"#184a4a\"]#['skyblue', 'steelblue', 'darkorange', 'brown']\n",
    "    \n",
    "    fig, ax = plt.subplots(1, 1, figsize=(11,4))\n",
    "    ax.set_ylim( 25, 105 )\n",
    "    tab = []\n",
    "    current_start = 0\n",
    "    for i in range(len(autosimilarities)):\n",
    "        indexes = [current_start + j*gap for j in range(len(kernels_or_features))]\n",
    "        tab.append(ax.bar(indexes, results_diff_as[:,i,tol], color=colors[i], width=width, align='edge'))\n",
    "        for idx_x, x in enumerate(indexes):\n",
    "            height = results_diff_as[idx_x, i, tol] \n",
    "            plt.text(x +width/2,height + 2, f\"{height}%\", ha='center', va='bottom', rotation = 90)\n",
    "        current_start += width\n",
    "\n",
    "    ax.set_xticks([current_start/2 + j*gap for j in range(len(kernels_or_features))])\n",
    "    ax.set_xticklabels(kernels_or_features)\n",
    "    if tol == 1:\n",
    "        ax.legend(labels=subaxis, loc='lower left')\n",
    "    else:\n",
    "        ax.legend(labels=subaxis, loc='lower left')\n",
    "\n",
    "    ax.set_ylabel(\"F measure (percentage)\")\n",
    "    #fig.savefig(\"C:/Users/amarmore/Desktop/Mes papiers/figures/results_barcomp_05.pdf\", bbox_inches = \"tight\")#, format='png')\n",
    "    if title != None:\n",
    "        plt.title(title)\n",
    "    plt.show()"
   ]
  },
  {
   "cell_type": "markdown",
   "id": "a50d7dde",
   "metadata": {},
   "source": [
    "# EUC"
   ]
  },
  {
   "cell_type": "code",
   "execution_count": 5,
   "id": "b9025959",
   "metadata": {
    "ExecuteTime": {
     "end_time": "2022-09-30T17:34:15.069660Z",
     "start_time": "2022-09-30T17:34:14.932028Z"
    }
   },
   "outputs": [],
   "source": [
    "def compute_this_penalty_compression_euc(penalty_func, dim_patterns, autosimilarity_type = \"cosine\", feature = \"nn_log_mel_grill\", bands_number = 7):\n",
    "    idx_song_max = 101 # Should be 101 for all the dataset, other values should be for tests only\n",
    "    songs_range = range(1,idx_song_max) \n",
    "    subdivision = 96\n",
    "    hop_length = 32\n",
    "    hop_length_seconds = hop_length/44100\n",
    "    lambda_penalty = 1\n",
    "\n",
    "    #results_songs_methods = math.inf * np.ones((len(songs_range), 1, len(dim_patterns), 2, 3)) # Songs, autosimilarity types, tol, metrics\n",
    "    results_songs_nmf = math.inf * np.ones((len(songs_range), len(dim_patterns), 2, 3)) # Songs, autosimilarity types, tol, metrics\n",
    "\n",
    "    for idx_song, song_name in enumerate(songs_range):\n",
    "        spectrogram, bars, references_segments = scr.load_spec_annot_song_RWC(song_name, feature, hop_length)\n",
    "        \n",
    "        for idx_dc, dc in enumerate(dim_patterns):\n",
    "            ### NMF\n",
    "            #idx_method = 0\n",
    "            Q_matrix_nmf = np.load(f\"{paths.path_data_persisted_rwc}/nmf/Q_nmf_dim{dc}_updatehals_init{init_nmf}_song{song_name}_feature{feature}_hop{hop_length}_subdivbars{subdivision}.npy\", allow_pickle = True)\n",
    "\n",
    "            autosimilarity_nmf = as_comp.switch_autosimilarity(Q_matrix_nmf, similarity_type = autosimilarity_type, normalise = True)\n",
    "            segments_nmf = CBM.compute_cbm(autosimilarity_nmf, penalty_weight = lambda_penalty, penalty_func = penalty_func, bands_number = bands_number)[0]                \n",
    "            segments_nmf_in_time = dm.segments_from_bar_to_time(segments_nmf, bars)\n",
    "            results_songs_nmf[idx_song, idx_dc] = return_results(references_segments, segments_nmf_in_time)\n",
    "            \n",
    "    odd_songs = range(0,idx_song_max - 1,2) # Weird, but shouldn't confuse indexes and number\n",
    "    even_songs = range(1,idx_song_max - 1,2)\n",
    "    to_return = -math.inf * np.ones((2, 3))\n",
    "    \n",
    "    #for idx_method in range(1):\n",
    "    avg_odd_songs = np.mean(results_songs_nmf[odd_songs, :,0, 2], axis = 0) + np.mean(results_songs_nmf[odd_songs, :,1, 2], axis = 0)\n",
    "\n",
    "    best_idx_odd = np.argmax(avg_odd_songs)\n",
    "    print(f\"Odd, method {compression_labels[0]}, best dc: {dim_patterns[best_idx_odd]}\")\n",
    "    res_odd = math.inf * np.ones((2,3))\n",
    "    for tol in range(2):\n",
    "        for metric in range(3):\n",
    "            res_odd[tol, metric] = np.mean(results_songs_nmf[even_songs, best_idx_odd, tol, metric])\n",
    "\n",
    "    avg_even_songs = np.mean(results_songs_nmf[even_songs, :,0, 2], axis = 0) + np.mean(results_songs_nmf[even_songs,:,1, 2], axis = 0)\n",
    "    best_idx_even = np.argmax(avg_even_songs)\n",
    "    print(f\"Even, method {compression_labels[0]}, best dc: {dim_patterns[best_idx_even]}\")\n",
    "    res_even = math.inf * np.ones((2,3))\n",
    "    for tol in range(2):\n",
    "        for metric in range(3):\n",
    "            res_even[tol, metric] = np.mean(results_songs_nmf[odd_songs, best_idx_even, tol, metric])\n",
    "\n",
    "    to_return = np.mean(np.array([res_odd, res_even]), axis=0)\n",
    "    return to_return"
   ]
  },
  {
   "cell_type": "code",
   "execution_count": 6,
   "id": "690e5496",
   "metadata": {
    "ExecuteTime": {
     "end_time": "2022-09-30T17:43:25.607912Z",
     "start_time": "2022-09-30T17:34:15.089608Z"
    },
    "scrolled": false
   },
   "outputs": [
    {
     "name": "stdout",
     "output_type": "stream",
     "text": [
      "Kernel: 7\n",
      "Autosimilarity type: Cosine\n",
      "Odd, method NMF, best dc: 8\n",
      "Even, method NMF, best dc: 8\n"
     ]
    },
    {
     "data": {
      "text/html": [
       "<style  type=\"text/css\" >\n",
       "    #T_8d309eb3_40e6_11ed_ab6a_907841dfbba9row0_col2 {\n",
       "            width:  10em;\n",
       "             height:  80%;\n",
       "        }    #T_8d309eb3_40e6_11ed_ab6a_907841dfbba9row0_col5 {\n",
       "            width:  10em;\n",
       "             height:  80%;\n",
       "        }</style><table id=\"T_8d309eb3_40e6_11ed_ab6a_907841dfbba9\" ><thead>    <tr>        <th class=\"blank level0\" ></th>        <th class=\"col_heading level0 col0\" >P0.5</th>        <th class=\"col_heading level0 col1\" >R0.5</th>        <th class=\"col_heading level0 col2\" >F0.5</th>        <th class=\"col_heading level0 col3\" >P3</th>        <th class=\"col_heading level0 col4\" >R3</th>        <th class=\"col_heading level0 col5\" >F3</th>    </tr></thead><tbody>\n",
       "                <tr>\n",
       "                        <th id=\"T_8d309eb3_40e6_11ed_ab6a_907841dfbba9level0_row0\" class=\"row_heading level0 row0\" >NMF</th>\n",
       "                        <td id=\"T_8d309eb3_40e6_11ed_ab6a_907841dfbba9row0_col0\" class=\"data row0 col0\" >0.5636</td>\n",
       "                        <td id=\"T_8d309eb3_40e6_11ed_ab6a_907841dfbba9row0_col1\" class=\"data row0 col1\" >0.6187</td>\n",
       "                        <td id=\"T_8d309eb3_40e6_11ed_ab6a_907841dfbba9row0_col2\" class=\"data row0 col2\" >0.5838</td>\n",
       "                        <td id=\"T_8d309eb3_40e6_11ed_ab6a_907841dfbba9row0_col3\" class=\"data row0 col3\" >0.7069</td>\n",
       "                        <td id=\"T_8d309eb3_40e6_11ed_ab6a_907841dfbba9row0_col4\" class=\"data row0 col4\" >0.7785</td>\n",
       "                        <td id=\"T_8d309eb3_40e6_11ed_ab6a_907841dfbba9row0_col5\" class=\"data row0 col5\" >0.7334</td>\n",
       "            </tr>\n",
       "    </tbody></table>"
      ],
      "text/plain": [
       "<pandas.io.formats.style.Styler at 0x2b2121bdd60>"
      ]
     },
     "metadata": {},
     "output_type": "display_data"
    },
    {
     "name": "stdout",
     "output_type": "stream",
     "text": [
      "Autosimilarity type: Covariance\n",
      "Odd, method NMF, best dc: 8\n",
      "Even, method NMF, best dc: 16\n"
     ]
    },
    {
     "data": {
      "text/html": [
       "<style  type=\"text/css\" >\n",
       "    #T_f3d569cf_40e6_11ed_acf1_907841dfbba9row0_col2 {\n",
       "            width:  10em;\n",
       "             height:  80%;\n",
       "        }    #T_f3d569cf_40e6_11ed_acf1_907841dfbba9row0_col5 {\n",
       "            width:  10em;\n",
       "             height:  80%;\n",
       "        }</style><table id=\"T_f3d569cf_40e6_11ed_acf1_907841dfbba9\" ><thead>    <tr>        <th class=\"blank level0\" ></th>        <th class=\"col_heading level0 col0\" >P0.5</th>        <th class=\"col_heading level0 col1\" >R0.5</th>        <th class=\"col_heading level0 col2\" >F0.5</th>        <th class=\"col_heading level0 col3\" >P3</th>        <th class=\"col_heading level0 col4\" >R3</th>        <th class=\"col_heading level0 col5\" >F3</th>    </tr></thead><tbody>\n",
       "                <tr>\n",
       "                        <th id=\"T_f3d569cf_40e6_11ed_acf1_907841dfbba9level0_row0\" class=\"row_heading level0 row0\" >NMF</th>\n",
       "                        <td id=\"T_f3d569cf_40e6_11ed_acf1_907841dfbba9row0_col0\" class=\"data row0 col0\" >0.3923</td>\n",
       "                        <td id=\"T_f3d569cf_40e6_11ed_acf1_907841dfbba9row0_col1\" class=\"data row0 col1\" >0.7024</td>\n",
       "                        <td id=\"T_f3d569cf_40e6_11ed_acf1_907841dfbba9row0_col2\" class=\"data row0 col2\" >0.4948</td>\n",
       "                        <td id=\"T_f3d569cf_40e6_11ed_acf1_907841dfbba9row0_col3\" class=\"data row0 col3\" >0.4842</td>\n",
       "                        <td id=\"T_f3d569cf_40e6_11ed_acf1_907841dfbba9row0_col4\" class=\"data row0 col4\" >0.8700</td>\n",
       "                        <td id=\"T_f3d569cf_40e6_11ed_acf1_907841dfbba9row0_col5\" class=\"data row0 col5\" >0.6113</td>\n",
       "            </tr>\n",
       "    </tbody></table>"
      ],
      "text/plain": [
       "<pandas.io.formats.style.Styler at 0x2b27ad65430>"
      ]
     },
     "metadata": {},
     "output_type": "display_data"
    },
    {
     "name": "stdout",
     "output_type": "stream",
     "text": [
      "Autosimilarity type: RBF\n",
      "Odd, method NMF, best dc: 8\n",
      "Even, method NMF, best dc: 8\n"
     ]
    },
    {
     "data": {
      "text/html": [
       "<style  type=\"text/css\" >\n",
       "    #T_62b2ed01_40e7_11ed_9b30_907841dfbba9row0_col2 {\n",
       "            width:  10em;\n",
       "             height:  80%;\n",
       "        }    #T_62b2ed01_40e7_11ed_9b30_907841dfbba9row0_col5 {\n",
       "            width:  10em;\n",
       "             height:  80%;\n",
       "        }</style><table id=\"T_62b2ed01_40e7_11ed_9b30_907841dfbba9\" ><thead>    <tr>        <th class=\"blank level0\" ></th>        <th class=\"col_heading level0 col0\" >P0.5</th>        <th class=\"col_heading level0 col1\" >R0.5</th>        <th class=\"col_heading level0 col2\" >F0.5</th>        <th class=\"col_heading level0 col3\" >P3</th>        <th class=\"col_heading level0 col4\" >R3</th>        <th class=\"col_heading level0 col5\" >F3</th>    </tr></thead><tbody>\n",
       "                <tr>\n",
       "                        <th id=\"T_62b2ed01_40e7_11ed_9b30_907841dfbba9level0_row0\" class=\"row_heading level0 row0\" >NMF</th>\n",
       "                        <td id=\"T_62b2ed01_40e7_11ed_9b30_907841dfbba9row0_col0\" class=\"data row0 col0\" >0.5233</td>\n",
       "                        <td id=\"T_62b2ed01_40e7_11ed_9b30_907841dfbba9row0_col1\" class=\"data row0 col1\" >0.6646</td>\n",
       "                        <td id=\"T_62b2ed01_40e7_11ed_9b30_907841dfbba9row0_col2\" class=\"data row0 col2\" >0.5769</td>\n",
       "                        <td id=\"T_62b2ed01_40e7_11ed_9b30_907841dfbba9row0_col3\" class=\"data row0 col3\" >0.6495</td>\n",
       "                        <td id=\"T_62b2ed01_40e7_11ed_9b30_907841dfbba9row0_col4\" class=\"data row0 col4\" >0.8281</td>\n",
       "                        <td id=\"T_62b2ed01_40e7_11ed_9b30_907841dfbba9row0_col5\" class=\"data row0 col5\" >0.7173</td>\n",
       "            </tr>\n",
       "    </tbody></table>"
      ],
      "text/plain": [
       "<pandas.io.formats.style.Styler at 0x2b2121ce2e0>"
      ]
     },
     "metadata": {},
     "output_type": "display_data"
    }
   ],
   "source": [
    "feature = \"nn_log_mel_grill\"\n",
    "\n",
    "print(f\"Kernel: {bands_number}\")\n",
    "\n",
    "res_avg_target_euc = math.inf * np.ones((len(compression_labels), len(autosimilarity_types), 2, 3))\n",
    "\n",
    "indexes = []\n",
    "results_this_function = math.inf * np.ones((len(autosimilarity_types), 2, 3))\n",
    "for idx_as, autosimil_type in enumerate(autosimilarity_types):\n",
    "    print(f\"Autosimilarity type: {autosimil_type}\")\n",
    "    res = compute_this_penalty_compression_euc(pen_function, dimensions_range, autosimilarity_type = autosimil_type, feature = feature, bands_number = bands_number)\n",
    "    #for idx_line, line in enumerate(res):\n",
    "        #res_avg_target_euc[idx_line, idx_as] = line\n",
    "    dataframe = pd.DataFrame(res.reshape(1, 6), columns = ['P0.5', 'R0.5', 'F0.5','P3', 'R3', 'F3'], index = compression_labels)\n",
    "    display(dataframe.style.bar(subset=[\"F0.5\",\"F3\"], color='#5fba7d'))\n",
    "#plot_kernels_as(np.round(100 * res_avg_target_euc[:,:,:,2], decimals = 2), compression_labels, autosimilarity_types, 0, title = f\"F0.5 for the Euclidean-based compression methods,\\nand the different autosimilarities on RWC Pop.\")\n",
    "#plot_kernels_as(np.round(100 * res_avg_target_euc[:,:,:,2], decimals = 2), compression_labels, autosimilarity_types, 1, title = f\"F3 for the Euclidean-based compression methods,\\nand the different autosimilarities on RWC Pop.\")\n",
    "#print(\"---------------\\n------------\\n------------\\n------------\\n------------\")"
   ]
  },
  {
   "cell_type": "markdown",
   "id": "713f708d",
   "metadata": {},
   "source": [
    "# BETA"
   ]
  },
  {
   "cell_type": "code",
   "execution_count": 7,
   "id": "12c30aad",
   "metadata": {
    "ExecuteTime": {
     "end_time": "2022-07-17T14:10:43.520999Z",
     "start_time": "2022-07-17T14:10:43.479112Z"
    }
   },
   "outputs": [],
   "source": [
    "def compute_this_penalty_compression_beta(penalty_func, dim_patterns, autosimilarity_type = \"cosine\", feature = \"nn_log_mel_grill\", bands_number = 7, beta = 1):\n",
    "    idx_song_max = 101 # Should be 101 for all the dataset, other values should be for tests only\n",
    "    songs_range = range(1,idx_song_max) \n",
    "    subdivision = 96\n",
    "    hop_length = 32\n",
    "    hop_length_seconds = hop_length/44100\n",
    "    lambda_penalty = 1\n",
    "\n",
    "    results_songs_methods = math.inf * np.ones((len(songs_range), len(dim_patterns), 2, 3)) # Songs, autosimilarity types, tol, metrics\n",
    "\n",
    "    for idx_song, song_name in enumerate(songs_range):\n",
    "        spectrogram, bars, references_segments = scr.load_spec_annot_song_RWC(song_name, feature, hop_length)\n",
    "        barwise_TF_matrix = bi.barwise_TF_matrix(spectrogram, bars, hop_length_seconds, subdivision)\n",
    "        \n",
    "        for idx_dc, dc in enumerate(dim_patterns):\n",
    "            ### NMF\n",
    "            #idx_method = 0\n",
    "            Q_matrix_nmf = np.load(f\"{paths.path_data_persisted_rwc}/nmf/Q_nmf_dim{dc}_updatemu_beta{beta}_init{init_nmf}_song{song_name}_feature{feature}_hop{hop_length}_subdivbars{subdivision}.npy\", allow_pickle = True)\n",
    "\n",
    "            autosimilarity_nmf = as_comp.switch_autosimilarity(Q_matrix_nmf, similarity_type = autosimilarity_type, normalise = True)\n",
    "            segments_nmf = CBM.compute_cbm(autosimilarity_nmf, penalty_weight = lambda_penalty, penalty_func = penalty_func, bands_number = bands_number)[0]                \n",
    "            segments_nmf_in_time = dm.segments_from_bar_to_time(segments_nmf, bars)\n",
    "            results_songs_methods[idx_song, idx_dc] = return_results(references_segments, segments_nmf_in_time)\n",
    "                        \n",
    "    odd_songs = range(0,idx_song_max - 1,2) # Weird, but shouldn't confuse indexes and number\n",
    "    even_songs = range(1,idx_song_max - 1,2)\n",
    "    to_return = -math.inf * np.ones((2, 2, 3))\n",
    "    \n",
    "    #for idx_method in range(1):\n",
    "    avg_odd_songs = np.mean(results_songs_methods[odd_songs,:,0, 2], axis = 0) + np.mean(results_songs_methods[odd_songs,:,1, 2], axis = 0)\n",
    "\n",
    "    best_idx_odd = np.argmax(avg_odd_songs)\n",
    "    print(f\"Odd, method {compression_labels[0]}, best dc: {dim_patterns[best_idx_odd]}\")\n",
    "    res_odd = math.inf * np.ones((2,3))\n",
    "    for tol in range(2):\n",
    "        for metric in range(3):\n",
    "            res_odd[tol, metric] = np.mean(results_songs_methods[even_songs, best_idx_odd, tol, metric])\n",
    "\n",
    "    avg_even_songs = np.mean(results_songs_methods[even_songs,:,0, 2], axis = 0) + np.mean(results_songs_methods[even_songs,:,1, 2], axis = 0)\n",
    "    best_idx_even = np.argmax(avg_even_songs)\n",
    "    print(f\"Even, method {compression_labels[0]}, best dc: {dim_patterns[best_idx_even]}\")\n",
    "    res_even = math.inf * np.ones((2,3))\n",
    "    for tol in range(2):\n",
    "        for metric in range(3):\n",
    "            res_even[tol, metric] = np.mean(results_songs_methods[odd_songs, best_idx_even, tol, metric])\n",
    "\n",
    "    to_return = np.mean(np.array([res_odd, res_even]), axis=0)\n",
    "    \n",
    "    return to_return"
   ]
  },
  {
   "cell_type": "markdown",
   "id": "90aaec26",
   "metadata": {},
   "source": [
    "## Beta 1"
   ]
  },
  {
   "cell_type": "code",
   "execution_count": 8,
   "id": "20db83b9",
   "metadata": {
    "ExecuteTime": {
     "end_time": "2022-07-17T14:20:04.181799Z",
     "start_time": "2022-07-17T14:10:43.523992Z"
    },
    "scrolled": false
   },
   "outputs": [
    {
     "name": "stdout",
     "output_type": "stream",
     "text": [
      "Kernel: 14_bands\n",
      "Autosimilarity type: Cosine\n",
      "Odd, method NMF, best dc: 40\n",
      "Even, method NMF, best dc: 40\n"
     ]
    },
    {
     "data": {
      "text/html": [
       "<style  type=\"text/css\" >\n",
       "    #T_b02f8b51_05da_11ed_a741_8c04ba3e1d36row0_col2 {\n",
       "            width:  10em;\n",
       "             height:  80%;\n",
       "        }    #T_b02f8b51_05da_11ed_a741_8c04ba3e1d36row0_col5 {\n",
       "            width:  10em;\n",
       "             height:  80%;\n",
       "        }</style><table id=\"T_b02f8b51_05da_11ed_a741_8c04ba3e1d36\" ><thead>    <tr>        <th class=\"blank level0\" ></th>        <th class=\"col_heading level0 col0\" >P0.5</th>        <th class=\"col_heading level0 col1\" >R0.5</th>        <th class=\"col_heading level0 col2\" >F0.5</th>        <th class=\"col_heading level0 col3\" >P3</th>        <th class=\"col_heading level0 col4\" >R3</th>        <th class=\"col_heading level0 col5\" >F3</th>    </tr></thead><tbody>\n",
       "                <tr>\n",
       "                        <th id=\"T_b02f8b51_05da_11ed_a741_8c04ba3e1d36level0_row0\" class=\"row_heading level0 row0\" >NMF</th>\n",
       "                        <td id=\"T_b02f8b51_05da_11ed_a741_8c04ba3e1d36row0_col0\" class=\"data row0 col0\" >0.6121</td>\n",
       "                        <td id=\"T_b02f8b51_05da_11ed_a741_8c04ba3e1d36row0_col1\" class=\"data row0 col1\" >0.6299</td>\n",
       "                        <td id=\"T_b02f8b51_05da_11ed_a741_8c04ba3e1d36row0_col2\" class=\"data row0 col2\" >0.6164</td>\n",
       "                        <td id=\"T_b02f8b51_05da_11ed_a741_8c04ba3e1d36row0_col3\" class=\"data row0 col3\" >0.7902</td>\n",
       "                        <td id=\"T_b02f8b51_05da_11ed_a741_8c04ba3e1d36row0_col4\" class=\"data row0 col4\" >0.8161</td>\n",
       "                        <td id=\"T_b02f8b51_05da_11ed_a741_8c04ba3e1d36row0_col5\" class=\"data row0 col5\" >0.7975</td>\n",
       "            </tr>\n",
       "    </tbody></table>"
      ],
      "text/plain": [
       "<pandas.io.formats.style.Styler at 0x2dbaa840eb0>"
      ]
     },
     "metadata": {},
     "output_type": "display_data"
    },
    {
     "name": "stdout",
     "output_type": "stream",
     "text": [
      "Autosimilarity type: Covariance\n",
      "Odd, method NMF, best dc: 40\n",
      "Even, method NMF, best dc: 24\n"
     ]
    },
    {
     "data": {
      "text/html": [
       "<style  type=\"text/css\" >\n",
       "    #T_24f505a8_05db_11ed_b532_8c04ba3e1d36row0_col2 {\n",
       "            width:  10em;\n",
       "             height:  80%;\n",
       "        }    #T_24f505a8_05db_11ed_b532_8c04ba3e1d36row0_col5 {\n",
       "            width:  10em;\n",
       "             height:  80%;\n",
       "        }</style><table id=\"T_24f505a8_05db_11ed_b532_8c04ba3e1d36\" ><thead>    <tr>        <th class=\"blank level0\" ></th>        <th class=\"col_heading level0 col0\" >P0.5</th>        <th class=\"col_heading level0 col1\" >R0.5</th>        <th class=\"col_heading level0 col2\" >F0.5</th>        <th class=\"col_heading level0 col3\" >P3</th>        <th class=\"col_heading level0 col4\" >R3</th>        <th class=\"col_heading level0 col5\" >F3</th>    </tr></thead><tbody>\n",
       "                <tr>\n",
       "                        <th id=\"T_24f505a8_05db_11ed_b532_8c04ba3e1d36level0_row0\" class=\"row_heading level0 row0\" >NMF</th>\n",
       "                        <td id=\"T_24f505a8_05db_11ed_b532_8c04ba3e1d36row0_col0\" class=\"data row0 col0\" >0.5401</td>\n",
       "                        <td id=\"T_24f505a8_05db_11ed_b532_8c04ba3e1d36row0_col1\" class=\"data row0 col1\" >0.6426</td>\n",
       "                        <td id=\"T_24f505a8_05db_11ed_b532_8c04ba3e1d36row0_col2\" class=\"data row0 col2\" >0.5789</td>\n",
       "                        <td id=\"T_24f505a8_05db_11ed_b532_8c04ba3e1d36row0_col3\" class=\"data row0 col3\" >0.6906</td>\n",
       "                        <td id=\"T_24f505a8_05db_11ed_b532_8c04ba3e1d36row0_col4\" class=\"data row0 col4\" >0.8235</td>\n",
       "                        <td id=\"T_24f505a8_05db_11ed_b532_8c04ba3e1d36row0_col5\" class=\"data row0 col5\" >0.7414</td>\n",
       "            </tr>\n",
       "    </tbody></table>"
      ],
      "text/plain": [
       "<pandas.io.formats.style.Styler at 0x2dbaa99a6a0>"
      ]
     },
     "metadata": {},
     "output_type": "display_data"
    },
    {
     "name": "stdout",
     "output_type": "stream",
     "text": [
      "Autosimilarity type: RBF\n",
      "Odd, method NMF, best dc: 8\n",
      "Even, method NMF, best dc: 16\n"
     ]
    },
    {
     "data": {
      "text/html": [
       "<style  type=\"text/css\" >\n",
       "    #T_8d1b53b7_05db_11ed_b1ca_8c04ba3e1d36row0_col2 {\n",
       "            width:  10em;\n",
       "             height:  80%;\n",
       "        }    #T_8d1b53b7_05db_11ed_b1ca_8c04ba3e1d36row0_col5 {\n",
       "            width:  10em;\n",
       "             height:  80%;\n",
       "        }</style><table id=\"T_8d1b53b7_05db_11ed_b1ca_8c04ba3e1d36\" ><thead>    <tr>        <th class=\"blank level0\" ></th>        <th class=\"col_heading level0 col0\" >P0.5</th>        <th class=\"col_heading level0 col1\" >R0.5</th>        <th class=\"col_heading level0 col2\" >F0.5</th>        <th class=\"col_heading level0 col3\" >P3</th>        <th class=\"col_heading level0 col4\" >R3</th>        <th class=\"col_heading level0 col5\" >F3</th>    </tr></thead><tbody>\n",
       "                <tr>\n",
       "                        <th id=\"T_8d1b53b7_05db_11ed_b1ca_8c04ba3e1d36level0_row0\" class=\"row_heading level0 row0\" >NMF</th>\n",
       "                        <td id=\"T_8d1b53b7_05db_11ed_b1ca_8c04ba3e1d36row0_col0\" class=\"data row0 col0\" >0.5468</td>\n",
       "                        <td id=\"T_8d1b53b7_05db_11ed_b1ca_8c04ba3e1d36row0_col1\" class=\"data row0 col1\" >0.5852</td>\n",
       "                        <td id=\"T_8d1b53b7_05db_11ed_b1ca_8c04ba3e1d36row0_col2\" class=\"data row0 col2\" >0.5604</td>\n",
       "                        <td id=\"T_8d1b53b7_05db_11ed_b1ca_8c04ba3e1d36row0_col3\" class=\"data row0 col3\" >0.7227</td>\n",
       "                        <td id=\"T_8d1b53b7_05db_11ed_b1ca_8c04ba3e1d36row0_col4\" class=\"data row0 col4\" >0.7774</td>\n",
       "                        <td id=\"T_8d1b53b7_05db_11ed_b1ca_8c04ba3e1d36row0_col5\" class=\"data row0 col5\" >0.7429</td>\n",
       "            </tr>\n",
       "    </tbody></table>"
      ],
      "text/plain": [
       "<pandas.io.formats.style.Styler at 0x2dbaa9a20a0>"
      ]
     },
     "metadata": {},
     "output_type": "display_data"
    }
   ],
   "source": [
    "feature = \"nn_log_mel_grill\"\n",
    "\n",
    "print(f\"Kernel: {bands_number}\")\n",
    "\n",
    "beta_compression_labels = [\"NMF\"]#, \"SSAE\"]\n",
    "res_avg_target_kl = math.inf * np.ones((len(beta_compression_labels), len(autosimilarity_types), 2, 3))\n",
    "\n",
    "indexes = []\n",
    "results_this_function = math.inf * np.ones((len(autosimilarity_types), 2, 3))\n",
    "for idx_as, autosimil_type in enumerate(autosimilarity_types):\n",
    "    print(f\"Autosimilarity type: {autosimil_type}\")\n",
    "    res = compute_this_penalty_compression_beta(pen_function, dimensions_range, autosimilarity_type = autosimil_type, feature = feature, bands_number = bands_number, beta = 1)\n",
    "    #for idx_line, line in enumerate(res):\n",
    "        #res_avg_target_kl[idx_line, idx_as] = line\n",
    "    dataframe = pd.DataFrame(res.reshape(1, 6), columns = ['P0.5', 'R0.5', 'F0.5','P3', 'R3', 'F3'], index = beta_compression_labels)\n",
    "    display(dataframe.style.bar(subset=[\"F0.5\",\"F3\"], color='#5fba7d'))\n",
    "\n",
    "#plot_kernels_as(np.round(100 * res_avg_target_kl[:,:,:,2], decimals = 2), beta_compression_labels, autosimilarity_types, 0, title = f\"F0.5 for KL-based compression methods,\\nand the different autosimilarities on RWC Pop.\")\n",
    "#plot_kernels_as(np.round(100 * res_avg_target_kl[:,:,:,2], decimals = 2), beta_compression_labels, autosimilarity_types, 1, title = f\"F3 for KL-based compression methods,\\nand the different autosimilarities on RWC Pop.\")\n",
    "#print(\"---------------\\n------------\\n------------\\n------------\\n------------\")"
   ]
  },
  {
   "cell_type": "markdown",
   "id": "08611a86",
   "metadata": {},
   "source": [
    "## Beta 0"
   ]
  },
  {
   "cell_type": "code",
   "execution_count": 9,
   "id": "7ac80d7f",
   "metadata": {
    "ExecuteTime": {
     "end_time": "2022-07-17T14:27:49.480997Z",
     "start_time": "2022-07-17T14:20:04.191771Z"
    }
   },
   "outputs": [
    {
     "name": "stdout",
     "output_type": "stream",
     "text": [
      "Kernel: 14_bands\n",
      "Autosimilarity type: Cosine\n",
      "Odd, method NMF, best dc: 24\n",
      "Even, method NMF, best dc: 16\n"
     ]
    },
    {
     "data": {
      "text/html": [
       "<style  type=\"text/css\" >\n",
       "    #T_f48577b5_05db_11ed_8564_8c04ba3e1d36row0_col2 {\n",
       "            width:  10em;\n",
       "             height:  80%;\n",
       "        }    #T_f48577b5_05db_11ed_8564_8c04ba3e1d36row0_col5 {\n",
       "            width:  10em;\n",
       "             height:  80%;\n",
       "        }</style><table id=\"T_f48577b5_05db_11ed_8564_8c04ba3e1d36\" ><thead>    <tr>        <th class=\"blank level0\" ></th>        <th class=\"col_heading level0 col0\" >P0.5</th>        <th class=\"col_heading level0 col1\" >R0.5</th>        <th class=\"col_heading level0 col2\" >F0.5</th>        <th class=\"col_heading level0 col3\" >P3</th>        <th class=\"col_heading level0 col4\" >R3</th>        <th class=\"col_heading level0 col5\" >F3</th>    </tr></thead><tbody>\n",
       "                <tr>\n",
       "                        <th id=\"T_f48577b5_05db_11ed_8564_8c04ba3e1d36level0_row0\" class=\"row_heading level0 row0\" >NMF</th>\n",
       "                        <td id=\"T_f48577b5_05db_11ed_8564_8c04ba3e1d36row0_col0\" class=\"data row0 col0\" >0.5744</td>\n",
       "                        <td id=\"T_f48577b5_05db_11ed_8564_8c04ba3e1d36row0_col1\" class=\"data row0 col1\" >0.5993</td>\n",
       "                        <td id=\"T_f48577b5_05db_11ed_8564_8c04ba3e1d36row0_col2\" class=\"data row0 col2\" >0.5823</td>\n",
       "                        <td id=\"T_f48577b5_05db_11ed_8564_8c04ba3e1d36row0_col3\" class=\"data row0 col3\" >0.7621</td>\n",
       "                        <td id=\"T_f48577b5_05db_11ed_8564_8c04ba3e1d36row0_col4\" class=\"data row0 col4\" >0.7952</td>\n",
       "                        <td id=\"T_f48577b5_05db_11ed_8564_8c04ba3e1d36row0_col5\" class=\"data row0 col5\" >0.7730</td>\n",
       "            </tr>\n",
       "    </tbody></table>"
      ],
      "text/plain": [
       "<pandas.io.formats.style.Styler at 0x2dbaa9bfd60>"
      ]
     },
     "metadata": {},
     "output_type": "display_data"
    },
    {
     "name": "stdout",
     "output_type": "stream",
     "text": [
      "Autosimilarity type: Covariance\n",
      "Odd, method NMF, best dc: 24\n",
      "Even, method NMF, best dc: 16\n"
     ]
    },
    {
     "data": {
      "text/html": [
       "<style  type=\"text/css\" >\n",
       "    #T_5672168a_05dc_11ed_9d57_8c04ba3e1d36row0_col2 {\n",
       "            width:  10em;\n",
       "             height:  80%;\n",
       "        }    #T_5672168a_05dc_11ed_9d57_8c04ba3e1d36row0_col5 {\n",
       "            width:  10em;\n",
       "             height:  80%;\n",
       "        }</style><table id=\"T_5672168a_05dc_11ed_9d57_8c04ba3e1d36\" ><thead>    <tr>        <th class=\"blank level0\" ></th>        <th class=\"col_heading level0 col0\" >P0.5</th>        <th class=\"col_heading level0 col1\" >R0.5</th>        <th class=\"col_heading level0 col2\" >F0.5</th>        <th class=\"col_heading level0 col3\" >P3</th>        <th class=\"col_heading level0 col4\" >R3</th>        <th class=\"col_heading level0 col5\" >F3</th>    </tr></thead><tbody>\n",
       "                <tr>\n",
       "                        <th id=\"T_5672168a_05dc_11ed_9d57_8c04ba3e1d36level0_row0\" class=\"row_heading level0 row0\" >NMF</th>\n",
       "                        <td id=\"T_5672168a_05dc_11ed_9d57_8c04ba3e1d36row0_col0\" class=\"data row0 col0\" >0.5264</td>\n",
       "                        <td id=\"T_5672168a_05dc_11ed_9d57_8c04ba3e1d36row0_col1\" class=\"data row0 col1\" >0.6157</td>\n",
       "                        <td id=\"T_5672168a_05dc_11ed_9d57_8c04ba3e1d36row0_col2\" class=\"data row0 col2\" >0.5611</td>\n",
       "                        <td id=\"T_5672168a_05dc_11ed_9d57_8c04ba3e1d36row0_col3\" class=\"data row0 col3\" >0.6846</td>\n",
       "                        <td id=\"T_5672168a_05dc_11ed_9d57_8c04ba3e1d36row0_col4\" class=\"data row0 col4\" >0.8037</td>\n",
       "                        <td id=\"T_5672168a_05dc_11ed_9d57_8c04ba3e1d36row0_col5\" class=\"data row0 col5\" >0.7314</td>\n",
       "            </tr>\n",
       "    </tbody></table>"
      ],
      "text/plain": [
       "<pandas.io.formats.style.Styler at 0x2dbaa838ee0>"
      ]
     },
     "metadata": {},
     "output_type": "display_data"
    },
    {
     "name": "stdout",
     "output_type": "stream",
     "text": [
      "Autosimilarity type: RBF\n",
      "Odd, method NMF, best dc: 8\n",
      "Even, method NMF, best dc: 16\n"
     ]
    },
    {
     "data": {
      "text/html": [
       "<style  type=\"text/css\" >\n",
       "    #T_a271bd17_05dc_11ed_b8a8_8c04ba3e1d36row0_col2 {\n",
       "            width:  10em;\n",
       "             height:  80%;\n",
       "        }    #T_a271bd17_05dc_11ed_b8a8_8c04ba3e1d36row0_col5 {\n",
       "            width:  10em;\n",
       "             height:  80%;\n",
       "        }</style><table id=\"T_a271bd17_05dc_11ed_b8a8_8c04ba3e1d36\" ><thead>    <tr>        <th class=\"blank level0\" ></th>        <th class=\"col_heading level0 col0\" >P0.5</th>        <th class=\"col_heading level0 col1\" >R0.5</th>        <th class=\"col_heading level0 col2\" >F0.5</th>        <th class=\"col_heading level0 col3\" >P3</th>        <th class=\"col_heading level0 col4\" >R3</th>        <th class=\"col_heading level0 col5\" >F3</th>    </tr></thead><tbody>\n",
       "                <tr>\n",
       "                        <th id=\"T_a271bd17_05dc_11ed_b8a8_8c04ba3e1d36level0_row0\" class=\"row_heading level0 row0\" >NMF</th>\n",
       "                        <td id=\"T_a271bd17_05dc_11ed_b8a8_8c04ba3e1d36row0_col0\" class=\"data row0 col0\" >0.5415</td>\n",
       "                        <td id=\"T_a271bd17_05dc_11ed_b8a8_8c04ba3e1d36row0_col1\" class=\"data row0 col1\" >0.5883</td>\n",
       "                        <td id=\"T_a271bd17_05dc_11ed_b8a8_8c04ba3e1d36row0_col2\" class=\"data row0 col2\" >0.5590</td>\n",
       "                        <td id=\"T_a271bd17_05dc_11ed_b8a8_8c04ba3e1d36row0_col3\" class=\"data row0 col3\" >0.7224</td>\n",
       "                        <td id=\"T_a271bd17_05dc_11ed_b8a8_8c04ba3e1d36row0_col4\" class=\"data row0 col4\" >0.7855</td>\n",
       "                        <td id=\"T_a271bd17_05dc_11ed_b8a8_8c04ba3e1d36row0_col5\" class=\"data row0 col5\" >0.7467</td>\n",
       "            </tr>\n",
       "    </tbody></table>"
      ],
      "text/plain": [
       "<pandas.io.formats.style.Styler at 0x2dbaa99cb50>"
      ]
     },
     "metadata": {},
     "output_type": "display_data"
    }
   ],
   "source": [
    "feature = \"nn_log_mel_grill\"\n",
    "\n",
    "print(f\"Kernel: {bands_number}\")\n",
    "\n",
    "beta_compression_labels = [\"NMF\"]\n",
    "res_avg_target_is = math.inf * np.ones((len(beta_compression_labels), len(autosimilarity_types), 2, 3))\n",
    "\n",
    "indexes = []\n",
    "results_this_function = math.inf * np.ones((len(autosimilarity_types), 2, 3))\n",
    "for idx_as, autosimil_type in enumerate(autosimilarity_types):\n",
    "    print(f\"Autosimilarity type: {autosimil_type}\")\n",
    "    res = compute_this_penalty_compression_beta(pen_function, dimensions_range, autosimilarity_type = autosimil_type, feature = feature, bands_number = bands_number, beta = 0)\n",
    "    #for idx_line, line in enumerate(res):\n",
    "        #res_avg_target_is[idx_line, idx_as] = line\n",
    "    dataframe = pd.DataFrame(res.reshape(1, 6), columns = ['P0.5', 'R0.5', 'F0.5','P3', 'R3', 'F3'], index = beta_compression_labels)\n",
    "    display(dataframe.style.bar(subset=[\"F0.5\",\"F3\"], color='#5fba7d'))\n",
    "#plot_kernels_as(np.round(100 * res_avg_target_is[:,:,:,2], decimals = 2), beta_compression_labels, autosimilarity_types, 0, title = f\"F0.5 for IS-based compression methods,\\nand the different autosimilarities on RWC Pop.\")\n",
    "#plot_kernels_as(np.round(100 * res_avg_target_is[:,:,:,2], decimals = 2), beta_compression_labels, autosimilarity_types, 1, title = f\"F3 for IS-based compression methods,\\nand the different autosimilarities on RWC Pop.\")\n",
    "#print(\"---------------\\n------------\\n------------\\n------------\\n------------\")"
   ]
  }
 ],
 "metadata": {
  "kernelspec": {
   "display_name": "Python 3 (ipykernel)",
   "language": "python",
   "name": "python3"
  },
  "language_info": {
   "codemirror_mode": {
    "name": "ipython",
    "version": 3
   },
   "file_extension": ".py",
   "mimetype": "text/x-python",
   "name": "python",
   "nbconvert_exporter": "python",
   "pygments_lexer": "ipython3",
   "version": "3.8.12"
  },
  "toc": {
   "base_numbering": 1,
   "nav_menu": {},
   "number_sections": true,
   "sideBar": true,
   "skip_h1_title": false,
   "title_cell": "Table of Contents",
   "title_sidebar": "Contents",
   "toc_cell": false,
   "toc_position": {},
   "toc_section_display": true,
   "toc_window_display": false
  },
  "varInspector": {
   "cols": {
    "lenName": 16,
    "lenType": 16,
    "lenVar": 40
   },
   "kernels_config": {
    "python": {
     "delete_cmd_postfix": "",
     "delete_cmd_prefix": "del ",
     "library": "var_list.py",
     "varRefreshCmd": "print(var_dic_list())"
    },
    "r": {
     "delete_cmd_postfix": ") ",
     "delete_cmd_prefix": "rm(",
     "library": "var_list.r",
     "varRefreshCmd": "cat(var_dic_list()) "
    }
   },
   "types_to_exclude": [
    "module",
    "function",
    "builtin_function_or_method",
    "instance",
    "_Feature"
   ],
   "window_display": false
  }
 },
 "nbformat": 4,
 "nbformat_minor": 5
}
