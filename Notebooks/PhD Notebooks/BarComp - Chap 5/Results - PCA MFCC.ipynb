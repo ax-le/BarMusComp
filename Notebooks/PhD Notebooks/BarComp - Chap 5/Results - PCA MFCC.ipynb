{
 "cells": [
  {
   "cell_type": "code",
   "execution_count": 1,
   "id": "b3e353df",
   "metadata": {
    "ExecuteTime": {
     "end_time": "2022-05-25T19:40:47.882471Z",
     "start_time": "2022-05-25T19:40:39.586655Z"
    }
   },
   "outputs": [],
   "source": [
    "import barmuscomp.ae_utils as ae_utils\n",
    "import barmuscomp.ae as ae\n",
    "import barmuscomp.lra as lra\n",
    "import barmuscomp.scripts.default_path as paths\n",
    "import barmuscomp.scripts.overall_scripts as scr\n",
    "\n",
    "import as_seg.CBM_algorithm as CBM\n",
    "import as_seg.barwise_input as bi\n",
    "import as_seg.data_manipulation as dm\n",
    "import as_seg.autosimilarity_computation as as_comp\n",
    "#import as_seg.barwise_input as bi\n",
    "from barmuscomp.model.current_plot import *\n",
    "\n",
    "import math\n",
    "import numpy as np\n",
    "import pandas as pd\n",
    "import mirdata\n",
    "import os\n",
    "import tensorly as tl"
   ]
  },
  {
   "cell_type": "code",
   "execution_count": 2,
   "id": "f97eac92",
   "metadata": {
    "ExecuteTime": {
     "end_time": "2022-05-25T19:40:47.913385Z",
     "start_time": "2022-05-25T19:40:47.889448Z"
    }
   },
   "outputs": [],
   "source": [
    "colors = ['tab:green', 'tab:purple','tab:red','tab:olive']\n",
    "markers = ['^', 's', 'o','v']\n",
    "\n",
    "convolution_type = \"14_bands\"\n",
    "autosimilarity_types = [\"Cosine\", \"Covariance\", \"RBF\"]\n",
    "pen_function = \"modulo8\"\n",
    "feature = \"mfcc-nmfcc32\"\n",
    "\n",
    "compression_labels = [\"PCA\", \"SSAE\"]\n",
    "\n",
    "dimensions_range = [8,16,24,32,40]"
   ]
  },
  {
   "cell_type": "code",
   "execution_count": 3,
   "id": "290706e5",
   "metadata": {
    "ExecuteTime": {
     "end_time": "2022-05-25T19:40:47.945298Z",
     "start_time": "2022-05-25T19:40:47.919368Z"
    }
   },
   "outputs": [],
   "source": [
    "def return_results(references_segments, segments_in_time):\n",
    "    prec05, rap05, f_mes05 = dm.compute_score_of_segmentation(references_segments, segments_in_time, window_length = 0.5)\n",
    "    prec3, rap3, f_mes3 = dm.compute_score_of_segmentation(references_segments, segments_in_time, window_length = 3)\n",
    "    return [[round(prec05,4),round(rap05,4),round(f_mes05,4)], [round(prec3,4),round(rap3,4),round(f_mes3,4)]]"
   ]
  },
  {
   "cell_type": "code",
   "execution_count": 4,
   "id": "680d6d67",
   "metadata": {
    "ExecuteTime": {
     "end_time": "2022-05-25T19:40:47.977211Z",
     "start_time": "2022-05-25T19:40:47.949287Z"
    }
   },
   "outputs": [],
   "source": [
    "def plot_kernels_as(results_diff_as, kernels_or_features, autosimilarities, tol, title = None):\n",
    "    # Order results_diff_as: kernels ou features, as, tol\n",
    "    subaxis = autosimilarities\n",
    "    plt.rcParams.update({'font.size': 14})\n",
    "    \n",
    "    width=0.25\n",
    "    gap = (len(autosimilarities) + 1)*width\n",
    "    colors = [\"#62d5b4\", \"#317373\", \"#184a4a\"]#['skyblue', 'steelblue', 'darkorange', 'brown']\n",
    "    \n",
    "    fig, ax = plt.subplots(1, 1, figsize=(11,4))\n",
    "    ax.set_ylim( 25, 105 )\n",
    "    tab = []\n",
    "    current_start = 0\n",
    "    for i in range(len(autosimilarities)):\n",
    "        indexes = [current_start + j*gap for j in range(len(kernels_or_features))]\n",
    "        tab.append(ax.bar(indexes, results_diff_as[:,i,tol], color=colors[i], width=width, align='edge'))\n",
    "        for idx_x, x in enumerate(indexes):\n",
    "            height = results_diff_as[idx_x, i, tol] \n",
    "            plt.text(x +width/2,height + 2, f\"{height}%\", ha='center', va='bottom', rotation = 90)\n",
    "        current_start += width\n",
    "\n",
    "    ax.set_xticks([current_start/2 + j*gap for j in range(len(kernels_or_features))])\n",
    "    ax.set_xticklabels(kernels_or_features)\n",
    "    if tol == 1:\n",
    "        ax.legend(labels=subaxis, loc='lower left')\n",
    "    else:\n",
    "        ax.legend(labels=subaxis, loc='lower left')\n",
    "\n",
    "    ax.set_ylabel(\"F measure (percentage)\")\n",
    "    #fig.savefig(\"C:/Users/amarmore/Desktop/Mes papiers/figures/results_barcomp_05.pdf\", bbox_inches = \"tight\")#, format='png')\n",
    "    if title != None:\n",
    "        plt.title(title)\n",
    "    plt.show()"
   ]
  },
  {
   "cell_type": "markdown",
   "id": "ab1fc44c",
   "metadata": {},
   "source": [
    "# EUC"
   ]
  },
  {
   "cell_type": "code",
   "execution_count": 5,
   "id": "b9025959",
   "metadata": {
    "ExecuteTime": {
     "end_time": "2022-05-25T19:40:48.275416Z",
     "start_time": "2022-05-25T19:40:47.982198Z"
    }
   },
   "outputs": [],
   "source": [
    "def compute_this_penalty_compression_euc(penalty_func, dim_patterns, autosimilarity_type = \"cosine\", feature = \"nn_log_mel_grill\", convolution_type = \"14_bands\"):\n",
    "    idx_song_max = 101 # Should be 101 for all the dataset, other values should be for tests only\n",
    "    songs_range = range(1,idx_song_max) \n",
    "    subdivision = 96\n",
    "    hop_length = 32\n",
    "    hop_length_seconds = hop_length/44100\n",
    "    lambda_penalty = 1\n",
    "\n",
    "    results_songs_methods = math.inf * np.ones((len(songs_range), 2, len(dim_patterns), 2, 3)) # Songs, autosimilarity types, tol, metrics\n",
    "\n",
    "    for idx_song, song_name in enumerate(songs_range):\n",
    "        spectrogram, bars, references_segments = scr.load_spec_annot_song_RWC(song_name, feature, hop_length)\n",
    "        barwise_TF_matrix = bi.barwise_TF_matrix(spectrogram, bars, hop_length_seconds, subdivision)\n",
    "        \n",
    "        for idx_dc, dc in enumerate(dim_patterns):\n",
    "            ### PCA\n",
    "            #idx_method = 1\n",
    "            try:\n",
    "                Q_matrix_pca = np.load(f\"{paths.path_data_persisted_rwc}/pca/pca_dim{dc}_song{song_name}_feature{feature}_hop{hop_length}_subdivbars{subdivision}.npy\", allow_pickle = True)\n",
    "            except FileNotFoundError:\n",
    "                Q_matrix_pca = lra.pca_projection(barwise_TF_matrix, compression_dimension = dc)\n",
    "                np.save(f\"{paths.path_data_persisted_rwc}/pca/pca_dim{dc}_song{song_name}_feature{feature}_hop{hop_length}_subdivbars{subdivision}\", Q_matrix_pca)\n",
    "\n",
    "            autosimilarity_pca = as_comp.switch_autosimilarity(Q_matrix_pca, similarity_type = autosimilarity_type, normalise = True)\n",
    "            segments_pca = CBM.compute_cbm(autosimilarity_pca, penalty_weight = lambda_penalty, penalty_func = penalty_func, convolution_type = convolution_type)[0]                \n",
    "            segments_pca_in_time = dm.segments_from_bar_to_time(segments_pca, bars)\n",
    "            results_songs_methods[idx_song, 0, idx_dc] = return_results(references_segments, segments_pca_in_time)\n",
    "\n",
    "\n",
    "            ### AE\n",
    "            #idx_method = 2\n",
    "            Q_matrix_ae = np.load(f\"{paths.path_data_persisted_rwc}/neural_nets/conv_4_16_k3_transk3_latentfc{dc}_song{song_name}_feature{feature}_hop{hop_length}_subdivbars{subdivision}_initkaiming_lr0.001_nepochs1000.npy\", allow_pickle = True)\n",
    "            autosimilarity_ae = as_comp.switch_autosimilarity(Q_matrix_ae, similarity_type = autosimilarity_type, normalise = True)\n",
    "            segments_ae = CBM.compute_cbm(autosimilarity_ae, penalty_weight = lambda_penalty, penalty_func = penalty_func, convolution_type = convolution_type)[0]                \n",
    "            segments_ae_in_time = dm.segments_from_bar_to_time(segments_ae, bars)\n",
    "            results_songs_methods[idx_song, 1, idx_dc] = return_results(references_segments, segments_ae_in_time)\n",
    "\n",
    "            \n",
    "    odd_songs = range(0,idx_song_max - 1,2) # Weird, but shouldn't confuse indexes and number\n",
    "    even_songs = range(1,idx_song_max - 1,2)\n",
    "    to_return = -math.inf * np.ones((2, 2, 3))\n",
    "    \n",
    "    for idx_method in range(2):\n",
    "        avg_odd_songs = np.mean(results_songs_methods[odd_songs, idx_method,:,0, 2], axis = 0) + np.mean(results_songs_methods[odd_songs, idx_method,:,1, 2], axis = 0)\n",
    "\n",
    "        best_idx_odd = np.argmax(avg_odd_songs)\n",
    "        print(f\"Odd, method {compression_labels[idx_method]}, best dc: {dim_patterns[best_idx_odd]}\")\n",
    "        res_odd = math.inf * np.ones((2,3))\n",
    "        for tol in range(2):\n",
    "            for metric in range(3):\n",
    "                res_odd[tol, metric] = np.mean(results_songs_methods[even_songs, idx_method, best_idx_odd, tol, metric])\n",
    "    \n",
    "        avg_even_songs = np.mean(results_songs_methods[even_songs, idx_method,:,0, 2], axis = 0) + np.mean(results_songs_methods[even_songs, idx_method,:,1, 2], axis = 0)\n",
    "        best_idx_even = np.argmax(avg_even_songs)\n",
    "        print(f\"Even, method {compression_labels[idx_method]}, best dc: {dim_patterns[best_idx_even]}\")\n",
    "        res_even = math.inf * np.ones((2,3))\n",
    "        for tol in range(2):\n",
    "            for metric in range(3):\n",
    "                res_even[tol, metric] = np.mean(results_songs_methods[odd_songs, idx_method, best_idx_even, tol, metric])\n",
    "   \n",
    "        to_return[idx_method] = np.mean(np.array([res_odd, res_even]), axis=0)\n",
    "    \n",
    "    return to_return"
   ]
  },
  {
   "cell_type": "code",
   "execution_count": 6,
   "id": "690e5496",
   "metadata": {
    "ExecuteTime": {
     "end_time": "2022-05-25T19:50:01.971429Z",
     "start_time": "2022-05-25T19:40:48.279404Z"
    },
    "scrolled": false
   },
   "outputs": [
    {
     "name": "stdout",
     "output_type": "stream",
     "text": [
      "Kernel: 14_bands\n",
      "Autosimilarity type: Cosine\n",
      "Odd, method PCA, best dc: 40\n",
      "Even, method PCA, best dc: 40\n",
      "Odd, method SSAE, best dc: 40\n",
      "Even, method SSAE, best dc: 40\n"
     ]
    },
    {
     "data": {
      "text/html": [
       "<style  type=\"text/css\" >\n",
       "    #T_2401f46c_dc63_11ec_a8ec_8c04ba3e1d36row0_col2 {\n",
       "            width:  10em;\n",
       "             height:  80%;\n",
       "            background:  linear-gradient(90deg,#5fba7d 100.0%, transparent 100.0%);\n",
       "        }    #T_2401f46c_dc63_11ec_a8ec_8c04ba3e1d36row0_col5 {\n",
       "            width:  10em;\n",
       "             height:  80%;\n",
       "            background:  linear-gradient(90deg,#5fba7d 100.0%, transparent 100.0%);\n",
       "        }    #T_2401f46c_dc63_11ec_a8ec_8c04ba3e1d36row1_col2 {\n",
       "            width:  10em;\n",
       "             height:  80%;\n",
       "        }    #T_2401f46c_dc63_11ec_a8ec_8c04ba3e1d36row1_col5 {\n",
       "            width:  10em;\n",
       "             height:  80%;\n",
       "        }</style><table id=\"T_2401f46c_dc63_11ec_a8ec_8c04ba3e1d36\" ><thead>    <tr>        <th class=\"blank level0\" ></th>        <th class=\"col_heading level0 col0\" >P0.5</th>        <th class=\"col_heading level0 col1\" >R0.5</th>        <th class=\"col_heading level0 col2\" >F0.5</th>        <th class=\"col_heading level0 col3\" >P3</th>        <th class=\"col_heading level0 col4\" >R3</th>        <th class=\"col_heading level0 col5\" >F3</th>    </tr></thead><tbody>\n",
       "                <tr>\n",
       "                        <th id=\"T_2401f46c_dc63_11ec_a8ec_8c04ba3e1d36level0_row0\" class=\"row_heading level0 row0\" >PCA</th>\n",
       "                        <td id=\"T_2401f46c_dc63_11ec_a8ec_8c04ba3e1d36row0_col0\" class=\"data row0 col0\" >0.6195</td>\n",
       "                        <td id=\"T_2401f46c_dc63_11ec_a8ec_8c04ba3e1d36row0_col1\" class=\"data row0 col1\" >0.6741</td>\n",
       "                        <td id=\"T_2401f46c_dc63_11ec_a8ec_8c04ba3e1d36row0_col2\" class=\"data row0 col2\" >0.6406</td>\n",
       "                        <td id=\"T_2401f46c_dc63_11ec_a8ec_8c04ba3e1d36row0_col3\" class=\"data row0 col3\" >0.7730</td>\n",
       "                        <td id=\"T_2401f46c_dc63_11ec_a8ec_8c04ba3e1d36row0_col4\" class=\"data row0 col4\" >0.8449</td>\n",
       "                        <td id=\"T_2401f46c_dc63_11ec_a8ec_8c04ba3e1d36row0_col5\" class=\"data row0 col5\" >0.8014</td>\n",
       "            </tr>\n",
       "            <tr>\n",
       "                        <th id=\"T_2401f46c_dc63_11ec_a8ec_8c04ba3e1d36level0_row1\" class=\"row_heading level0 row1\" >SSAE</th>\n",
       "                        <td id=\"T_2401f46c_dc63_11ec_a8ec_8c04ba3e1d36row1_col0\" class=\"data row1 col0\" >0.5299</td>\n",
       "                        <td id=\"T_2401f46c_dc63_11ec_a8ec_8c04ba3e1d36row1_col1\" class=\"data row1 col1\" >0.5180</td>\n",
       "                        <td id=\"T_2401f46c_dc63_11ec_a8ec_8c04ba3e1d36row1_col2\" class=\"data row1 col2\" >0.5204</td>\n",
       "                        <td id=\"T_2401f46c_dc63_11ec_a8ec_8c04ba3e1d36row1_col3\" class=\"data row1 col3\" >0.7618</td>\n",
       "                        <td id=\"T_2401f46c_dc63_11ec_a8ec_8c04ba3e1d36row1_col4\" class=\"data row1 col4\" >0.7413</td>\n",
       "                        <td id=\"T_2401f46c_dc63_11ec_a8ec_8c04ba3e1d36row1_col5\" class=\"data row1 col5\" >0.7467</td>\n",
       "            </tr>\n",
       "    </tbody></table>"
      ],
      "text/plain": [
       "<pandas.io.formats.style.Styler at 0x1578ee64430>"
      ]
     },
     "metadata": {},
     "output_type": "display_data"
    },
    {
     "name": "stdout",
     "output_type": "stream",
     "text": [
      "Autosimilarity type: Covariance\n",
      "Odd, method PCA, best dc: 40\n",
      "Even, method PCA, best dc: 40\n",
      "Odd, method SSAE, best dc: 24\n",
      "Even, method SSAE, best dc: 40\n"
     ]
    },
    {
     "data": {
      "text/html": [
       "<style  type=\"text/css\" >\n",
       "    #T_7fdfadaa_dc63_11ec_8720_8c04ba3e1d36row0_col2 {\n",
       "            width:  10em;\n",
       "             height:  80%;\n",
       "        }    #T_7fdfadaa_dc63_11ec_8720_8c04ba3e1d36row0_col5 {\n",
       "            width:  10em;\n",
       "             height:  80%;\n",
       "            background:  linear-gradient(90deg,#5fba7d 100.0%, transparent 100.0%);\n",
       "        }    #T_7fdfadaa_dc63_11ec_8720_8c04ba3e1d36row1_col2 {\n",
       "            width:  10em;\n",
       "             height:  80%;\n",
       "            background:  linear-gradient(90deg,#5fba7d 100.0%, transparent 100.0%);\n",
       "        }    #T_7fdfadaa_dc63_11ec_8720_8c04ba3e1d36row1_col5 {\n",
       "            width:  10em;\n",
       "             height:  80%;\n",
       "        }</style><table id=\"T_7fdfadaa_dc63_11ec_8720_8c04ba3e1d36\" ><thead>    <tr>        <th class=\"blank level0\" ></th>        <th class=\"col_heading level0 col0\" >P0.5</th>        <th class=\"col_heading level0 col1\" >R0.5</th>        <th class=\"col_heading level0 col2\" >F0.5</th>        <th class=\"col_heading level0 col3\" >P3</th>        <th class=\"col_heading level0 col4\" >R3</th>        <th class=\"col_heading level0 col5\" >F3</th>    </tr></thead><tbody>\n",
       "                <tr>\n",
       "                        <th id=\"T_7fdfadaa_dc63_11ec_8720_8c04ba3e1d36level0_row0\" class=\"row_heading level0 row0\" >PCA</th>\n",
       "                        <td id=\"T_7fdfadaa_dc63_11ec_8720_8c04ba3e1d36row0_col0\" class=\"data row0 col0\" >0.6195</td>\n",
       "                        <td id=\"T_7fdfadaa_dc63_11ec_8720_8c04ba3e1d36row0_col1\" class=\"data row0 col1\" >0.6741</td>\n",
       "                        <td id=\"T_7fdfadaa_dc63_11ec_8720_8c04ba3e1d36row0_col2\" class=\"data row0 col2\" >0.6406</td>\n",
       "                        <td id=\"T_7fdfadaa_dc63_11ec_8720_8c04ba3e1d36row0_col3\" class=\"data row0 col3\" >0.7730</td>\n",
       "                        <td id=\"T_7fdfadaa_dc63_11ec_8720_8c04ba3e1d36row0_col4\" class=\"data row0 col4\" >0.8449</td>\n",
       "                        <td id=\"T_7fdfadaa_dc63_11ec_8720_8c04ba3e1d36row0_col5\" class=\"data row0 col5\" >0.8014</td>\n",
       "            </tr>\n",
       "            <tr>\n",
       "                        <th id=\"T_7fdfadaa_dc63_11ec_8720_8c04ba3e1d36level0_row1\" class=\"row_heading level0 row1\" >SSAE</th>\n",
       "                        <td id=\"T_7fdfadaa_dc63_11ec_8720_8c04ba3e1d36row1_col0\" class=\"data row1 col0\" >0.6175</td>\n",
       "                        <td id=\"T_7fdfadaa_dc63_11ec_8720_8c04ba3e1d36row1_col1\" class=\"data row1 col1\" >0.6891</td>\n",
       "                        <td id=\"T_7fdfadaa_dc63_11ec_8720_8c04ba3e1d36row1_col2\" class=\"data row1 col2\" >0.6462</td>\n",
       "                        <td id=\"T_7fdfadaa_dc63_11ec_8720_8c04ba3e1d36row1_col3\" class=\"data row1 col3\" >0.7515</td>\n",
       "                        <td id=\"T_7fdfadaa_dc63_11ec_8720_8c04ba3e1d36row1_col4\" class=\"data row1 col4\" >0.8438</td>\n",
       "                        <td id=\"T_7fdfadaa_dc63_11ec_8720_8c04ba3e1d36row1_col5\" class=\"data row1 col5\" >0.7890</td>\n",
       "            </tr>\n",
       "    </tbody></table>"
      ],
      "text/plain": [
       "<pandas.io.formats.style.Styler at 0x1578951d700>"
      ]
     },
     "metadata": {},
     "output_type": "display_data"
    },
    {
     "name": "stdout",
     "output_type": "stream",
     "text": [
      "Autosimilarity type: RBF\n",
      "Odd, method PCA, best dc: 32\n",
      "Even, method PCA, best dc: 16\n",
      "Odd, method SSAE, best dc: 16\n",
      "Even, method SSAE, best dc: 40\n"
     ]
    },
    {
     "data": {
      "text/html": [
       "<style  type=\"text/css\" >\n",
       "    #T_dd4101d5_dc63_11ec_8199_8c04ba3e1d36row0_col2 {\n",
       "            width:  10em;\n",
       "             height:  80%;\n",
       "        }    #T_dd4101d5_dc63_11ec_8199_8c04ba3e1d36row0_col5 {\n",
       "            width:  10em;\n",
       "             height:  80%;\n",
       "        }    #T_dd4101d5_dc63_11ec_8199_8c04ba3e1d36row1_col2 {\n",
       "            width:  10em;\n",
       "             height:  80%;\n",
       "            background:  linear-gradient(90deg,#5fba7d 100.0%, transparent 100.0%);\n",
       "        }    #T_dd4101d5_dc63_11ec_8199_8c04ba3e1d36row1_col5 {\n",
       "            width:  10em;\n",
       "             height:  80%;\n",
       "            background:  linear-gradient(90deg,#5fba7d 100.0%, transparent 100.0%);\n",
       "        }</style><table id=\"T_dd4101d5_dc63_11ec_8199_8c04ba3e1d36\" ><thead>    <tr>        <th class=\"blank level0\" ></th>        <th class=\"col_heading level0 col0\" >P0.5</th>        <th class=\"col_heading level0 col1\" >R0.5</th>        <th class=\"col_heading level0 col2\" >F0.5</th>        <th class=\"col_heading level0 col3\" >P3</th>        <th class=\"col_heading level0 col4\" >R3</th>        <th class=\"col_heading level0 col5\" >F3</th>    </tr></thead><tbody>\n",
       "                <tr>\n",
       "                        <th id=\"T_dd4101d5_dc63_11ec_8199_8c04ba3e1d36level0_row0\" class=\"row_heading level0 row0\" >PCA</th>\n",
       "                        <td id=\"T_dd4101d5_dc63_11ec_8199_8c04ba3e1d36row0_col0\" class=\"data row0 col0\" >0.5986</td>\n",
       "                        <td id=\"T_dd4101d5_dc63_11ec_8199_8c04ba3e1d36row0_col1\" class=\"data row0 col1\" >0.6360</td>\n",
       "                        <td id=\"T_dd4101d5_dc63_11ec_8199_8c04ba3e1d36row0_col2\" class=\"data row0 col2\" >0.6119</td>\n",
       "                        <td id=\"T_dd4101d5_dc63_11ec_8199_8c04ba3e1d36row0_col3\" class=\"data row0 col3\" >0.7750</td>\n",
       "                        <td id=\"T_dd4101d5_dc63_11ec_8199_8c04ba3e1d36row0_col4\" class=\"data row0 col4\" >0.8251</td>\n",
       "                        <td id=\"T_dd4101d5_dc63_11ec_8199_8c04ba3e1d36row0_col5\" class=\"data row0 col5\" >0.7936</td>\n",
       "            </tr>\n",
       "            <tr>\n",
       "                        <th id=\"T_dd4101d5_dc63_11ec_8199_8c04ba3e1d36level0_row1\" class=\"row_heading level0 row1\" >SSAE</th>\n",
       "                        <td id=\"T_dd4101d5_dc63_11ec_8199_8c04ba3e1d36row1_col0\" class=\"data row1 col0\" >0.6297</td>\n",
       "                        <td id=\"T_dd4101d5_dc63_11ec_8199_8c04ba3e1d36row1_col1\" class=\"data row1 col1\" >0.6577</td>\n",
       "                        <td id=\"T_dd4101d5_dc63_11ec_8199_8c04ba3e1d36row1_col2\" class=\"data row1 col2\" >0.6388</td>\n",
       "                        <td id=\"T_dd4101d5_dc63_11ec_8199_8c04ba3e1d36row1_col3\" class=\"data row1 col3\" >0.7927</td>\n",
       "                        <td id=\"T_dd4101d5_dc63_11ec_8199_8c04ba3e1d36row1_col4\" class=\"data row1 col4\" >0.8317</td>\n",
       "                        <td id=\"T_dd4101d5_dc63_11ec_8199_8c04ba3e1d36row1_col5\" class=\"data row1 col5\" >0.8063</td>\n",
       "            </tr>\n",
       "    </tbody></table>"
      ],
      "text/plain": [
       "<pandas.io.formats.style.Styler at 0x1578ee53d90>"
      ]
     },
     "metadata": {},
     "output_type": "display_data"
    },
    {
     "data": {
      "image/png": "[encoded data removed]",
      "text/plain": [
       "<Figure size 792x288 with 1 Axes>"
      ]
     },
     "metadata": {
      "needs_background": "light"
     },
     "output_type": "display_data"
    },
    {
     "data": {
      "image/png": "[encoded data removed]",
      "text/plain": [
       "<Figure size 792x288 with 1 Axes>"
      ]
     },
     "metadata": {
      "needs_background": "light"
     },
     "output_type": "display_data"
    },
    {
     "name": "stdout",
     "output_type": "stream",
     "text": [
      "---------------\n",
      "------------\n",
      "------------\n",
      "------------\n",
      "------------\n"
     ]
    }
   ],
   "source": [
    "print(f\"Kernel: {convolution_type}\")\n",
    "\n",
    "res_avg_target = math.inf * np.ones((len(compression_labels), len(autosimilarity_types), 2, 3))\n",
    "\n",
    "indexes = []\n",
    "results_this_function = math.inf * np.ones((len(autosimilarity_types), 2, 3))\n",
    "for idx_as, autosimil_type in enumerate(autosimilarity_types):\n",
    "    print(f\"Autosimilarity type: {autosimil_type}\")\n",
    "    res = compute_this_penalty_compression_euc(pen_function, dimensions_range, autosimilarity_type = autosimil_type, feature = feature, convolution_type = convolution_type)\n",
    "    for idx_line, line in enumerate(res):\n",
    "        res_avg_target[idx_line, idx_as] = line\n",
    "    dataframe = pd.DataFrame(res.reshape(res.shape[0], 6), columns = ['P0.5', 'R0.5', 'F0.5','P3', 'R3', 'F3'], index = compression_labels)\n",
    "    display(dataframe.style.bar(subset=[\"F0.5\",\"F3\"], color='#5fba7d'))\n",
    "plot_kernels_as(np.round(100 * res_avg_target[:,:,:,2], decimals = 2), compression_labels, autosimilarity_types, 0, title = f\"F0.5 for Euclidean-NTD,\\n14-bands kernel and modulo 8 penalty.\")\n",
    "plot_kernels_as(np.round(100 * res_avg_target[:,:,:,2], decimals = 2), compression_labels, autosimilarity_types, 1, title = f\"F3 for Euclidean-NTD,\\n14-bands kernel and modulo 8 penalty.\")\n",
    "print(\"---------------\\n------------\\n------------\\n------------\\n------------\")"
   ]
  }
 ],
 "metadata": {
  "kernelspec": {
   "display_name": "Python 3 (ipykernel)",
   "language": "python",
   "name": "python3"
  },
  "language_info": {
   "codemirror_mode": {
    "name": "ipython",
    "version": 3
   },
   "file_extension": ".py",
   "mimetype": "text/x-python",
   "name": "python",
   "nbconvert_exporter": "python",
   "pygments_lexer": "ipython3",
   "version": "3.8.12"
  },
  "toc": {
   "base_numbering": 1,
   "nav_menu": {},
   "number_sections": true,
   "sideBar": true,
   "skip_h1_title": false,
   "title_cell": "Table of Contents",
   "title_sidebar": "Contents",
   "toc_cell": false,
   "toc_position": {},
   "toc_section_display": true,
   "toc_window_display": false
  },
  "varInspector": {
   "cols": {
    "lenName": 16,
    "lenType": 16,
    "lenVar": 40
   },
   "kernels_config": {
    "python": {
     "delete_cmd_postfix": "",
     "delete_cmd_prefix": "del ",
     "library": "var_list.py",
     "varRefreshCmd": "print(var_dic_list())"
    },
    "r": {
     "delete_cmd_postfix": ") ",
     "delete_cmd_prefix": "rm(",
     "library": "var_list.r",
     "varRefreshCmd": "cat(var_dic_list()) "
    }
   },
   "types_to_exclude": [
    "module",
    "function",
    "builtin_function_or_method",
    "instance",
    "_Feature"
   ],
   "window_display": false
  }
 },
 "nbformat": 4,
 "nbformat_minor": 5
}
