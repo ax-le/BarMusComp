{
 "cells": [
  {
   "cell_type": "code",
   "execution_count": 1,
   "id": "5191e13c",
   "metadata": {
    "ExecuteTime": {
     "end_time": "2022-07-06T12:18:58.354008Z",
     "start_time": "2022-07-06T12:18:46.184772Z"
    }
   },
   "outputs": [],
   "source": [
    "import barmuscomp.scripts.default_path as paths\n",
    "import barmuscomp.scripts.overall_scripts as scr\n",
    "import barmuscomp.lra as lra\n",
    "import as_seg.CBM_algorithm as CBM\n",
    "import as_seg.barwise_input as bi\n",
    "import as_seg.data_manipulation as dm\n",
    "import as_seg.autosimilarity_computation as as_comp\n",
    "\n",
    "import os\n",
    "import pandas as pd\n",
    "import mirdata\n",
    "import numpy as np\n",
    "import math\n",
    "from IPython.display import display, Markdown\n",
    "import tensorly as tl"
   ]
  },
  {
   "cell_type": "code",
   "execution_count": 2,
   "id": "979bbcc1",
   "metadata": {
    "ExecuteTime": {
     "end_time": "2022-07-06T12:18:58.369965Z",
     "start_time": "2022-07-06T12:18:58.356002Z"
    }
   },
   "outputs": [],
   "source": [
    "def return_results(references_segments, segments_in_time):\n",
    "    prec05, rap05, f_mes05 = dm.compute_score_of_segmentation(references_segments, segments_in_time, window_length = 0.5)\n",
    "    prec3, rap3, f_mes3 = dm.compute_score_of_segmentation(references_segments, segments_in_time, window_length = 3)\n",
    "    return [[round(prec05,4),round(rap05,4),round(f_mes05,4)], [round(prec3,4),round(rap3,4),round(f_mes3,4)]]"
   ]
  },
  {
   "cell_type": "code",
   "execution_count": 3,
   "id": "db4d6d73",
   "metadata": {
    "ExecuteTime": {
     "end_time": "2022-07-06T12:18:58.493678Z",
     "start_time": "2022-07-06T12:18:58.372959Z"
    }
   },
   "outputs": [],
   "source": [
    "def fixed_conditions_results_salami(feature = \"log_mel_grill\", autosimilarity_type = \"cosine\", compression_technique = \"pca\", dc = 16, \n",
    "                                    lambda_penalty = 1, convolution_type = \"full\", penalty_func = \"modulo8\"):\n",
    "    salami = mirdata.initialize('salami', data_home = paths.path_entire_salami)\n",
    "    len_salami = len(salami.track_ids)\n",
    "\n",
    "    results_songs = -math.inf * np.ones((len_salami, 2, 3))\n",
    "    \n",
    "    hop_length = 32\n",
    "    hop_length_seconds = hop_length/44100\n",
    "    subdivision = 96\n",
    "    \n",
    "    all_tracks = salami.load_tracks()\n",
    "    \n",
    "    song_idx = 0\n",
    "    \n",
    "    file_test_set_gs = open(f\"{os.getcwd()}/test_set_salami_gs.txt\")\n",
    "\n",
    "    test_dataset = []\n",
    "    for part in file_test_set_gs.readlines():\n",
    "        line_broken = part.split(\"\\n\")\n",
    "        test_dataset.append(int(line_broken[0]))\n",
    "\n",
    "    for key, track in all_tracks.items():\n",
    "        if int(key) in test_dataset:\n",
    "            try:               \n",
    "                bars = scr.load_or_save_bars(paths.path_data_persisted_salami, track.audio_path)\n",
    "                tensor_barwise = scr.load_or_save_tensor_spectrogram(paths.path_data_persisted_salami, track.audio_path, feature, hop_length, subdivision)\n",
    "                barwise_TF_matrix = tl.unfold(tensor_barwise, 0)\n",
    "  \n",
    "                local_dc = min(dc, barwise_TF_matrix.shape[0])\n",
    "\n",
    "                ref_tab = []\n",
    "                try:\n",
    "                    references_segments = salami.load_sections(track.sections_annotator1_uppercase_path).intervals\n",
    "                    ref_tab.append(references_segments)\n",
    "                except (TypeError, AttributeError):\n",
    "                    pass\n",
    "\n",
    "                try:\n",
    "                    references_segments = salami.load_sections(track.sections_annotator2_uppercase_path).intervals\n",
    "                    ref_tab.append(references_segments)\n",
    "                except (TypeError, AttributeError):\n",
    "                    pass\n",
    "\n",
    "                if compression_technique is None:\n",
    "                    Q_matrix = barwise_TF_matrix\n",
    "                elif compression_technique == \"pca\":\n",
    "                    try:\n",
    "                        Q_matrix = np.load(f\"{paths.path_data_persisted_rwc}/pca/salami/pca_dim{local_dc}_song{key}_feature{feature}_hop{hop_length}_subdivbars{subdivision}.npy\", allow_pickle = True)\n",
    "                    except FileNotFoundError:\n",
    "                        Q_matrix = lra.pca_projection(barwise_TF_matrix, compression_dimension = local_dc)\n",
    "                        np.save(f\"{paths.path_data_persisted_rwc}/pca/salami/pca_dim{local_dc}_song{key}_feature{feature}_hop{hop_length}_subdivbars{subdivision}\", Q_matrix)\n",
    "                elif compression_technique == \"nmf_euc\":\n",
    "                    try:\n",
    "                        Q_matrix = np.load(f\"{paths.path_data_persisted_rwc}/nmf/salami/Q_nmf_dim{local_dc}_updatehals_initnndsvd_song{key}_feature{feature}_hop{hop_length}_subdivbars{subdivision}.npy\", allow_pickle = True)\n",
    "                    except FileNotFoundError:\n",
    "                        Q_matrix = lra.nmf_computation(barwise_TF_matrix, local_dc, beta = 2, init = \"nndsvd\")[0]\n",
    "                        np.save(f\"{paths.path_data_persisted_rwc}/nmf/salami/Q_nmf_dim{local_dc}_updatehals_initnndsvd_song{key}_feature{feature}_hop{hop_length}_subdivbars{subdivision}\", Q_matrix)\n",
    "                elif compression_technique == \"nmf_kl\":\n",
    "                    try:\n",
    "                        Q_matrix = np.load(f\"{paths.path_data_persisted_rwc}/nmf/salami/Q_nmf_dim{local_dc}_updatemu_beta1_initnndsvd_song{key}_feature{feature}_hop{hop_length}_subdivbars{subdivision}.npy\", allow_pickle = True)\n",
    "                    except FileNotFoundError:\n",
    "                        Q_matrix = lra.nmf_computation(barwise_TF_matrix, local_dc, beta = 1, init = \"nndsvd\")[0]\n",
    "                        np.save(f\"{paths.path_data_persisted_rwc}/nmf/salami/Q_nmf_dim{local_dc}_updatemu_beta1_initnndsvd_song{key}_feature{feature}_hop{hop_length}_subdivbars{subdivision}\", Q_matrix)\n",
    "                elif compression_technique == \"nmf_is\":\n",
    "                    try:\n",
    "                        Q_matrix = np.load(f\"{paths.path_data_persisted_rwc}/nmf/salami/Q_nmf_dim{local_dc}_updatemu_beta0_initnndsvd_song{key}_feature{feature}_hop{hop_length}_subdivbars{subdivision}.npy\", allow_pickle = True)\n",
    "                    except FileNotFoundError:\n",
    "                        Q_matrix = lra.nmf_computation(barwise_TF_matrix, local_dc, beta = 0, init = \"nndsvd\")[0]\n",
    "                        np.save(f\"{paths.path_data_persisted_rwc}/nmf/salami/Q_nmf_dim{local_dc}_updatemu_beta0_initnndsvd_song{key}_feature{feature}_hop{hop_length}_subdivbars{subdivision}\", Q_matrix)\n",
    "                else:\n",
    "                    raise NotImplementedError(\"Compression method not understood\")\n",
    "\n",
    "                autosimilarity = as_comp.switch_autosimilarity(Q_matrix, similarity_type = autosimilarity_type, normalise = True)\n",
    "                segments = CBM.compute_cbm(autosimilarity, penalty_weight = lambda_penalty, penalty_func = penalty_func, convolution_type = convolution_type)[0]                \n",
    "                segments_in_time = dm.segments_from_bar_to_time(segments, bars)\n",
    "\n",
    "                score_zero_five = dm.compute_score_of_segmentation(ref_tab[0], segments_in_time, window_length = 0.5)\n",
    "                score_three = dm.compute_score_of_segmentation(ref_tab[0], segments_in_time, window_length = 3)\n",
    "                if len(ref_tab) > 1:\n",
    "                    second_score_zero_five = dm.compute_score_of_segmentation(ref_tab[1], segments_in_time, window_length = 0.5)\n",
    "                    second_score_three = dm.compute_score_of_segmentation(ref_tab[1], segments_in_time, window_length = 3)\n",
    "                    if second_score_zero_five[2] + second_score_three[2] > score_zero_five[2] + score_three[2]: # f measure\n",
    "                        score_zero_five = second_score_zero_five\n",
    "                        score_three = second_score_three \n",
    "\n",
    "                results_songs[song_idx, 0] = score_zero_five \n",
    "                results_songs[song_idx, 1] = score_three\n",
    "\n",
    "                song_idx += 1  \n",
    "    \n",
    "            except FileNotFoundError:\n",
    "                print(f\"{key} not found, normal ?\")\n",
    "\n",
    "    print(f\"Tested on {song_idx} songs\")\n",
    "    lines = np.array([\"Precision 0.5\", \"Recall 0.5\", \"F measure 0.5\",\"Precision 3\", \"Recall 3\", \"F measure 3\"])  \n",
    "    tab = []\n",
    "    res_np = results_songs[:song_idx]\n",
    "    tab.append([round(np.mean(res_np[:,0,0]),5), round(np.mean(res_np[:, 0,1]),5), round(np.mean(res_np[:, 0,2]),5), round(np.mean(res_np[:,1, 0]),5), round(np.mean(res_np[:, 1,1]),5), round(np.mean(res_np[:, 1,2]),5)])\n",
    "\n",
    "    display(pd.DataFrame(tab, index=[f\"Method:{compression_technique}, autosimilarity: {autosimilarity_type}\"], columns=lines))"
   ]
  },
  {
   "cell_type": "code",
   "execution_count": 4,
   "id": "b202dfc2",
   "metadata": {
    "ExecuteTime": {
     "end_time": "2022-07-06T12:18:58.555511Z",
     "start_time": "2022-07-06T12:18:58.496671Z"
    }
   },
   "outputs": [],
   "source": [
    "def learn_and_test_salami(feature = \"log_mel_grill\", autosimilarity_type = \"cosine\", compression_technique = \"pca\", \n",
    "                          list_dc = [8,16, 24, 32,40], \n",
    "                          lambda_penalty = 1, convolution_type = \"full\", penalty_func = \"modulo8\"):\n",
    "    \"\"\"\n",
    "    Learning the latent space dimension on the non-test subset of the SALAMI dataset, and computes the results on the SALAMI test-dataset.\n",
    "    \"\"\"\n",
    "    salami = mirdata.initialize('salami', data_home = paths.path_entire_salami)\n",
    "    len_salami = len(salami.track_ids)\n",
    "    \n",
    "    results_songs = -math.inf * np.ones((len_salami, len(list_dc), 2, 3))\n",
    "    \n",
    "    hop_length = 32\n",
    "    hop_length_seconds = hop_length/44100\n",
    "    subdivision = 96\n",
    "    \n",
    "    all_tracks = salami.load_tracks()    \n",
    "    song_idx = 0\n",
    "    file_mirex = open(f\"{os.getcwd()}/test_set_salami_gs.txt\")\n",
    "\n",
    "    test_dataset = []\n",
    "    for part in file_mirex.readlines():\n",
    "        line_broken = part.split(\"\\n\")\n",
    "        test_dataset.append(int(line_broken[0]))\n",
    "            \n",
    "    for key, track in all_tracks.items():\n",
    "        int_key = int(key)\n",
    "        if int_key not in test_dataset: # Every other file than the test dataset\n",
    "            try:\n",
    "                bars = scr.load_or_save_bars(paths.path_data_persisted_salami, track.audio_path)\n",
    "                tensor_barwise = scr.load_or_save_tensor_spectrogram(paths.path_data_persisted_salami, track.audio_path, feature, hop_length, subdivision)\n",
    "                barwise_TF_matrix = tl.unfold(tensor_barwise, 0)\n",
    "                \n",
    "                if barwise_TF_matrix.shape[0] < np.amax(list_dc):\n",
    "                    pass\n",
    "                    #print(f\"Song {key} with too small dimension\")\n",
    "                else:\n",
    "                   \n",
    "                    ref_tab = []\n",
    "                    try:\n",
    "                        references_segments = salami.load_sections(track.sections_annotator1_uppercase_path).intervals\n",
    "                        ref_tab.append(references_segments)\n",
    "                    except (TypeError, AttributeError):\n",
    "                        pass\n",
    "\n",
    "                    try:\n",
    "                        references_segments = salami.load_sections(track.sections_annotator2_uppercase_path).intervals\n",
    "                        ref_tab.append(references_segments)\n",
    "                    except (TypeError, AttributeError):\n",
    "                        pass\n",
    "\n",
    "                    for idx_dc, dc in enumerate(list_dc):            \n",
    "                \n",
    "                        if compression_technique == \"pca\":\n",
    "                            try:\n",
    "                                Q_matrix = np.load(f\"{paths.path_data_persisted_rwc}/pca/salami/pca_dim{dc}_song{key}_feature{feature}_hop{hop_length}_subdivbars{subdivision}.npy\", allow_pickle = True)\n",
    "                            except FileNotFoundError:\n",
    "                                Q_matrix = lra.pca_projection(barwise_TF_matrix, compression_dimension = dc)\n",
    "                                np.save(f\"{paths.path_data_persisted_rwc}/pca/salami/pca_dim{dc}_song{key}_feature{feature}_hop{hop_length}_subdivbars{subdivision}\", Q_matrix)\n",
    "                        elif compression_technique == \"nmf_euc\":\n",
    "                            try:\n",
    "                                Q_matrix = np.load(f\"{paths.path_data_persisted_rwc}/nmf/salami/Q_nmf_dim{dc}_updatehals_initnndsvd_song{key}_feature{feature}_hop{hop_length}_subdivbars{subdivision}.npy\", allow_pickle = True)\n",
    "                            except FileNotFoundError:\n",
    "                                Q_matrix = lra.nmf_computation(barwise_TF_matrix, dc, beta = 2, init = \"nndsvd\")[0]\n",
    "                                np.save(f\"{paths.path_data_persisted_rwc}/nmf/salami/Q_nmf_dim{dc}_updatehals_initnndsvd_song{key}_feature{feature}_hop{hop_length}_subdivbars{subdivision}\", Q_matrix)\n",
    "                        elif compression_technique == \"nmf_kl\":\n",
    "                            try:\n",
    "                                Q_matrix = np.load(f\"{paths.path_data_persisted_rwc}/nmf/salami/Q_nmf_dim{dc}_updatemu_initnndsvd_song{key}_feature{feature}_hop{hop_length}_subdivbars{subdivision}.npy\", allow_pickle = True)\n",
    "                            except FileNotFoundError:\n",
    "                                Q_matrix = lra.nmf_computation(barwise_TF_matrix, dc, beta = 1, init = \"nndsvd\")[0]\n",
    "                                np.save(f\"{paths.path_data_persisted_rwc}/nmf/salami/Q_nmf_dim{dc}_updatemu_initnndsvd_song{key}_feature{feature}_hop{hop_length}_subdivbars{subdivision}\", Q_matrix)\n",
    "                        elif compression_technique == \"nmf_is\":\n",
    "                            try:\n",
    "                                Q_matrix = np.load(f\"{paths.path_data_persisted_rwc}/nmf/salami/Q_nmf_dim{dc}_updatemu_initnndsvd_song{key}_feature{feature}_hop{hop_length}_subdivbars{subdivision}.npy\", allow_pickle = True)\n",
    "                            except FileNotFoundError:\n",
    "                                Q_matrix = lra.nmf_computation(barwise_TF_matrix, dc, beta = 0, init = \"nndsvd\")[0]\n",
    "                                np.save(f\"{paths.path_data_persisted_rwc}/nmf/salami/Q_nmf_dim{dc}_updatemu_initnndsvd_song{key}_feature{feature}_hop{hop_length}_subdivbars{subdivision}\", Q_matrix)\n",
    "                        else:\n",
    "                            raise NotImplementedError(\"Compression method not understood\")\n",
    "                            \n",
    "                        autosimilarity = as_comp.switch_autosimilarity(Q_matrix, similarity_type = autosimilarity_type, normalise = True)\n",
    "                        segments = CBM.compute_cbm(autosimilarity, penalty_weight = lambda_penalty, penalty_func = penalty_func, convolution_type = convolution_type)[0]                \n",
    "                        segments_in_time = dm.segments_from_bar_to_time(segments, bars)\n",
    "\n",
    "                        score_zero_five = dm.compute_score_of_segmentation(ref_tab[0], segments_in_time, window_length = 0.5)\n",
    "                        score_three = dm.compute_score_of_segmentation(ref_tab[0], segments_in_time, window_length = 3)\n",
    "                        if len(ref_tab) > 1:\n",
    "                            second_score_zero_five = dm.compute_score_of_segmentation(ref_tab[1], segments_in_time, window_length = 0.5)\n",
    "                            second_score_three = dm.compute_score_of_segmentation(ref_tab[1], segments_in_time, window_length = 3)\n",
    "                            if second_score_zero_five[2] + second_score_three[2] > score_zero_five[2] + score_three[2]: # f measure\n",
    "                                score_zero_five = second_score_zero_five\n",
    "                                score_three = second_score_three \n",
    "\n",
    "                        results_songs[song_idx, idx_dc, 0] = score_zero_five \n",
    "                        results_songs[song_idx, idx_dc, 1] = score_three\n",
    "                            \n",
    "                    song_idx += 1  \n",
    "    \n",
    "            except FileNotFoundError:\n",
    "                print(f\"{key} not found, normal ?\")\n",
    "\n",
    "    mean_dc = []\n",
    "    for idx_dc, dc in enumerate(list_dc):\n",
    "        mean_dc.append(round(np.mean(results_songs[:song_idx, idx_dc, 0, 2]) + np.mean(results_songs[:song_idx, idx_dc, 1, 2]), 5))\n",
    "    arg_best_dc = np.argmax(mean_dc)\n",
    "    best_dc = list_dc[arg_best_dc]\n",
    "\n",
    "    display(pd.DataFrame(np.array([best_dc, song_idx]), index = ['Best latent space dimension', 'Number of songs in learning dataset'], columns = [\"Learned parameters\"]).T)\n",
    "\n",
    "    return fixed_conditions_results_salami(feature = feature, autosimilarity_type = autosimilarity_type, compression_technique = compression_technique, dc = best_dc, \n",
    "                                           lambda_penalty = lambda_penalty, convolution_type = convolution_type, penalty_func = penalty_func)"
   ]
  },
  {
   "cell_type": "code",
   "execution_count": 5,
   "id": "b7a07943",
   "metadata": {
    "ExecuteTime": {
     "end_time": "2022-07-06T12:26:12.174685Z",
     "start_time": "2022-07-06T12:18:58.557506Z"
    }
   },
   "outputs": [
    {
     "name": "stdout",
     "output_type": "stream",
     "text": [
      "710 not found, normal ?\n",
      "716 not found, normal ?\n",
      "1248 not found, normal ?\n",
      "722 not found, normal ?\n",
      "720 not found, normal ?\n",
      "711 not found, normal ?\n",
      "718 not found, normal ?\n",
      "717 not found, normal ?\n",
      "63 not found, normal ?\n",
      "719 not found, normal ?\n",
      "714 not found, normal ?\n",
      "709 not found, normal ?\n",
      "261 not found, normal ?\n",
      "724 not found, normal ?\n",
      "878 not found, normal ?\n",
      "712 not found, normal ?\n",
      "715 not found, normal ?\n",
      "723 not found, normal ?\n"
     ]
    },
    {
     "data": {
      "text/html": [
       "<div>\n",
       "<style scoped>\n",
       "    .dataframe tbody tr th:only-of-type {\n",
       "        vertical-align: middle;\n",
       "    }\n",
       "\n",
       "    .dataframe tbody tr th {\n",
       "        vertical-align: top;\n",
       "    }\n",
       "\n",
       "    .dataframe thead th {\n",
       "        text-align: right;\n",
       "    }\n",
       "</style>\n",
       "<table border=\"1\" class=\"dataframe\">\n",
       "  <thead>\n",
       "    <tr style=\"text-align: right;\">\n",
       "      <th></th>\n",
       "      <th>Best latent space dimension</th>\n",
       "      <th>Number of songs in learning dataset</th>\n",
       "    </tr>\n",
       "  </thead>\n",
       "  <tbody>\n",
       "    <tr>\n",
       "      <th>Learned parameters</th>\n",
       "      <td>40</td>\n",
       "      <td>784</td>\n",
       "    </tr>\n",
       "  </tbody>\n",
       "</table>\n",
       "</div>"
      ],
      "text/plain": [
       "                    Best latent space dimension  \\\n",
       "Learned parameters                           40   \n",
       "\n",
       "                    Number of songs in learning dataset  \n",
       "Learned parameters                                  784  "
      ]
     },
     "metadata": {},
     "output_type": "display_data"
    },
    {
     "name": "stdout",
     "output_type": "stream",
     "text": [
      "70 not found, normal ?\n",
      "Tested on 486 songs\n"
     ]
    },
    {
     "data": {
      "text/html": [
       "<div>\n",
       "<style scoped>\n",
       "    .dataframe tbody tr th:only-of-type {\n",
       "        vertical-align: middle;\n",
       "    }\n",
       "\n",
       "    .dataframe tbody tr th {\n",
       "        vertical-align: top;\n",
       "    }\n",
       "\n",
       "    .dataframe thead th {\n",
       "        text-align: right;\n",
       "    }\n",
       "</style>\n",
       "<table border=\"1\" class=\"dataframe\">\n",
       "  <thead>\n",
       "    <tr style=\"text-align: right;\">\n",
       "      <th></th>\n",
       "      <th>Precision 0.5</th>\n",
       "      <th>Recall 0.5</th>\n",
       "      <th>F measure 0.5</th>\n",
       "      <th>Precision 3</th>\n",
       "      <th>Recall 3</th>\n",
       "      <th>F measure 3</th>\n",
       "    </tr>\n",
       "  </thead>\n",
       "  <tbody>\n",
       "    <tr>\n",
       "      <th>Method:pca, autosimilarity: cosine</th>\n",
       "      <td>0.376</td>\n",
       "      <td>0.5555</td>\n",
       "      <td>0.435</td>\n",
       "      <td>0.5321</td>\n",
       "      <td>0.7947</td>\n",
       "      <td>0.6184</td>\n",
       "    </tr>\n",
       "  </tbody>\n",
       "</table>\n",
       "</div>"
      ],
      "text/plain": [
       "                                    Precision 0.5  Recall 0.5  F measure 0.5  \\\n",
       "Method:pca, autosimilarity: cosine          0.376      0.5555          0.435   \n",
       "\n",
       "                                    Precision 3  Recall 3  F measure 3  \n",
       "Method:pca, autosimilarity: cosine       0.5321    0.7947       0.6184  "
      ]
     },
     "metadata": {},
     "output_type": "display_data"
    }
   ],
   "source": [
    "learn_and_test_salami(feature = \"log_mel_grill\", autosimilarity_type = \"cosine\", compression_technique = \"pca\")"
   ]
  },
  {
   "cell_type": "code",
   "execution_count": 6,
   "id": "fa9590a6",
   "metadata": {
    "ExecuteTime": {
     "end_time": "2022-07-06T12:32:27.774676Z",
     "start_time": "2022-07-06T12:26:12.177682Z"
    }
   },
   "outputs": [
    {
     "name": "stdout",
     "output_type": "stream",
     "text": [
      "710 not found, normal ?\n",
      "716 not found, normal ?\n",
      "1248 not found, normal ?\n",
      "722 not found, normal ?\n",
      "720 not found, normal ?\n",
      "711 not found, normal ?\n",
      "718 not found, normal ?\n",
      "717 not found, normal ?\n",
      "63 not found, normal ?\n",
      "719 not found, normal ?\n",
      "714 not found, normal ?\n",
      "709 not found, normal ?\n",
      "261 not found, normal ?\n",
      "724 not found, normal ?\n",
      "878 not found, normal ?\n",
      "712 not found, normal ?\n",
      "715 not found, normal ?\n",
      "723 not found, normal ?\n"
     ]
    },
    {
     "data": {
      "text/html": [
       "<div>\n",
       "<style scoped>\n",
       "    .dataframe tbody tr th:only-of-type {\n",
       "        vertical-align: middle;\n",
       "    }\n",
       "\n",
       "    .dataframe tbody tr th {\n",
       "        vertical-align: top;\n",
       "    }\n",
       "\n",
       "    .dataframe thead th {\n",
       "        text-align: right;\n",
       "    }\n",
       "</style>\n",
       "<table border=\"1\" class=\"dataframe\">\n",
       "  <thead>\n",
       "    <tr style=\"text-align: right;\">\n",
       "      <th></th>\n",
       "      <th>Best latent space dimension</th>\n",
       "      <th>Number of songs in learning dataset</th>\n",
       "    </tr>\n",
       "  </thead>\n",
       "  <tbody>\n",
       "    <tr>\n",
       "      <th>Learned parameters</th>\n",
       "      <td>40</td>\n",
       "      <td>784</td>\n",
       "    </tr>\n",
       "  </tbody>\n",
       "</table>\n",
       "</div>"
      ],
      "text/plain": [
       "                    Best latent space dimension  \\\n",
       "Learned parameters                           40   \n",
       "\n",
       "                    Number of songs in learning dataset  \n",
       "Learned parameters                                  784  "
      ]
     },
     "metadata": {},
     "output_type": "display_data"
    },
    {
     "name": "stdout",
     "output_type": "stream",
     "text": [
      "70 not found, normal ?\n",
      "Tested on 486 songs\n"
     ]
    },
    {
     "data": {
      "text/html": [
       "<div>\n",
       "<style scoped>\n",
       "    .dataframe tbody tr th:only-of-type {\n",
       "        vertical-align: middle;\n",
       "    }\n",
       "\n",
       "    .dataframe tbody tr th {\n",
       "        vertical-align: top;\n",
       "    }\n",
       "\n",
       "    .dataframe thead th {\n",
       "        text-align: right;\n",
       "    }\n",
       "</style>\n",
       "<table border=\"1\" class=\"dataframe\">\n",
       "  <thead>\n",
       "    <tr style=\"text-align: right;\">\n",
       "      <th></th>\n",
       "      <th>Precision 0.5</th>\n",
       "      <th>Recall 0.5</th>\n",
       "      <th>F measure 0.5</th>\n",
       "      <th>Precision 3</th>\n",
       "      <th>Recall 3</th>\n",
       "      <th>F measure 3</th>\n",
       "    </tr>\n",
       "  </thead>\n",
       "  <tbody>\n",
       "    <tr>\n",
       "      <th>Method:pca, autosimilarity: cosine</th>\n",
       "      <td>0.3674</td>\n",
       "      <td>0.5746</td>\n",
       "      <td>0.4341</td>\n",
       "      <td>0.5127</td>\n",
       "      <td>0.8081</td>\n",
       "      <td>0.6075</td>\n",
       "    </tr>\n",
       "  </tbody>\n",
       "</table>\n",
       "</div>"
      ],
      "text/plain": [
       "                                    Precision 0.5  Recall 0.5  F measure 0.5  \\\n",
       "Method:pca, autosimilarity: cosine         0.3674      0.5746         0.4341   \n",
       "\n",
       "                                    Precision 3  Recall 3  F measure 3  \n",
       "Method:pca, autosimilarity: cosine       0.5127    0.8081       0.6075  "
      ]
     },
     "metadata": {},
     "output_type": "display_data"
    }
   ],
   "source": [
    "learn_and_test_salami(feature = \"nn_log_mel_grill\", autosimilarity_type = \"cosine\", compression_technique = \"pca\")"
   ]
  },
  {
   "cell_type": "code",
   "execution_count": 7,
   "id": "de349f36",
   "metadata": {
    "ExecuteTime": {
     "end_time": "2022-07-06T12:37:59.943822Z",
     "start_time": "2022-07-06T12:32:27.776670Z"
    }
   },
   "outputs": [
    {
     "name": "stdout",
     "output_type": "stream",
     "text": [
      "710 not found, normal ?\n",
      "716 not found, normal ?\n",
      "1248 not found, normal ?\n",
      "722 not found, normal ?\n",
      "720 not found, normal ?\n",
      "711 not found, normal ?\n",
      "718 not found, normal ?\n",
      "717 not found, normal ?\n",
      "63 not found, normal ?\n",
      "719 not found, normal ?\n",
      "714 not found, normal ?\n",
      "709 not found, normal ?\n",
      "261 not found, normal ?\n",
      "724 not found, normal ?\n",
      "878 not found, normal ?\n",
      "712 not found, normal ?\n",
      "715 not found, normal ?\n",
      "723 not found, normal ?\n"
     ]
    },
    {
     "data": {
      "text/html": [
       "<div>\n",
       "<style scoped>\n",
       "    .dataframe tbody tr th:only-of-type {\n",
       "        vertical-align: middle;\n",
       "    }\n",
       "\n",
       "    .dataframe tbody tr th {\n",
       "        vertical-align: top;\n",
       "    }\n",
       "\n",
       "    .dataframe thead th {\n",
       "        text-align: right;\n",
       "    }\n",
       "</style>\n",
       "<table border=\"1\" class=\"dataframe\">\n",
       "  <thead>\n",
       "    <tr style=\"text-align: right;\">\n",
       "      <th></th>\n",
       "      <th>Best latent space dimension</th>\n",
       "      <th>Number of songs in learning dataset</th>\n",
       "    </tr>\n",
       "  </thead>\n",
       "  <tbody>\n",
       "    <tr>\n",
       "      <th>Learned parameters</th>\n",
       "      <td>16</td>\n",
       "      <td>784</td>\n",
       "    </tr>\n",
       "  </tbody>\n",
       "</table>\n",
       "</div>"
      ],
      "text/plain": [
       "                    Best latent space dimension  \\\n",
       "Learned parameters                           16   \n",
       "\n",
       "                    Number of songs in learning dataset  \n",
       "Learned parameters                                  784  "
      ]
     },
     "metadata": {},
     "output_type": "display_data"
    },
    {
     "name": "stdout",
     "output_type": "stream",
     "text": [
      "70 not found, normal ?\n",
      "Tested on 486 songs\n"
     ]
    },
    {
     "data": {
      "text/html": [
       "<div>\n",
       "<style scoped>\n",
       "    .dataframe tbody tr th:only-of-type {\n",
       "        vertical-align: middle;\n",
       "    }\n",
       "\n",
       "    .dataframe tbody tr th {\n",
       "        vertical-align: top;\n",
       "    }\n",
       "\n",
       "    .dataframe thead th {\n",
       "        text-align: right;\n",
       "    }\n",
       "</style>\n",
       "<table border=\"1\" class=\"dataframe\">\n",
       "  <thead>\n",
       "    <tr style=\"text-align: right;\">\n",
       "      <th></th>\n",
       "      <th>Precision 0.5</th>\n",
       "      <th>Recall 0.5</th>\n",
       "      <th>F measure 0.5</th>\n",
       "      <th>Precision 3</th>\n",
       "      <th>Recall 3</th>\n",
       "      <th>F measure 3</th>\n",
       "    </tr>\n",
       "  </thead>\n",
       "  <tbody>\n",
       "    <tr>\n",
       "      <th>Method:nmf_euc, autosimilarity: cosine</th>\n",
       "      <td>0.4071</td>\n",
       "      <td>0.4934</td>\n",
       "      <td>0.4346</td>\n",
       "      <td>0.5814</td>\n",
       "      <td>0.7038</td>\n",
       "      <td>0.6203</td>\n",
       "    </tr>\n",
       "  </tbody>\n",
       "</table>\n",
       "</div>"
      ],
      "text/plain": [
       "                                        Precision 0.5  Recall 0.5  \\\n",
       "Method:nmf_euc, autosimilarity: cosine         0.4071      0.4934   \n",
       "\n",
       "                                        F measure 0.5  Precision 3  Recall 3  \\\n",
       "Method:nmf_euc, autosimilarity: cosine         0.4346       0.5814    0.7038   \n",
       "\n",
       "                                        F measure 3  \n",
       "Method:nmf_euc, autosimilarity: cosine       0.6203  "
      ]
     },
     "metadata": {},
     "output_type": "display_data"
    }
   ],
   "source": [
    "learn_and_test_salami(feature = \"nn_log_mel_grill\", autosimilarity_type = \"cosine\", compression_technique = \"nmf_euc\")"
   ]
  },
  {
   "cell_type": "code",
   "execution_count": 8,
   "id": "0e0c1933",
   "metadata": {
    "ExecuteTime": {
     "end_time": "2022-07-06T13:01:37.800096Z",
     "start_time": "2022-07-06T12:37:59.944788Z"
    }
   },
   "outputs": [
    {
     "name": "stdout",
     "output_type": "stream",
     "text": [
      "710 not found, normal ?\n",
      "716 not found, normal ?\n",
      "1248 not found, normal ?\n",
      "722 not found, normal ?\n",
      "720 not found, normal ?\n",
      "711 not found, normal ?\n",
      "718 not found, normal ?\n",
      "717 not found, normal ?\n",
      "63 not found, normal ?\n",
      "719 not found, normal ?\n",
      "714 not found, normal ?\n",
      "709 not found, normal ?\n",
      "261 not found, normal ?\n",
      "724 not found, normal ?\n",
      "878 not found, normal ?\n",
      "712 not found, normal ?\n",
      "715 not found, normal ?\n",
      "723 not found, normal ?\n"
     ]
    },
    {
     "data": {
      "text/html": [
       "<div>\n",
       "<style scoped>\n",
       "    .dataframe tbody tr th:only-of-type {\n",
       "        vertical-align: middle;\n",
       "    }\n",
       "\n",
       "    .dataframe tbody tr th {\n",
       "        vertical-align: top;\n",
       "    }\n",
       "\n",
       "    .dataframe thead th {\n",
       "        text-align: right;\n",
       "    }\n",
       "</style>\n",
       "<table border=\"1\" class=\"dataframe\">\n",
       "  <thead>\n",
       "    <tr style=\"text-align: right;\">\n",
       "      <th></th>\n",
       "      <th>Best latent space dimension</th>\n",
       "      <th>Number of songs in learning dataset</th>\n",
       "    </tr>\n",
       "  </thead>\n",
       "  <tbody>\n",
       "    <tr>\n",
       "      <th>Learned parameters</th>\n",
       "      <td>16</td>\n",
       "      <td>784</td>\n",
       "    </tr>\n",
       "  </tbody>\n",
       "</table>\n",
       "</div>"
      ],
      "text/plain": [
       "                    Best latent space dimension  \\\n",
       "Learned parameters                           16   \n",
       "\n",
       "                    Number of songs in learning dataset  \n",
       "Learned parameters                                  784  "
      ]
     },
     "metadata": {},
     "output_type": "display_data"
    },
    {
     "name": "stdout",
     "output_type": "stream",
     "text": [
      "70 not found, normal ?\n",
      "Tested on 486 songs\n"
     ]
    },
    {
     "data": {
      "text/html": [
       "<div>\n",
       "<style scoped>\n",
       "    .dataframe tbody tr th:only-of-type {\n",
       "        vertical-align: middle;\n",
       "    }\n",
       "\n",
       "    .dataframe tbody tr th {\n",
       "        vertical-align: top;\n",
       "    }\n",
       "\n",
       "    .dataframe thead th {\n",
       "        text-align: right;\n",
       "    }\n",
       "</style>\n",
       "<table border=\"1\" class=\"dataframe\">\n",
       "  <thead>\n",
       "    <tr style=\"text-align: right;\">\n",
       "      <th></th>\n",
       "      <th>Precision 0.5</th>\n",
       "      <th>Recall 0.5</th>\n",
       "      <th>F measure 0.5</th>\n",
       "      <th>Precision 3</th>\n",
       "      <th>Recall 3</th>\n",
       "      <th>F measure 3</th>\n",
       "    </tr>\n",
       "  </thead>\n",
       "  <tbody>\n",
       "    <tr>\n",
       "      <th>Method:nmf_kl, autosimilarity: cosine</th>\n",
       "      <td>0.4176</td>\n",
       "      <td>0.5043</td>\n",
       "      <td>0.4438</td>\n",
       "      <td>0.5869</td>\n",
       "      <td>0.7097</td>\n",
       "      <td>0.6239</td>\n",
       "    </tr>\n",
       "  </tbody>\n",
       "</table>\n",
       "</div>"
      ],
      "text/plain": [
       "                                       Precision 0.5  Recall 0.5  \\\n",
       "Method:nmf_kl, autosimilarity: cosine         0.4176      0.5043   \n",
       "\n",
       "                                       F measure 0.5  Precision 3  Recall 3  \\\n",
       "Method:nmf_kl, autosimilarity: cosine         0.4438       0.5869    0.7097   \n",
       "\n",
       "                                       F measure 3  \n",
       "Method:nmf_kl, autosimilarity: cosine       0.6239  "
      ]
     },
     "metadata": {},
     "output_type": "display_data"
    }
   ],
   "source": [
    "learn_and_test_salami(feature = \"nn_log_mel_grill\", autosimilarity_type = \"cosine\", compression_technique = \"nmf_kl\")"
   ]
  },
  {
   "cell_type": "code",
   "execution_count": 9,
   "id": "8fd2f277",
   "metadata": {
    "ExecuteTime": {
     "end_time": "2022-07-06T15:19:38.529095Z",
     "start_time": "2022-07-06T13:01:37.804052Z"
    }
   },
   "outputs": [
    {
     "name": "stdout",
     "output_type": "stream",
     "text": [
      "710 not found, normal ?\n",
      "716 not found, normal ?\n",
      "1248 not found, normal ?\n",
      "722 not found, normal ?\n",
      "720 not found, normal ?\n",
      "711 not found, normal ?\n",
      "718 not found, normal ?\n",
      "717 not found, normal ?\n",
      "63 not found, normal ?\n",
      "719 not found, normal ?\n",
      "714 not found, normal ?\n",
      "709 not found, normal ?\n",
      "261 not found, normal ?\n",
      "724 not found, normal ?\n",
      "878 not found, normal ?\n",
      "712 not found, normal ?\n",
      "715 not found, normal ?\n",
      "723 not found, normal ?\n"
     ]
    },
    {
     "data": {
      "text/html": [
       "<div>\n",
       "<style scoped>\n",
       "    .dataframe tbody tr th:only-of-type {\n",
       "        vertical-align: middle;\n",
       "    }\n",
       "\n",
       "    .dataframe tbody tr th {\n",
       "        vertical-align: top;\n",
       "    }\n",
       "\n",
       "    .dataframe thead th {\n",
       "        text-align: right;\n",
       "    }\n",
       "</style>\n",
       "<table border=\"1\" class=\"dataframe\">\n",
       "  <thead>\n",
       "    <tr style=\"text-align: right;\">\n",
       "      <th></th>\n",
       "      <th>Best latent space dimension</th>\n",
       "      <th>Number of songs in learning dataset</th>\n",
       "    </tr>\n",
       "  </thead>\n",
       "  <tbody>\n",
       "    <tr>\n",
       "      <th>Learned parameters</th>\n",
       "      <td>16</td>\n",
       "      <td>784</td>\n",
       "    </tr>\n",
       "  </tbody>\n",
       "</table>\n",
       "</div>"
      ],
      "text/plain": [
       "                    Best latent space dimension  \\\n",
       "Learned parameters                           16   \n",
       "\n",
       "                    Number of songs in learning dataset  \n",
       "Learned parameters                                  784  "
      ]
     },
     "metadata": {},
     "output_type": "display_data"
    },
    {
     "name": "stdout",
     "output_type": "stream",
     "text": [
      "70 not found, normal ?\n",
      "Tested on 486 songs\n"
     ]
    },
    {
     "data": {
      "text/html": [
       "<div>\n",
       "<style scoped>\n",
       "    .dataframe tbody tr th:only-of-type {\n",
       "        vertical-align: middle;\n",
       "    }\n",
       "\n",
       "    .dataframe tbody tr th {\n",
       "        vertical-align: top;\n",
       "    }\n",
       "\n",
       "    .dataframe thead th {\n",
       "        text-align: right;\n",
       "    }\n",
       "</style>\n",
       "<table border=\"1\" class=\"dataframe\">\n",
       "  <thead>\n",
       "    <tr style=\"text-align: right;\">\n",
       "      <th></th>\n",
       "      <th>Precision 0.5</th>\n",
       "      <th>Recall 0.5</th>\n",
       "      <th>F measure 0.5</th>\n",
       "      <th>Precision 3</th>\n",
       "      <th>Recall 3</th>\n",
       "      <th>F measure 3</th>\n",
       "    </tr>\n",
       "  </thead>\n",
       "  <tbody>\n",
       "    <tr>\n",
       "      <th>Method:nmf_is, autosimilarity: cosine</th>\n",
       "      <td>0.396</td>\n",
       "      <td>0.5114</td>\n",
       "      <td>0.4352</td>\n",
       "      <td>0.5658</td>\n",
       "      <td>0.7303</td>\n",
       "      <td>0.6216</td>\n",
       "    </tr>\n",
       "  </tbody>\n",
       "</table>\n",
       "</div>"
      ],
      "text/plain": [
       "                                       Precision 0.5  Recall 0.5  \\\n",
       "Method:nmf_is, autosimilarity: cosine          0.396      0.5114   \n",
       "\n",
       "                                       F measure 0.5  Precision 3  Recall 3  \\\n",
       "Method:nmf_is, autosimilarity: cosine         0.4352       0.5658    0.7303   \n",
       "\n",
       "                                       F measure 3  \n",
       "Method:nmf_is, autosimilarity: cosine       0.6216  "
      ]
     },
     "metadata": {},
     "output_type": "display_data"
    }
   ],
   "source": [
    "learn_and_test_salami(feature = \"nn_log_mel_grill\", autosimilarity_type = \"cosine\", compression_technique = \"nmf_is\")"
   ]
  },
  {
   "cell_type": "code",
   "execution_count": 11,
   "id": "0414e4ce",
   "metadata": {
    "ExecuteTime": {
     "end_time": "2022-07-06T15:27:56.261997Z",
     "start_time": "2022-07-06T15:27:15.441568Z"
    }
   },
   "outputs": [
    {
     "name": "stdout",
     "output_type": "stream",
     "text": [
      "70 not found, normal ?\n",
      "Tested on 486 songs\n"
     ]
    },
    {
     "data": {
      "text/html": [
       "<div>\n",
       "<style scoped>\n",
       "    .dataframe tbody tr th:only-of-type {\n",
       "        vertical-align: middle;\n",
       "    }\n",
       "\n",
       "    .dataframe tbody tr th {\n",
       "        vertical-align: top;\n",
       "    }\n",
       "\n",
       "    .dataframe thead th {\n",
       "        text-align: right;\n",
       "    }\n",
       "</style>\n",
       "<table border=\"1\" class=\"dataframe\">\n",
       "  <thead>\n",
       "    <tr style=\"text-align: right;\">\n",
       "      <th></th>\n",
       "      <th>Precision 0.5</th>\n",
       "      <th>Recall 0.5</th>\n",
       "      <th>F measure 0.5</th>\n",
       "      <th>Precision 3</th>\n",
       "      <th>Recall 3</th>\n",
       "      <th>F measure 3</th>\n",
       "    </tr>\n",
       "  </thead>\n",
       "  <tbody>\n",
       "    <tr>\n",
       "      <th>Method:None, autosimilarity: cosine</th>\n",
       "      <td>0.4485</td>\n",
       "      <td>0.3709</td>\n",
       "      <td>0.3917</td>\n",
       "      <td>0.6378</td>\n",
       "      <td>0.5294</td>\n",
       "      <td>0.5585</td>\n",
       "    </tr>\n",
       "  </tbody>\n",
       "</table>\n",
       "</div>"
      ],
      "text/plain": [
       "                                     Precision 0.5  Recall 0.5  F measure 0.5  \\\n",
       "Method:None, autosimilarity: cosine         0.4485      0.3709         0.3917   \n",
       "\n",
       "                                     Precision 3  Recall 3  F measure 3  \n",
       "Method:None, autosimilarity: cosine       0.6378    0.5294       0.5585  "
      ]
     },
     "metadata": {},
     "output_type": "display_data"
    }
   ],
   "source": [
    "fixed_conditions_results_salami(feature = \"nn_log_mel_grill\", autosimilarity_type = \"cosine\", compression_technique = None)"
   ]
  },
  {
   "cell_type": "code",
   "execution_count": 12,
   "id": "47fe0068",
   "metadata": {
    "ExecuteTime": {
     "end_time": "2022-07-06T15:28:40.722860Z",
     "start_time": "2022-07-06T15:28:01.419880Z"
    }
   },
   "outputs": [
    {
     "name": "stdout",
     "output_type": "stream",
     "text": [
      "70 not found, normal ?\n",
      "Tested on 486 songs\n"
     ]
    },
    {
     "data": {
      "text/html": [
       "<div>\n",
       "<style scoped>\n",
       "    .dataframe tbody tr th:only-of-type {\n",
       "        vertical-align: middle;\n",
       "    }\n",
       "\n",
       "    .dataframe tbody tr th {\n",
       "        vertical-align: top;\n",
       "    }\n",
       "\n",
       "    .dataframe thead th {\n",
       "        text-align: right;\n",
       "    }\n",
       "</style>\n",
       "<table border=\"1\" class=\"dataframe\">\n",
       "  <thead>\n",
       "    <tr style=\"text-align: right;\">\n",
       "      <th></th>\n",
       "      <th>Precision 0.5</th>\n",
       "      <th>Recall 0.5</th>\n",
       "      <th>F measure 0.5</th>\n",
       "      <th>Precision 3</th>\n",
       "      <th>Recall 3</th>\n",
       "      <th>F measure 3</th>\n",
       "    </tr>\n",
       "  </thead>\n",
       "  <tbody>\n",
       "    <tr>\n",
       "      <th>Method:None, autosimilarity: cosine</th>\n",
       "      <td>0.4559</td>\n",
       "      <td>0.3205</td>\n",
       "      <td>0.3664</td>\n",
       "      <td>0.6327</td>\n",
       "      <td>0.4425</td>\n",
       "      <td>0.5072</td>\n",
       "    </tr>\n",
       "  </tbody>\n",
       "</table>\n",
       "</div>"
      ],
      "text/plain": [
       "                                     Precision 0.5  Recall 0.5  F measure 0.5  \\\n",
       "Method:None, autosimilarity: cosine         0.4559      0.3205         0.3664   \n",
       "\n",
       "                                     Precision 3  Recall 3  F measure 3  \n",
       "Method:None, autosimilarity: cosine       0.6327    0.4425       0.5072  "
      ]
     },
     "metadata": {},
     "output_type": "display_data"
    }
   ],
   "source": [
    "fixed_conditions_results_salami(feature = \"log_mel_grill\", autosimilarity_type = \"cosine\", compression_technique = None)"
   ]
  }
 ],
 "metadata": {
  "kernelspec": {
   "display_name": "Python 3 (ipykernel)",
   "language": "python",
   "name": "python3"
  },
  "language_info": {
   "codemirror_mode": {
    "name": "ipython",
    "version": 3
   },
   "file_extension": ".py",
   "mimetype": "text/x-python",
   "name": "python",
   "nbconvert_exporter": "python",
   "pygments_lexer": "ipython3",
   "version": "3.8.12"
  },
  "toc": {
   "base_numbering": 1,
   "nav_menu": {},
   "number_sections": true,
   "sideBar": true,
   "skip_h1_title": false,
   "title_cell": "Table of Contents",
   "title_sidebar": "Contents",
   "toc_cell": false,
   "toc_position": {},
   "toc_section_display": true,
   "toc_window_display": false
  },
  "varInspector": {
   "cols": {
    "lenName": 16,
    "lenType": 16,
    "lenVar": 40
   },
   "kernels_config": {
    "python": {
     "delete_cmd_postfix": "",
     "delete_cmd_prefix": "del ",
     "library": "var_list.py",
     "varRefreshCmd": "print(var_dic_list())"
    },
    "r": {
     "delete_cmd_postfix": ") ",
     "delete_cmd_prefix": "rm(",
     "library": "var_list.r",
     "varRefreshCmd": "cat(var_dic_list()) "
    }
   },
   "types_to_exclude": [
    "module",
    "function",
    "builtin_function_or_method",
    "instance",
    "_Feature"
   ],
   "window_display": false
  }
 },
 "nbformat": 4,
 "nbformat_minor": 5
}
