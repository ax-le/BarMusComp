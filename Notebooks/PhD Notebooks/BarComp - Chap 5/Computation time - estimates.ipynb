{
 "cells": [
  {
   "cell_type": "code",
   "execution_count": 1,
   "id": "b3e353df",
   "metadata": {
    "ExecuteTime": {
     "end_time": "2022-07-17T20:12:52.515839Z",
     "start_time": "2022-07-17T20:12:49.927622Z"
    }
   },
   "outputs": [],
   "source": [
    "import barmuscomp.ae as ae\n",
    "import barmuscomp.lra as lra\n",
    "import barmuscomp.scripts.overall_scripts as scr"
   ]
  },
  {
   "cell_type": "code",
   "execution_count": 9,
   "id": "f97eac92",
   "metadata": {
    "ExecuteTime": {
     "end_time": "2022-07-17T20:14:05.058559Z",
     "start_time": "2022-07-17T20:14:05.039575Z"
    }
   },
   "outputs": [],
   "source": [
    "feature = \"nn_log_mel_grill\"\n",
    "beta = 2\n",
    "subdivision = 96\n",
    "hop_length = 32\n",
    "hop_length_seconds = hop_length/44100\n",
    "song_name = 1\n",
    "n_epochs = 1000"
   ]
  },
  {
   "cell_type": "code",
   "execution_count": 3,
   "id": "e6f3f846",
   "metadata": {
    "ExecuteTime": {
     "end_time": "2022-07-17T20:12:53.318126Z",
     "start_time": "2022-07-17T20:12:52.534773Z"
    }
   },
   "outputs": [],
   "source": [
    "spectrogram, bars, references_segments = scr.load_spec_annot_song_RWC(song_name, feature, hop_length)"
   ]
  },
  {
   "cell_type": "code",
   "execution_count": 4,
   "id": "32453b6d",
   "metadata": {
    "ExecuteTime": {
     "end_time": "2022-07-17T20:12:56.183217Z",
     "start_time": "2022-07-17T20:12:53.320075Z"
    }
   },
   "outputs": [
    {
     "data": {
      "text/plain": [
       "array([[0.00000000e+00, 0.00000000e+00, 0.00000000e+00, ...,\n",
       "        1.03762850e-01, 0.00000000e+00, 0.00000000e+00],\n",
       "       [9.16304581e-02, 1.94602429e+00, 1.56974121e+00, ...,\n",
       "        0.00000000e+00, 5.38851100e+00, 0.00000000e+00],\n",
       "       [0.00000000e+00, 0.00000000e+00, 0.00000000e+00, ...,\n",
       "        0.00000000e+00, 2.22088013e+00, 0.00000000e+00],\n",
       "       ...,\n",
       "       [0.00000000e+00, 7.78952905e-02, 3.29432564e-03, ...,\n",
       "        0.00000000e+00, 2.77072589e-04, 6.69491767e-03],\n",
       "       [0.00000000e+00, 3.50803777e-09, 0.00000000e+00, ...,\n",
       "        0.00000000e+00, 0.00000000e+00, 0.00000000e+00],\n",
       "       [0.00000000e+00, 0.00000000e+00, 0.00000000e+00, ...,\n",
       "        0.00000000e+00, 0.00000000e+00, 0.00000000e+00]])"
      ]
     },
     "execution_count": 4,
     "metadata": {},
     "output_type": "execute_result"
    }
   ],
   "source": [
    "lra.get_nmf_projection(spectrogram, 16, bars, beta=2, init='nndsvd')"
   ]
  },
  {
   "cell_type": "code",
   "execution_count": 5,
   "id": "fb77f588",
   "metadata": {
    "ExecuteTime": {
     "end_time": "2022-07-17T20:13:01.775143Z",
     "start_time": "2022-07-17T20:12:56.185212Z"
    }
   },
   "outputs": [
    {
     "data": {
      "text/plain": [
       "array([[1.90658661e+00, 4.00915023e-06, 1.00000000e-12, ...,\n",
       "        1.00000000e-12, 5.73123683e-04, 1.60226727e-01],\n",
       "       [5.85950845e-01, 8.91730482e-01, 1.24921716e+00, ...,\n",
       "        8.28880790e-07, 1.08380840e+00, 1.00000000e-12],\n",
       "       [1.06081703e+00, 1.21358752e+00, 1.00000000e-12, ...,\n",
       "        1.00000000e-12, 2.93755214e-01, 3.04314936e-02],\n",
       "       ...,\n",
       "       [2.94634253e-07, 1.57916903e-02, 1.32200968e-05, ...,\n",
       "        1.00000000e-12, 6.85865952e-06, 1.00000000e-12],\n",
       "       [1.00000000e-12, 1.04918810e-09, 1.34561344e-11, ...,\n",
       "        1.00000000e-12, 1.00000000e-12, 1.00000000e-12],\n",
       "       [1.00000000e-12, 1.00000000e-12, 1.00000000e-12, ...,\n",
       "        1.00000000e-12, 1.00000000e-12, 1.00000000e-12]])"
      ]
     },
     "execution_count": 5,
     "metadata": {},
     "output_type": "execute_result"
    }
   ],
   "source": [
    "lra.get_nmf_projection(spectrogram, 16, bars, beta=1, init='nndsvd')"
   ]
  },
  {
   "cell_type": "code",
   "execution_count": 6,
   "id": "d6eb2a9a",
   "metadata": {
    "ExecuteTime": {
     "end_time": "2022-07-17T20:13:14.383290Z",
     "start_time": "2022-07-17T20:13:01.777138Z"
    }
   },
   "outputs": [
    {
     "data": {
      "text/plain": [
       "array([[1.12363693e+00, 8.46958108e-11, 3.30654038e-12, ...,\n",
       "        1.00000000e-12, 6.76538507e-03, 7.92861262e-02],\n",
       "       [3.13670913e-01, 3.22223359e-03, 1.34744399e+00, ...,\n",
       "        1.05516447e-06, 3.02856368e-02, 1.00000000e-12],\n",
       "       [4.82447388e-01, 1.54592823e-05, 2.69596126e-09, ...,\n",
       "        1.33565886e-12, 2.69169929e-04, 1.61004144e-01],\n",
       "       ...,\n",
       "       [7.23633374e-09, 1.87714737e-03, 6.55204578e-06, ...,\n",
       "        1.00000000e-12, 1.00000000e-12, 2.62384183e-11],\n",
       "       [1.00000000e-12, 2.90273293e-11, 1.00000000e-12, ...,\n",
       "        1.00000000e-12, 1.00000000e-12, 1.00000000e-12],\n",
       "       [1.00000000e-12, 1.00000000e-12, 1.00000000e-12, ...,\n",
       "        1.00000000e-12, 1.00000000e-12, 1.00000000e-12]])"
      ]
     },
     "execution_count": 6,
     "metadata": {},
     "output_type": "execute_result"
    }
   ],
   "source": [
    "lra.get_nmf_projection(spectrogram, 16, bars, beta=0, init='nndsvd')"
   ]
  },
  {
   "cell_type": "code",
   "execution_count": 7,
   "id": "4669a857",
   "metadata": {
    "ExecuteTime": {
     "end_time": "2022-07-17T20:13:14.463039Z",
     "start_time": "2022-07-17T20:13:14.385247Z"
    }
   },
   "outputs": [
    {
     "data": {
      "text/plain": [
       "array([[186.90438875, 103.20838612, -82.62483189, ..., -25.15377875,\n",
       "         10.18204541,  47.84777209],\n",
       "       [243.58076856, 129.88622473,   5.56038587, ...,   0.73668123,\n",
       "         33.39242244, -49.44379938],\n",
       "       [165.20279996,  77.13956352, -91.27860363, ...,  -7.41738492,\n",
       "         40.24961178,  18.23599223],\n",
       "       ...,\n",
       "       [498.90228634, 201.54387217, -26.91400511, ..., -29.81364509,\n",
       "        -18.815144  ,  26.23740142],\n",
       "       [499.37509028, 202.58665479, -27.19970402, ..., -30.00683214,\n",
       "        -18.72479651,  26.40070424],\n",
       "       [499.37509031, 202.58665486, -27.19970405, ..., -30.00683214,\n",
       "        -18.72479651,  26.40070425]])"
      ]
     },
     "execution_count": 7,
     "metadata": {},
     "output_type": "execute_result"
    }
   ],
   "source": [
    "lra.get_pca_projection(spectrogram, 16, bars)"
   ]
  },
  {
   "cell_type": "code",
   "execution_count": 12,
   "id": "d0db5518",
   "metadata": {
    "ExecuteTime": {
     "end_time": "2022-07-17T20:15:17.598718Z",
     "start_time": "2022-07-17T20:14:21.158149Z"
    }
   },
   "outputs": [
    {
     "name": "stdout",
     "output_type": "stream",
     "text": [
      "Using cpu\n"
     ]
    }
   ],
   "source": [
    "ae.get_fc_ssae_projection(spectrogram, 16, bars, n_epochs = 1000, lr = 1e-3)"
   ]
  },
  {
   "cell_type": "code",
   "execution_count": 14,
   "id": "b9025959",
   "metadata": {
    "ExecuteTime": {
     "end_time": "2022-07-17T20:23:55.712900Z",
     "start_time": "2022-07-17T20:17:10.443548Z"
    },
    "scrolled": false
   },
   "outputs": [
    {
     "name": "stdout",
     "output_type": "stream",
     "text": [
      "Using cpu\n"
     ]
    }
   ],
   "source": [
    "ae.get_conv_ssae_projection(spectrogram, 16, bars, n_epochs = 1000, lr = 1e-3, beta = 2)"
   ]
  },
  {
   "cell_type": "code",
   "execution_count": 15,
   "id": "e2bcb0d0",
   "metadata": {
    "ExecuteTime": {
     "end_time": "2022-07-17T20:30:24.757917Z",
     "start_time": "2022-07-17T20:23:56.406485Z"
    }
   },
   "outputs": [
    {
     "name": "stdout",
     "output_type": "stream",
     "text": [
      "Using cpu\n"
     ]
    }
   ],
   "source": [
    "ae.get_conv_ssae_projection(spectrogram, 16, bars, n_epochs = 1000, lr = 1e-3, beta = 1)"
   ]
  }
 ],
 "metadata": {
  "kernelspec": {
   "display_name": "Python 3 (ipykernel)",
   "language": "python",
   "name": "python3"
  },
  "language_info": {
   "codemirror_mode": {
    "name": "ipython",
    "version": 3
   },
   "file_extension": ".py",
   "mimetype": "text/x-python",
   "name": "python",
   "nbconvert_exporter": "python",
   "pygments_lexer": "ipython3",
   "version": "3.8.12"
  },
  "toc": {
   "base_numbering": 1,
   "nav_menu": {},
   "number_sections": true,
   "sideBar": true,
   "skip_h1_title": false,
   "title_cell": "Table of Contents",
   "title_sidebar": "Contents",
   "toc_cell": false,
   "toc_position": {},
   "toc_section_display": true,
   "toc_window_display": false
  },
  "varInspector": {
   "cols": {
    "lenName": 16,
    "lenType": 16,
    "lenVar": 40
   },
   "kernels_config": {
    "python": {
     "delete_cmd_postfix": "",
     "delete_cmd_prefix": "del ",
     "library": "var_list.py",
     "varRefreshCmd": "print(var_dic_list())"
    },
    "r": {
     "delete_cmd_postfix": ") ",
     "delete_cmd_prefix": "rm(",
     "library": "var_list.r",
     "varRefreshCmd": "cat(var_dic_list()) "
    }
   },
   "types_to_exclude": [
    "module",
    "function",
    "builtin_function_or_method",
    "instance",
    "_Feature"
   ],
   "window_display": false
  }
 },
 "nbformat": 4,
 "nbformat_minor": 5
}
